{
 "cells": [
  {
   "cell_type": "markdown",
   "metadata": {},
   "source": [
    "<b> Conditional Statements <b> "
   ]
  },
  {
   "cell_type": "markdown",
   "metadata": {},
   "source": [
    "<img width=\"200\" height=\"200\" src=\"./if-statement.jpg\" >"
   ]
  },
  {
   "cell_type": "code",
   "execution_count": 3,
   "metadata": {},
   "outputs": [
    {
     "name": "stdout",
     "output_type": "stream",
     "text": [
      "Enter a number : 100\n",
      "I am always there !! \n"
     ]
    }
   ],
   "source": [
    "number1 = int(input(\"Enter a number : \"))\n",
    "\n",
    "if number1 == 5:\n",
    "    print(\"The number entered is 5 !!\")\n",
    "    print(\"*********\")\n",
    "\n",
    "print(\"I am always there !! \")"
   ]
  },
  {
   "cell_type": "code",
   "execution_count": 6,
   "metadata": {},
   "outputs": [
    {
     "name": "stdout",
     "output_type": "stream",
     "text": [
      "Enter a number : 4\n",
      "The number entered is less than 5 and it is  4\n",
      "*********\n",
      "I am always there !! \n"
     ]
    }
   ],
   "source": [
    "number1 = int(input(\"Enter a number : \"))\n",
    "\n",
    "if number1 <= 5:\n",
    "    print(\"The number entered is less than 5 and it is \" , number1) # if block statements\n",
    "    print(\"*********\")\n",
    "else:\n",
    "    print(\"The number entered is greater than 5 and it is  \" , number1) # else block statements\n",
    "    print(\"*********\")\n",
    "print(\"I am always there !! \")"
   ]
  },
  {
   "cell_type": "code",
   "execution_count": 10,
   "metadata": {},
   "outputs": [
    {
     "name": "stdout",
     "output_type": "stream",
     "text": [
      "Enter a number : 500\n",
      "The number entered is greater than 5 and it is   500\n",
      "*********\n",
      "I am always there !! \n"
     ]
    }
   ],
   "source": [
    "#Chained If ...\n",
    "\n",
    "number1 = int(input(\"Enter a number : \"))\n",
    "\n",
    "if number1 == 5:\n",
    "    print(\"The number entered is equal to 5\") #if block statements\n",
    "    print(\"*********\")\n",
    "elif number1 <5:\n",
    "    print(\"The number entered is less than 5 and it is  \" , number1) # elif block statements\n",
    "    print(\"*********\")\n",
    "else:\n",
    "    print(\"The number entered is greater than 5 and it is  \" , number1) # else block statements\n",
    "    print(\"*********\")\n",
    "print(\"I am always there !! \")"
   ]
  },
  {
   "cell_type": "code",
   "execution_count": 15,
   "metadata": {},
   "outputs": [
    {
     "name": "stdout",
     "output_type": "stream",
     "text": [
      "Enter your marks:20\n",
      "Repeat !!\n",
      "Results are above\n"
     ]
    }
   ],
   "source": [
    "marks = int(input(\"Enter your marks:\"))\n",
    "\n",
    "if marks > 100 or marks < 0:\n",
    "    print(\"Invalid mark!!\")\n",
    "else:\n",
    "    if marks >=80:\n",
    "        print(\"Congrats ... Distinction\")\n",
    "    elif marks >=60:\n",
    "        print(\"First class\")\n",
    "    elif marks >=35:\n",
    "        print(\"Second class\")\n",
    "    else:\n",
    "        print(\"Repeat !!\")\n",
    "print(\"Results are above\")"
   ]
  },
  {
   "cell_type": "code",
   "execution_count": 16,
   "metadata": {},
   "outputs": [
    {
     "name": "stdout",
     "output_type": "stream",
     "text": [
      "Enter a number : 50\n"
     ]
    },
    {
     "ename": "TypeError",
     "evalue": "'>' not supported between instances of 'str' and 'int'",
     "output_type": "error",
     "traceback": [
      "\u001b[1;31m---------------------------------------------------------------------------\u001b[0m",
      "\u001b[1;31mTypeError\u001b[0m                                 Traceback (most recent call last)",
      "\u001b[1;32m<ipython-input-16-24403bc44804>\u001b[0m in \u001b[0;36m<module>\u001b[1;34m\u001b[0m\n\u001b[0;32m      1\u001b[0m \u001b[0mnumber1\u001b[0m \u001b[1;33m=\u001b[0m \u001b[0minput\u001b[0m\u001b[1;33m(\u001b[0m\u001b[1;34m\"Enter a number : \"\u001b[0m\u001b[1;33m)\u001b[0m\u001b[1;33m\u001b[0m\u001b[1;33m\u001b[0m\u001b[0m\n\u001b[0;32m      2\u001b[0m \u001b[1;33m\u001b[0m\u001b[0m\n\u001b[1;32m----> 3\u001b[1;33m \u001b[1;32mif\u001b[0m \u001b[0mnumber1\u001b[0m \u001b[1;33m>\u001b[0m \u001b[1;36m5\u001b[0m\u001b[1;33m:\u001b[0m\u001b[1;33m\u001b[0m\u001b[1;33m\u001b[0m\u001b[0m\n\u001b[0m\u001b[0;32m      4\u001b[0m     \u001b[0mprint\u001b[0m\u001b[1;33m(\u001b[0m\u001b[1;34m\"The number entered is 5 !!\"\u001b[0m\u001b[1;33m)\u001b[0m\u001b[1;33m\u001b[0m\u001b[1;33m\u001b[0m\u001b[0m\n\u001b[0;32m      5\u001b[0m     \u001b[0mprint\u001b[0m\u001b[1;33m(\u001b[0m\u001b[1;34m\"*********\"\u001b[0m\u001b[1;33m)\u001b[0m\u001b[1;33m\u001b[0m\u001b[1;33m\u001b[0m\u001b[0m\n",
      "\u001b[1;31mTypeError\u001b[0m: '>' not supported between instances of 'str' and 'int'"
     ]
    }
   ],
   "source": [
    "number1 = input(\"Enter a number : \")\n",
    "\n",
    "if number1 > 5:\n",
    "    print(\"The number entered is 5 !!\")\n",
    "    print(\"*********\")\n",
    "\n",
    "print(\"I am always there !! \")"
   ]
  },
  {
   "cell_type": "code",
   "execution_count": 20,
   "metadata": {},
   "outputs": [
    {
     "name": "stdout",
     "output_type": "stream",
     "text": [
      "Enter a number : 50\n",
      "The number entered is 5 !!\n",
      "*********\n",
      "I am always there !! \n"
     ]
    }
   ],
   "source": [
    "try:\n",
    "    number1 = int(input(\"Enter a number : \"))\n",
    "    if number1 > 5:\n",
    "        print(\"The number entered is 5 !!\")\n",
    "        print(\"*********\")\n",
    "except Exception as e:\n",
    "    print(\"SOmething went wrong!!\", e)\n",
    "finally:\n",
    "    print(\"I am always there !! \")"
   ]
  },
  {
   "cell_type": "code",
   "execution_count": null,
   "metadata": {},
   "outputs": [],
   "source": []
  }
 ],
 "metadata": {
  "kernelspec": {
   "display_name": "Python 3",
   "language": "python",
   "name": "python3"
  },
  "language_info": {
   "codemirror_mode": {
    "name": "ipython",
    "version": 3
   },
   "file_extension": ".py",
   "mimetype": "text/x-python",
   "name": "python",
   "nbconvert_exporter": "python",
   "pygments_lexer": "ipython3",
   "version": "3.8.5"
  }
 },
 "nbformat": 4,
 "nbformat_minor": 4
}
