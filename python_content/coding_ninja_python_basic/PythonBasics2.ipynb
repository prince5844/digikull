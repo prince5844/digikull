{
 "cells": [
  {
   "cell_type": "markdown",
   "source": [
    "# Python Basics 2"
   ],
   "metadata": {}
  },
  {
   "cell_type": "markdown",
   "source": [
    "## Contents:\r\n",
    "* Functions\r\n",
    "* Lists \r\n",
    "* Searching and Sorting"
   ],
   "metadata": {}
  },
  {
   "cell_type": "markdown",
   "source": [
    "## Functions"
   ],
   "metadata": {}
  },
  {
   "cell_type": "markdown",
   "source": [
    "### Introduction"
   ],
   "metadata": {}
  },
  {
   "cell_type": "code",
   "execution_count": 112,
   "source": [
    "# Programme to choose N objects out of R -nCr\r\n",
    "n = int(input())\r\n",
    "r = int(input())\r\n",
    "\r\n",
    "n_fact = 1\r\n",
    "for i in range(1,n+1):\r\n",
    "    n_fact = n_fact * i\r\n",
    "\r\n",
    "r_fact = 1\r\n",
    "for i in range(1,r+1):\r\n",
    "    r_fact = r_fact * i\r\n",
    "\r\n",
    "n_r_fact = 1\r\n",
    "for i in range(1,n-r+1):\r\n",
    "    n_r_fact = n_r_fact * i\r\n",
    "\r\n",
    "ans = n_fact//(r_fact * n_r_fact)\r\n",
    "print(ans)\r\n",
    "\r\n"
   ],
   "outputs": [
    {
     "output_type": "stream",
     "name": "stdout",
     "text": [
      "6\n"
     ]
    }
   ],
   "metadata": {}
  },
  {
   "cell_type": "code",
   "execution_count": null,
   "source": [
    "# Creating a function so that we do not repeat the code again and again\r\n",
    "def fact(n):\r\n",
    "    n_fact = 1\r\n",
    "    for i in range(1,n+1):\r\n",
    "        n_fact = n_fact * i\r\n",
    "    return n_fact"
   ],
   "outputs": [],
   "metadata": {}
  },
  {
   "cell_type": "code",
   "execution_count": null,
   "source": [
    "# Calling and printing a function\r\n",
    "a = fact(3)\r\n",
    "print(a)"
   ],
   "outputs": [
    {
     "output_type": "stream",
     "name": "stdout",
     "text": [
      "6\n"
     ]
    }
   ],
   "metadata": {}
  },
  {
   "cell_type": "code",
   "execution_count": null,
   "source": [
    "# Printing the chosoing options using the fact function\r\n",
    "n = int(input())\r\n",
    "r = int(input())\r\n",
    "n_fact = fact(n)\r\n",
    "r_fact = fact(r)\r\n",
    "n_r_fact = fact(n-r)\r\n",
    "ans = n_fact//(r_fact * n_r_fact)\r\n",
    "print(ans)\r\n"
   ],
   "outputs": [
    {
     "output_type": "stream",
     "name": "stdout",
     "text": [
      "6\n"
     ]
    }
   ],
   "metadata": {}
  },
  {
   "cell_type": "markdown",
   "source": [
    "### Question 1"
   ],
   "metadata": {}
  },
  {
   "cell_type": "markdown",
   "source": [
    "Check weather a function is prime or not"
   ],
   "metadata": {}
  },
  {
   "cell_type": "code",
   "execution_count": null,
   "source": [
    "def isPrime(n):\r\n",
    "    for d in range(2, n):\r\n",
    "        if n % d == 0:\r\n",
    "            break\r\n",
    "    else:\r\n",
    "        return True\r\n",
    "    # we are returning the flase here as the function has tu return either true or false - Till above the function only deals with True. if it comes to return True in the for\r\n",
    "    # it will terimate there only, but if the fuction breaks(on if statement) it will return false i.e. the given number was not a prime. \r\n",
    "    return False\r\n",
    "\r\n",
    "# Driver Code\r\n",
    "a = isPrime(7)\r\n",
    "print(a)"
   ],
   "outputs": [
    {
     "output_type": "stream",
     "name": "stdout",
     "text": [
      "True\n"
     ]
    }
   ],
   "metadata": {}
  },
  {
   "cell_type": "markdown",
   "source": [
    "Prints all Prime number from 2 to n\n"
   ],
   "metadata": {}
  },
  {
   "cell_type": "code",
   "execution_count": null,
   "source": [
    "def primeFrom2toN2(n):\r\n",
    "    for k in range(2,n+1):\r\n",
    "        # check if k is prime and in case it is prime print k\r\n",
    "        is_k_prime = isPrime(k)\r\n",
    "        if(is_k_prime):\r\n",
    "            print(k)\r\n",
    "# Driver Code\r\n",
    "primeFrom2toN2(10)"
   ],
   "outputs": [
    {
     "output_type": "stream",
     "name": "stdout",
     "text": [
      "2\n",
      "3\n",
      "5\n",
      "7\n"
     ]
    }
   ],
   "metadata": {}
  },
  {
   "cell_type": "markdown",
   "source": [
    "### Function for calculating nCr"
   ],
   "metadata": {}
  },
  {
   "cell_type": "code",
   "execution_count": null,
   "source": [
    "# We are using the prime function here\r\n",
    "def ncr(n, r):\r\n",
    "    n = int(input())\r\n",
    "    r = int(input())\r\n",
    "    n_fact = fact(n)\r\n",
    "    r_fact = fact(r)\r\n",
    "    n_r_fact = fact(n-r)\r\n",
    "    ans = n_fact//(r_fact * n_r_fact)\r\n",
    "    return ans"
   ],
   "outputs": [],
   "metadata": {}
  },
  {
   "cell_type": "code",
   "execution_count": null,
   "source": [
    "def func(a):\r\n",
    "    a = a + 10\r\n",
    "    return a\r\n",
    "a = 5\r\n",
    "func(a)\r\n",
    "print(a)"
   ],
   "outputs": [
    {
     "output_type": "stream",
     "name": "stdout",
     "text": [
      "5\n"
     ]
    }
   ],
   "metadata": {}
  },
  {
   "cell_type": "markdown",
   "source": [
    "### DEFAULT ARGUMENTS - Fuctions with variable number of Arguments"
   ],
   "metadata": {}
  },
  {
   "cell_type": "code",
   "execution_count": null,
   "source": [
    "def sum0(a,b):\r\n",
    "    return a + b\r\n",
    "\r\n",
    "def sum1(a,b,c):\r\n",
    "    return a + b + c\r\n",
    "# but if we don't want to make a function 2 times then we can...\r\n",
    "# ALL NON DEFAULT ARGUMNETS SHOULD BE BEFORE ARGUMENTS WITH DEFAULT ARGUMNETS\r\n",
    "\r\n",
    "def sum(a,b,c=0):\r\n",
    "    return a + b + c\r\n",
    "\r\n",
    "print(sum(2,3,4))\r\n",
    "print(sum(2,3))\r\n"
   ],
   "outputs": [
    {
     "output_type": "stream",
     "name": "stdout",
     "text": [
      "9\n",
      "5\n"
     ]
    }
   ],
   "metadata": {}
  },
  {
   "cell_type": "markdown",
   "source": [
    "### Variable Length Input"
   ],
   "metadata": {}
  },
  {
   "cell_type": "markdown",
   "source": [
    "We can pass as many inputs as we want with the help of the more argument insid the function - It is saved inside a Tuple(more inside Python Basics 3)"
   ],
   "metadata": {}
  },
  {
   "cell_type": "code",
   "execution_count": 6,
   "source": [
    "def varInput(a,b, *more):\r\n",
    "    print(type(more))\r\n",
    "    return(a,b, more)\r\n",
    "\r\n",
    "print(varInput(2,3))\r\n",
    "print(varInput(2,3,4,5,6))\r\n"
   ],
   "outputs": [
    {
     "output_type": "stream",
     "name": "stdout",
     "text": [
      "<class 'tuple'>\n",
      "(2, 3, ())\n",
      "<class 'tuple'>\n",
      "(2, 3, (4, 5, 6))\n"
     ]
    }
   ],
   "metadata": {}
  },
  {
   "cell_type": "code",
   "execution_count": 10,
   "source": [
    "def Sum(a,b,*more):\r\n",
    "    ans = a + b\r\n",
    "    for i in more:\r\n",
    "        ans += i\r\n",
    "    return ans\r\n",
    "\r\n",
    "a = Sum(1,2)\r\n",
    "b = Sum(1,2,3,5,11,7,8)\r\n",
    "\r\n",
    "print('a is:',a)\r\n",
    "print('b is:',b)"
   ],
   "outputs": [
    {
     "output_type": "stream",
     "name": "stdout",
     "text": [
      "a is: 3\n",
      "b is: 37\n"
     ]
    }
   ],
   "metadata": {}
  },
  {
   "cell_type": "markdown",
   "source": [
    "### Variable Length Output"
   ],
   "metadata": {}
  },
  {
   "cell_type": "code",
   "execution_count": 18,
   "source": [
    "def sum_diff(a,b):\r\n",
    "    return a+b, a-b\r\n",
    "a = sum_diff(5,4)\r\n",
    "print(\"The sum and the diffrence respecively are:\", a)"
   ],
   "outputs": [
    {
     "output_type": "stream",
     "name": "stdout",
     "text": [
      "The sum and the diffrence respecively are: (9, 1)\n"
     ]
    }
   ],
   "metadata": {}
  },
  {
   "cell_type": "code",
   "execution_count": 20,
   "source": [
    "def sum_diff(a,b):\r\n",
    "    return a+b, a-b\r\n",
    "a, b = sum_diff(5,4)\r\n",
    "print(\"Sum is:\", a,\"Difference is:\",b)"
   ],
   "outputs": [
    {
     "output_type": "stream",
     "name": "stdout",
     "text": [
      "Sum is: 9 Difference is: 1\n"
     ]
    }
   ],
   "metadata": {}
  },
  {
   "cell_type": "code",
   "execution_count": 1,
   "source": [
    "def sum_multiply(a,b,*more):\r\n",
    "    sum_value = a+b\r\n",
    "    m_value = a*b\r\n",
    "    for i in more:\r\n",
    "        sum_value += i\r\n",
    "        m_value*=i\r\n",
    "    return sum_value,m_value\r\n",
    "s_m = sum_multiply(2,3,4)\r\n",
    "print(s_m)"
   ],
   "outputs": [
    {
     "output_type": "stream",
     "name": "stdout",
     "text": [
      "(9, 24)\n"
     ]
    }
   ],
   "metadata": {}
  },
  {
   "cell_type": "markdown",
   "source": [
    "### Question 2"
   ],
   "metadata": {}
  },
  {
   "cell_type": "markdown",
   "source": [
    "Fahrenheit to Celsius Function\n",
    "\n",
    "Given three values - Start Fahrenheit Value (S), End Fahrenheit value (E) and Step Size (W), you need to convert all Fahrenheit values from Start to End at the gap of W, into their corresponding Celsius values and print the table.  \n",
    "\n",
    "Input Format :  \n",
    "3 integers - S, E and W respectively\n",
    "\n",
    "Output Format :  \n",
    "Fahrenheit to Celsius conversion table. One line for every Fahrenheit and Celsius Fahrenheit value. Fahrenheit value and its corresponding Celsius value should be separate by tab   (\"\\t\")  \n",
    "\n",
    "Constraints :  \n",
    "0 <= S <= 1000  \n",
    "0 <= E <= 1000  \n",
    "0 <= W <= 1000  \n",
    "\n",
    "Sample Input 1:  \n",
    "0  \n",
    "100  \n",
    "20  \n",
    "\n",
    "Sample Output 1:  \n",
    "0   -17  \n",
    "20  -6  \n",
    "40  4  \n",
    "60  15  \n",
    "80  26  \n",
    "100 37  \n",
    "\n",
    "Sample Input 2:  \n",
    "120   \n",
    "200   \n",
    "40\n",
    "\n",
    "Sample Output 2:  \n",
    "120 48  \n",
    "160 71  \n",
    "200 93  \n",
    "\n",
    "Explanation for Sample Output 2 :  \n",
    "Start value is 120, end value is 200 and step size is 40. Therefore, the values we need to convert are 120, 120 + 40 = 160, and 160 + 40 = 200.   \n",
    "The formula for converting Fahrenheit to Celsius is:  \n",
    "Celsius Value = (5/9)*(Fahrenheit Value - 32)    \n",
    "Plugging 120 into the formula, the celsius value will be (5 / 9)*(120 - 32) => (5 / 9) * 88 => (5 * 88) / 9 => 440 / 9 => 48.88  \n",
    "But we'll only print 48 because we are only interested in the integral part of the value.  "
   ],
   "metadata": {}
  },
  {
   "cell_type": "code",
   "execution_count": null,
   "source": [
    "def printTable(start,end,step):\r\n",
    "    for i in range(start, end +1,step):\r\n",
    "        C = (i - 32) * 5/9\r\n",
    "        print(i,' ',int(C),'\\t')\r\n",
    " \r\n",
    "s = int(input())\r\n",
    "e = int(input())\r\n",
    "step = int(input())\r\n",
    "printTable(s,e,step)"
   ],
   "outputs": [],
   "metadata": {}
  },
  {
   "cell_type": "markdown",
   "source": [
    "### Question 3"
   ],
   "metadata": {}
  },
  {
   "cell_type": "markdown",
   "source": [
    "<pre>\n",
    "Fibonacci Member\n",
    "\n",
    "Given a number N, figure out if it is a member of fibonacci series or not. Return true if the number is member of fibonacci series else false.\n",
    "Fibonacci Series is defined by the recurrence\n",
    "    F(n) = F(n-1) + F(n-2)\n",
    "where F(0) = 0 and F(1) = 1\n",
    "\n",
    "\n",
    "Input Format :\n",
    "Integer N\n",
    "Output Format :\n",
    "true or false\n",
    "Constraints :\n",
    "0 <= n <= 10^4\n",
    "Sample Input 1 :\n",
    "5\n",
    "Sample Output 1 :\n",
    "true\n",
    "Sample Input 2 :\n",
    "14\n",
    "Sample Output 2 :\n",
    "false    \n",
    "</pre>"
   ],
   "metadata": {}
  },
  {
   "cell_type": "code",
   "execution_count": null,
   "source": [
    "def checkMember(n):\r\n",
    "    f0 = 0\r\n",
    "    f1 = 1\r\n",
    "    if  n==f0 or n==f1:\r\n",
    "        return True\r\n",
    "    f2 = f0+f1\r\n",
    "    while(f2<n):\r\n",
    "        f0 = f1\r\n",
    "        f1 = f2\r\n",
    "        f2 = f0 + f1\r\n",
    "    if f2 == n:\r\n",
    "        return True\r\n",
    "    else:\r\n",
    "        return False\r\n",
    "\r\n",
    "n=int(input())\r\n",
    "if(checkMember(n)):\r\n",
    "    print(\"true\")\r\n",
    "else:\r\n",
    "    print(\"false\")"
   ],
   "outputs": [
    {
     "output_type": "stream",
     "name": "stdout",
     "text": [
      "false\n"
     ]
    }
   ],
   "metadata": {}
  },
  {
   "cell_type": "markdown",
   "source": [
    "### Question 4"
   ],
   "metadata": {}
  },
  {
   "cell_type": "markdown",
   "source": [
    "<pre>\n",
    "Palindrome number\n",
    "\n",
    "Write a program to determine if given number is palindrome or not. Print true if it is palindrome, false otherwise.\n",
    "Palindrome are the numbers for which reverse is exactly same as the original one. For eg. 121\n",
    "\n",
    "Sample Input 1 :\n",
    "121\n",
    "\n",
    "Sample Output 1 :\n",
    "true\n",
    "\n",
    "Sample Input 2 :\n",
    "1032\n",
    "\n",
    "Sample Output 2 :\n",
    "false\n",
    "</pre>"
   ],
   "metadata": {}
  },
  {
   "cell_type": "code",
   "execution_count": null,
   "source": [
    "def checkPalindrome(num):\r\n",
    "    temp = num\r\n",
    "    rev = 0\r\n",
    "    while(num > 0):\r\n",
    "        reminder = num % 10\r\n",
    "        rev = (rev * 10) + reminder\r\n",
    "        num = num // 10\r\n",
    "        \r\n",
    "    if (temp == rev):\r\n",
    "        return True\r\n",
    "    else:\r\n",
    "        return False\r\n",
    "     \r\n",
    "     \r\n",
    "num = int(input())\r\n",
    "isPalindrome = checkPalindrome(num)\r\n",
    "if(isPalindrome):\r\n",
    "\tprint('true')\r\n",
    "else:\r\n",
    "\tprint('false')"
   ],
   "outputs": [
    {
     "output_type": "stream",
     "name": "stdout",
     "text": [
      "true\n"
     ]
    }
   ],
   "metadata": {}
  },
  {
   "cell_type": "markdown",
   "source": [
    "### Question 5"
   ],
   "metadata": {}
  },
  {
   "cell_type": "markdown",
   "source": [
    "<pre>\n",
    "Check Armstrong\n",
    "\n",
    "Write a Program to determine if the given number is Armstrong number or not. Print true if number is armstrong, otherwise print false.\n",
    "An Armstrong number is a number (with digits n) such that the sum of its digits raised to nth power is equal to the number itself.\n",
    "\n",
    "For example,\n",
    "371, as 3^3 + 7^3 + 1^3 = 371\n",
    "1634, as 1^4 + 6^4 + 3^4 + 4^4 = 1634\n",
    "\n",
    "Input Format :\n",
    "Integer n\n",
    "\n",
    "Output Format :\n",
    "true or false\n",
    "\n",
    "Sample Input 1 :\n",
    "1\n",
    "\n",
    "Sample Output 1 :\n",
    "true\n",
    "\n",
    "Sample Input 2 :\n",
    "103\n",
    "\n",
    "Sample Output 2 :\n",
    "false\n",
    "</pre>"
   ],
   "metadata": {}
  },
  {
   "cell_type": "code",
   "execution_count": null,
   "source": [],
   "outputs": [],
   "metadata": {}
  },
  {
   "cell_type": "markdown",
   "source": [
    "## Lists"
   ],
   "metadata": {}
  },
  {
   "cell_type": "markdown",
   "source": [
    "### Creating a list"
   ],
   "metadata": {}
  },
  {
   "cell_type": "code",
   "execution_count": null,
   "source": [
    "li = []"
   ],
   "outputs": [],
   "metadata": {}
  },
  {
   "cell_type": "code",
   "execution_count": null,
   "source": [
    "type(li)"
   ],
   "outputs": [
    {
     "output_type": "execute_result",
     "data": {
      "text/plain": [
       "list"
      ]
     },
     "metadata": {},
     "execution_count": 16
    }
   ],
   "metadata": {}
  },
  {
   "cell_type": "code",
   "execution_count": null,
   "source": [
    "li = [1,2,3]"
   ],
   "outputs": [],
   "metadata": {}
  },
  {
   "cell_type": "code",
   "execution_count": null,
   "source": [
    "li  = [1, 2, 'Abhishek', 3.4]"
   ],
   "outputs": [],
   "metadata": {}
  },
  {
   "cell_type": "code",
   "execution_count": null,
   "source": [
    "li"
   ],
   "outputs": [
    {
     "output_type": "execute_result",
     "data": {
      "text/plain": [
       "[1, 2, 'Abhishek', 3.4]"
      ]
     },
     "metadata": {},
     "execution_count": 19
    }
   ],
   "metadata": {}
  },
  {
   "cell_type": "markdown",
   "source": [
    "### Access and change elements"
   ],
   "metadata": {}
  },
  {
   "cell_type": "code",
   "execution_count": null,
   "source": [
    "li[0]"
   ],
   "outputs": [
    {
     "output_type": "execute_result",
     "data": {
      "text/plain": [
       "1"
      ]
     },
     "metadata": {},
     "execution_count": 20
    }
   ],
   "metadata": {}
  },
  {
   "cell_type": "code",
   "execution_count": null,
   "source": [
    "li[2]"
   ],
   "outputs": [
    {
     "output_type": "execute_result",
     "data": {
      "text/plain": [
       "'Abhishek'"
      ]
     },
     "metadata": {},
     "execution_count": 21
    }
   ],
   "metadata": {}
  },
  {
   "cell_type": "code",
   "execution_count": null,
   "source": [
    "li[0] = 5"
   ],
   "outputs": [],
   "metadata": {}
  },
  {
   "cell_type": "code",
   "execution_count": null,
   "source": [
    "li[2] = 'Avishek'"
   ],
   "outputs": [],
   "metadata": {}
  },
  {
   "cell_type": "code",
   "execution_count": null,
   "source": [
    "li"
   ],
   "outputs": [
    {
     "output_type": "execute_result",
     "data": {
      "text/plain": [
       "[5, 2, 'Avishek', 3.4]"
      ]
     },
     "metadata": {},
     "execution_count": 24
    }
   ],
   "metadata": {}
  },
  {
   "cell_type": "markdown",
   "source": [
    "### Slicing of a list"
   ],
   "metadata": {}
  },
  {
   "cell_type": "code",
   "execution_count": null,
   "source": [
    "# Indexing starts from 0 and ends ar (n-1)\r\n",
    "# Prints 1st and 2nd index\r\n",
    "li [1:3]"
   ],
   "outputs": [
    {
     "output_type": "execute_result",
     "data": {
      "text/plain": [
       "[2, 'Avishek']"
      ]
     },
     "metadata": {},
     "execution_count": 25
    }
   ],
   "metadata": {}
  },
  {
   "cell_type": "code",
   "execution_count": null,
   "source": [
    "li"
   ],
   "outputs": [
    {
     "output_type": "execute_result",
     "data": {
      "text/plain": [
       "[5, 2, 'Avishek', 3.4]"
      ]
     },
     "metadata": {},
     "execution_count": 26
    }
   ],
   "metadata": {}
  },
  {
   "cell_type": "code",
   "execution_count": null,
   "source": [
    "# Will give us all the elemnts strating from 1st index and ending at last index\r\n",
    "li[1:]"
   ],
   "outputs": [
    {
     "output_type": "execute_result",
     "data": {
      "text/plain": [
       "[2, 'Avishek', 3.4]"
      ]
     },
     "metadata": {},
     "execution_count": 27
    }
   ],
   "metadata": {}
  },
  {
   "cell_type": "code",
   "execution_count": null,
   "source": [
    "# Will give you complete list\r\n",
    "li[:]"
   ],
   "outputs": [
    {
     "output_type": "execute_result",
     "data": {
      "text/plain": [
       "[5, 2, 'Avishek', 3.4]"
      ]
     },
     "metadata": {},
     "execution_count": 28
    }
   ],
   "metadata": {}
  },
  {
   "cell_type": "code",
   "execution_count": null,
   "source": [
    "# If I wanna print 1 till 10 index it will not matter if the index is present or not it just prints all the elemets irrespective\r\n",
    "li [1:10]"
   ],
   "outputs": [
    {
     "output_type": "execute_result",
     "data": {
      "text/plain": [
       "[2, 'Avishek', 3.4]"
      ]
     },
     "metadata": {},
     "execution_count": 29
    }
   ],
   "metadata": {}
  },
  {
   "cell_type": "markdown",
   "source": [
    "### Inserting and append elemnts in the list"
   ],
   "metadata": {}
  },
  {
   "cell_type": "code",
   "execution_count": null,
   "source": [
    "# will add the element in the last\r\n",
    "li.append('Ankush')"
   ],
   "outputs": [],
   "metadata": {}
  },
  {
   "cell_type": "code",
   "execution_count": null,
   "source": [
    "li"
   ],
   "outputs": [
    {
     "output_type": "execute_result",
     "data": {
      "text/plain": [
       "[5, 2, 'Avishek', 3.4, 'Ankush']"
      ]
     },
     "metadata": {},
     "execution_count": 31
    }
   ],
   "metadata": {}
  },
  {
   "cell_type": "code",
   "execution_count": null,
   "source": [
    "# Will insert 7 in the 1st index and move all the rest of the index in the last\r\n",
    "li.insert(1,7)"
   ],
   "outputs": [],
   "metadata": {}
  },
  {
   "cell_type": "code",
   "execution_count": null,
   "source": [
    "li"
   ],
   "outputs": [
    {
     "output_type": "execute_result",
     "data": {
      "text/plain": [
       "[5, 7, 2, 'Avishek', 3.4, 'Ankush']"
      ]
     },
     "metadata": {},
     "execution_count": 33
    }
   ],
   "metadata": {}
  },
  {
   "cell_type": "code",
   "execution_count": null,
   "source": [
    "# if the index we are trying to update in is not present then it will actomatically add in the last index\r\n",
    "li.insert(100,'Abhimanyu')"
   ],
   "outputs": [],
   "metadata": {}
  },
  {
   "cell_type": "code",
   "execution_count": null,
   "source": [
    "li"
   ],
   "outputs": [
    {
     "output_type": "execute_result",
     "data": {
      "text/plain": [
       "[5, 7, 2, 'Avishek', 3.4, 'Ankush', 'Abhimanyu']"
      ]
     },
     "metadata": {},
     "execution_count": 35
    }
   ],
   "metadata": {}
  },
  {
   "cell_type": "code",
   "execution_count": null,
   "source": [
    "# If I want to append multiple elements liek this then it will add a list inside a list\r\n",
    "li.append([9,10,11])"
   ],
   "outputs": [],
   "metadata": {}
  },
  {
   "cell_type": "code",
   "execution_count": null,
   "source": [
    "li"
   ],
   "outputs": [
    {
     "output_type": "execute_result",
     "data": {
      "text/plain": [
       "[5, 7, 2, 'Avishek', 3.4, 'Ankush', 'Abhimanyu', [9, 10, 11]]"
      ]
     },
     "metadata": {},
     "execution_count": 37
    }
   ],
   "metadata": {}
  },
  {
   "cell_type": "code",
   "execution_count": null,
   "source": [
    "# But if we do not want to insert the multiple elements as list then we can use 'extend'\r\n",
    "li.extend([9,10,11])"
   ],
   "outputs": [],
   "metadata": {}
  },
  {
   "cell_type": "code",
   "execution_count": null,
   "source": [
    "li"
   ],
   "outputs": [
    {
     "output_type": "execute_result",
     "data": {
      "text/plain": [
       "[5, 7, 2, 'Avishek', 3.4, 'Ankush', 'Abhimanyu', [9, 10, 11], 9, 10, 11]"
      ]
     },
     "metadata": {},
     "execution_count": 39
    }
   ],
   "metadata": {}
  },
  {
   "cell_type": "markdown",
   "source": [
    "### Removing elements from the list "
   ],
   "metadata": {}
  },
  {
   "cell_type": "code",
   "execution_count": null,
   "source": [
    "li.remove(2)"
   ],
   "outputs": [],
   "metadata": {}
  },
  {
   "cell_type": "code",
   "execution_count": null,
   "source": [
    "li"
   ],
   "outputs": [
    {
     "output_type": "execute_result",
     "data": {
      "text/plain": [
       "[5, 7, 'Avishek', 3.4, 'Ankush', 'Abhimanyu', [9, 10, 11], 9, 10, 11]"
      ]
     },
     "metadata": {},
     "execution_count": 41
    }
   ],
   "metadata": {}
  },
  {
   "cell_type": "code",
   "execution_count": null,
   "source": [
    "# Now there can be multiple istances of element present\r\n",
    "li.append(5)"
   ],
   "outputs": [],
   "metadata": {}
  },
  {
   "cell_type": "code",
   "execution_count": null,
   "source": [
    "li.remove(5)"
   ],
   "outputs": [],
   "metadata": {}
  },
  {
   "cell_type": "code",
   "execution_count": null,
   "source": [
    "# 5 is removed from the fisrst element\r\n",
    "li"
   ],
   "outputs": [
    {
     "output_type": "execute_result",
     "data": {
      "text/plain": [
       "[7, 'Avishek', 3.4, 'Ankush', 'Abhimanyu', [9, 10, 11], 9, 10, 11, 5]"
      ]
     },
     "metadata": {},
     "execution_count": 44
    }
   ],
   "metadata": {}
  },
  {
   "cell_type": "code",
   "execution_count": null,
   "source": [
    "# If we wanted to delete from a particular index we could use the pop functationality\r\n",
    "# By default the if we do not specify any value inside the pop fuction the it will remove the last element or else we can specify the index which we would like to \r\n",
    "li.pop()\r\n"
   ],
   "outputs": [
    {
     "output_type": "execute_result",
     "data": {
      "text/plain": [
       "5"
      ]
     },
     "metadata": {},
     "execution_count": 45
    }
   ],
   "metadata": {}
  },
  {
   "cell_type": "code",
   "execution_count": null,
   "source": [
    "li"
   ],
   "outputs": [
    {
     "output_type": "execute_result",
     "data": {
      "text/plain": [
       "[7, 'Avishek', 3.4, 'Ankush', 'Abhimanyu', [9, 10, 11], 9, 10, 11]"
      ]
     },
     "metadata": {},
     "execution_count": 46
    }
   ],
   "metadata": {}
  },
  {
   "cell_type": "code",
   "execution_count": null,
   "source": [
    "# pop also returns the elemnt that is removed\r\n",
    "li.pop(2)"
   ],
   "outputs": [
    {
     "output_type": "execute_result",
     "data": {
      "text/plain": [
       "3.4"
      ]
     },
     "metadata": {},
     "execution_count": 47
    }
   ],
   "metadata": {}
  },
  {
   "cell_type": "code",
   "execution_count": null,
   "source": [
    "li"
   ],
   "outputs": [
    {
     "output_type": "execute_result",
     "data": {
      "text/plain": [
       "[7, 'Avishek', 'Ankush', 'Abhimanyu', [9, 10, 11], 9, 10, 11]"
      ]
     },
     "metadata": {},
     "execution_count": 48
    }
   ],
   "metadata": {}
  },
  {
   "cell_type": "code",
   "execution_count": null,
   "source": [
    "# length functionality is present in the list\r\n",
    "len(li)"
   ],
   "outputs": [
    {
     "output_type": "execute_result",
     "data": {
      "text/plain": [
       "8"
      ]
     },
     "metadata": {},
     "execution_count": 49
    }
   ],
   "metadata": {}
  },
  {
   "cell_type": "markdown",
   "source": [
    "### Loopin in a list"
   ],
   "metadata": {}
  },
  {
   "cell_type": "code",
   "execution_count": null,
   "source": [
    "a = [1, 2, 'Avishek', 9, 10, 11, 'Abhimanyu']"
   ],
   "outputs": [],
   "metadata": {}
  },
  {
   "cell_type": "code",
   "execution_count": null,
   "source": [
    "a"
   ],
   "outputs": [
    {
     "output_type": "execute_result",
     "data": {
      "text/plain": [
       "[1, 2, 'Avishek', 9, 10, 11, 'Abhimanyu']"
      ]
     },
     "metadata": {},
     "execution_count": 51
    }
   ],
   "metadata": {}
  },
  {
   "cell_type": "code",
   "execution_count": null,
   "source": [
    "# Printing the elements of list - we can do it in 2 ways\r\n",
    "# We will use this method when we need the index in our programme\r\n",
    "# WAY 1\r\n",
    "for i in range(len(a)):\r\n",
    "    print(a[i])"
   ],
   "outputs": [
    {
     "output_type": "stream",
     "name": "stdout",
     "text": [
      "1\n",
      "2\n",
      "Avishek\n",
      "9\n",
      "10\n",
      "11\n",
      "Abhimanyu\n"
     ]
    }
   ],
   "metadata": {}
  },
  {
   "cell_type": "code",
   "execution_count": null,
   "source": [
    "# Starting from the 2nd index and then looping\r\n",
    "for i in range(2,len(a)):\r\n",
    "    print(a[i])"
   ],
   "outputs": [
    {
     "output_type": "stream",
     "name": "stdout",
     "text": [
      "Avishek\n",
      "9\n",
      "10\n",
      "11\n",
      "Abhimanyu\n"
     ]
    }
   ],
   "metadata": {}
  },
  {
   "cell_type": "code",
   "execution_count": null,
   "source": [
    "# We can also print the elements of the list in this friend\r\n",
    "# We will prefer this if we do not need an index\r\n",
    "# WAY 2\r\n",
    "for i in a:\r\n",
    "    print(i)"
   ],
   "outputs": [
    {
     "output_type": "stream",
     "name": "stdout",
     "text": [
      "1\n",
      "2\n",
      "Avishek\n",
      "9\n",
      "10\n",
      "11\n",
      "Abhimanyu\n"
     ]
    }
   ],
   "metadata": {}
  },
  {
   "cell_type": "code",
   "execution_count": null,
   "source": [
    "# Starting from the 2nd index and then looping\r\n",
    "for i in a[2:]:\r\n",
    "    print(i)"
   ],
   "outputs": [
    {
     "output_type": "stream",
     "name": "stdout",
     "text": [
      "Avishek\n",
      "9\n",
      "10\n",
      "11\n",
      "Abhimanyu\n"
     ]
    }
   ],
   "metadata": {}
  },
  {
   "cell_type": "markdown",
   "source": [
    "### Negetive Indexing and Sequencing in Lists"
   ],
   "metadata": {}
  },
  {
   "cell_type": "code",
   "execution_count": null,
   "source": [
    "b = [1, 2, 3, 4, 5]"
   ],
   "outputs": [],
   "metadata": {}
  },
  {
   "cell_type": "code",
   "execution_count": null,
   "source": [
    "# Gives the last element or we can look at it as the first element from the last\r\n",
    "b[-1]"
   ],
   "outputs": [
    {
     "output_type": "execute_result",
     "data": {
      "text/plain": [
       "5"
      ]
     },
     "metadata": {},
     "execution_count": 2
    }
   ],
   "metadata": {}
  },
  {
   "cell_type": "code",
   "execution_count": null,
   "source": [
    "# Gives us the second element from the last\r\n",
    "b[-2]"
   ],
   "outputs": [
    {
     "output_type": "execute_result",
     "data": {
      "text/plain": [
       "4"
      ]
     },
     "metadata": {},
     "execution_count": 3
    }
   ],
   "metadata": {}
  },
  {
   "cell_type": "code",
   "execution_count": null,
   "source": [
    "# gives us the last index we do -1 because the indexing starts from 0\r\n",
    "b[len(b)-1]"
   ],
   "outputs": [
    {
     "output_type": "execute_result",
     "data": {
      "text/plain": [
       "5"
      ]
     },
     "metadata": {},
     "execution_count": 4
    }
   ],
   "metadata": {}
  },
  {
   "cell_type": "markdown",
   "source": [
    "### Sequencing in lists"
   ],
   "metadata": {}
  },
  {
   "cell_type": "code",
   "execution_count": null,
   "source": [
    "# We can have sequencing in lists [START:END:STEP]\r\n",
    "b"
   ],
   "outputs": [
    {
     "output_type": "execute_result",
     "data": {
      "text/plain": [
       "[1, 2, 3, 4, 5]"
      ]
     },
     "metadata": {},
     "execution_count": 5
    }
   ],
   "metadata": {}
  },
  {
   "cell_type": "code",
   "execution_count": null,
   "source": [
    "b[1:5:1]"
   ],
   "outputs": [
    {
     "output_type": "execute_result",
     "data": {
      "text/plain": [
       "[2, 3, 4, 5]"
      ]
     },
     "metadata": {},
     "execution_count": 6
    }
   ],
   "metadata": {}
  },
  {
   "cell_type": "code",
   "execution_count": null,
   "source": [
    "# end goes till n-1\r\n",
    "b[1:3:1]"
   ],
   "outputs": [
    {
     "output_type": "execute_result",
     "data": {
      "text/plain": [
       "[2, 3]"
      ]
     },
     "metadata": {},
     "execution_count": 7
    }
   ],
   "metadata": {}
  },
  {
   "cell_type": "code",
   "execution_count": null,
   "source": [
    "# b is not being changes the obove operations are just variable and can be used inside\r\n",
    "b"
   ],
   "outputs": [
    {
     "output_type": "execute_result",
     "data": {
      "text/plain": [
       "[1, 2, 3, 4, 5]"
      ]
     },
     "metadata": {},
     "execution_count": 8
    }
   ],
   "metadata": {}
  },
  {
   "cell_type": "code",
   "execution_count": null,
   "source": [
    "b[1:5:2]"
   ],
   "outputs": [
    {
     "output_type": "execute_result",
     "data": {
      "text/plain": [
       "[2, 4]"
      ]
     },
     "metadata": {},
     "execution_count": 9
    }
   ],
   "metadata": {}
  },
  {
   "cell_type": "code",
   "execution_count": null,
   "source": [
    "# will start from 1st index and will go to the end\r\n",
    "b[1:]"
   ],
   "outputs": [
    {
     "output_type": "execute_result",
     "data": {
      "text/plain": [
       "[2, 3, 4, 5]"
      ]
     },
     "metadata": {},
     "execution_count": 10
    }
   ],
   "metadata": {}
  },
  {
   "cell_type": "code",
   "execution_count": null,
   "source": [
    "# will start from the 1st index and go till the last index, and will incremenrt till 2\r\n",
    "b[1::2]"
   ],
   "outputs": [
    {
     "output_type": "execute_result",
     "data": {
      "text/plain": [
       "[2, 4]"
      ]
     },
     "metadata": {},
     "execution_count": 11
    }
   ],
   "metadata": {}
  },
  {
   "cell_type": "code",
   "execution_count": null,
   "source": [
    "# By default start is 0, end is len of list and the step is one\r\n",
    "b[-1:]"
   ],
   "outputs": [
    {
     "output_type": "execute_result",
     "data": {
      "text/plain": [
       "[5]"
      ]
     },
     "metadata": {},
     "execution_count": 13
    }
   ],
   "metadata": {}
  },
  {
   "cell_type": "code",
   "execution_count": null,
   "source": [
    "# It starts from the third last element and goes till last element -1 as (n -1)\r\n",
    "b[-3:-1]"
   ],
   "outputs": [
    {
     "output_type": "execute_result",
     "data": {
      "text/plain": [
       "[3, 4]"
      ]
     },
     "metadata": {},
     "execution_count": 17
    }
   ],
   "metadata": {}
  },
  {
   "cell_type": "code",
   "execution_count": null,
   "source": [
    "# if we want to print the list in reverse we will have to \r\n",
    "b[-1::-1]"
   ],
   "outputs": [
    {
     "output_type": "execute_result",
     "data": {
      "text/plain": [
       "[5, 4, 3, 2, 1]"
      ]
     },
     "metadata": {},
     "execution_count": 16
    }
   ],
   "metadata": {}
  },
  {
   "cell_type": "markdown",
   "source": [
    "### Taking input in a list"
   ],
   "metadata": {}
  },
  {
   "cell_type": "markdown",
   "source": [
    "line seperate input in a list"
   ],
   "metadata": {}
  },
  {
   "cell_type": "code",
   "execution_count": null,
   "source": [
    "# n asks for the number of inputs, c is a list and we are appending the valus of curr inside x for n number of times.\r\n",
    "# as it is asling us again and again for the input therefore the input is line seperated input\r\n",
    "n = int(input())\r\n",
    "c = []\r\n",
    "for i in range(n):\r\n",
    "    curr = int(input())\r\n",
    "    c.append(curr)\r\n",
    "\r\n",
    "print('The output for c is: ',c, 'and there are n elements in the list, n =',n)"
   ],
   "outputs": [
    {
     "output_type": "stream",
     "name": "stdout",
     "text": [
      "The output for c is:  [1, 2, 3, 4, 5] and there are n elements in the list, n =  5\n"
     ]
    }
   ],
   "metadata": {}
  },
  {
   "cell_type": "code",
   "execution_count": null,
   "source": [
    "# if wanted to print all the elemesnts of the list we have seen that already\r\n",
    "for ele in c:\r\n",
    "    print (ele)"
   ],
   "outputs": [
    {
     "output_type": "stream",
     "name": "stdout",
     "text": [
      "1\n",
      "2\n",
      "3\n",
      "4\n",
      "5\n"
     ]
    }
   ],
   "metadata": {}
  },
  {
   "cell_type": "markdown",
   "source": [
    "Space seperated in puts in a list"
   ],
   "metadata": {}
  },
  {
   "cell_type": "code",
   "execution_count": null,
   "source": [
    "# first lets understan the split functionality of python\r\n",
    "str = input()\r\n",
    "str_split = str.split(',') # splits in basis of ','\r\n",
    "print(str_split)"
   ],
   "outputs": [
    {
     "output_type": "stream",
     "name": "stdout",
     "text": [
      "['1', '2', '3', '4', '5']\n"
     ]
    }
   ],
   "metadata": {}
  },
  {
   "cell_type": "code",
   "execution_count": null,
   "source": [
    "# by default the split dunction uses space ' ' as a delimeter\r\n",
    "# if we want to split on basis of ' ' blank spaces we could do this...\r\n",
    "str = input()\r\n",
    "str_split = str.split(' ') # splits in basis of ','\r\n",
    "print(str_split)"
   ],
   "outputs": [
    {
     "output_type": "stream",
     "name": "stdout",
     "text": [
      "['1', '2', '3', '4', '5']\n"
     ]
    }
   ],
   "metadata": {}
  },
  {
   "cell_type": "code",
   "execution_count": null,
   "source": [
    "# now the given lists has strings and we want integers\r\n",
    "d = []\r\n",
    "for ele in str_split:\r\n",
    "    d.append(int(ele))\r\n",
    "\r\n",
    "print(d)"
   ],
   "outputs": [
    {
     "output_type": "stream",
     "name": "stdout",
     "text": [
      "[1, 2, 3, 4, 5]\n"
     ]
    }
   ],
   "metadata": {}
  },
  {
   "cell_type": "code",
   "execution_count": null,
   "source": [
    "# IMPORTANT\r\n",
    "# we could do all of this in one line\r\n",
    "d = [int(x) for x in input().split(' ')]\r\n",
    "print(d)"
   ],
   "outputs": [
    {
     "output_type": "stream",
     "name": "stdout",
     "text": [
      "[1, 2, 3, 4, 5]\n"
     ]
    }
   ],
   "metadata": {}
  },
  {
   "cell_type": "code",
   "execution_count": null,
   "source": [
    "# printing all the elemenst of the list in one line\r\n",
    "for ele in d:\r\n",
    "    print (ele, end =' ')"
   ],
   "outputs": [
    {
     "output_type": "stream",
     "name": "stdout",
     "text": [
      "1 2 3 4 5 "
     ]
    }
   ],
   "metadata": {}
  },
  {
   "cell_type": "code",
   "execution_count": null,
   "source": [
    "# for taking 5 inputs from the user\r\n",
    "n = int(input())\r\n",
    "d = [int(x) for x in input().split()]\r\n",
    "for ele in d:\r\n",
    "    print (ele, end = ' ')"
   ],
   "outputs": [
    {
     "output_type": "stream",
     "name": "stdout",
     "text": [
      "1 2 3 4 5 "
     ]
    }
   ],
   "metadata": {}
  },
  {
   "cell_type": "markdown",
   "source": [
    "### Question 1"
   ],
   "metadata": {}
  },
  {
   "cell_type": "markdown",
   "source": [
    "#### Array Sum\r\n",
    "<pre>\r\n",
    "Given an array of length N, you need to find and print the sum of all elements of the array.\r\n",
    "Input Format :\r\n",
    "Line 1 : An Integer N i.e. size of array\r\n",
    "Line 2 : N integers which are elements of the array, separated by spaces\r\n",
    "Output Format :\r\n",
    "Sum\r\n",
    "Constraints :\r\n",
    "1 <= N <= 10^6\r\n",
    "Sample Input :\r\n",
    "3\r\n",
    "9 8 9\r\n",
    "Sample Output :\r\n",
    "26\r\n",
    "</pre>\r\n"
   ],
   "metadata": {}
  },
  {
   "cell_type": "code",
   "execution_count": null,
   "source": [
    "N = int(input())\r\n",
    "d = [int(x) for x in input().split()]\r\n",
    "a = 0\r\n",
    "for ele in d:\r\n",
    "    a = ele + a\r\n",
    "print(a)"
   ],
   "outputs": [
    {
     "output_type": "stream",
     "name": "stdout",
     "text": [
      "26\n"
     ]
    }
   ],
   "metadata": {}
  },
  {
   "cell_type": "markdown",
   "source": [
    "### Linear Search"
   ],
   "metadata": {}
  },
  {
   "cell_type": "code",
   "execution_count": null,
   "source": [
    "# n is how many elements are present, li is the lsit with the input from the user in one list\r\n",
    "n = int(input())\r\n",
    "li = [int(x) for x in input().split()]\r\n",
    "print(li)"
   ],
   "outputs": [
    {
     "output_type": "stream",
     "name": "stdout",
     "text": [
      "[2, 4, 7, 9, 10, 13]\n"
     ]
    }
   ],
   "metadata": {}
  },
  {
   "cell_type": "code",
   "execution_count": null,
   "source": [
    "# ele is the element we want to search in the list li. If present we output the index of the element or else we display -1\r\n",
    "ele = int(input())\r\n",
    "print(ele)"
   ],
   "outputs": [
    {
     "output_type": "stream",
     "name": "stdout",
     "text": [
      "10\n"
     ]
    }
   ],
   "metadata": {}
  },
  {
   "cell_type": "code",
   "execution_count": null,
   "source": [
    "for i in range(len(li)):\r\n",
    "    if li[i] == ele:\r\n",
    "        print(i)\r\n",
    "        break\r\n",
    "else:\r\n",
    "    print('-1')"
   ],
   "outputs": [
    {
     "output_type": "stream",
     "name": "stdout",
     "text": [
      "4\n"
     ]
    }
   ],
   "metadata": {}
  },
  {
   "cell_type": "markdown",
   "source": [
    "### Linear Search through functions"
   ],
   "metadata": {}
  },
  {
   "cell_type": "code",
   "execution_count": null,
   "source": [
    "def LinearSearch(li, ele):\r\n",
    "    for i in range(len(li)):\r\n",
    "        if li[i] == ele:\r\n",
    "            return(i)\r\n",
    "            break\r\n",
    "    return ('-1')\r\n",
    "\r\n",
    "li = [1,2,3,90,76]\r\n",
    "ele = 90\r\n",
    "index = LinearSearch(li,ele)\r\n",
    "print(index)"
   ],
   "outputs": [
    {
     "output_type": "stream",
     "name": "stdout",
     "text": [
      "3\n"
     ]
    }
   ],
   "metadata": {}
  },
  {
   "cell_type": "markdown",
   "source": [
    "### Mutable and Immutable concept"
   ],
   "metadata": {}
  },
  {
   "cell_type": "markdown",
   "source": [
    "immutable variable demonstration"
   ],
   "metadata": {}
  },
  {
   "cell_type": "code",
   "execution_count": null,
   "source": [
    "#id of a and x are the same as they are pointing to the same number\r\n",
    "x = 3\r\n",
    "a = 3\r\n",
    "print(x)"
   ],
   "outputs": [
    {
     "output_type": "stream",
     "name": "stdout",
     "text": [
      "3\n"
     ]
    }
   ],
   "metadata": {}
  },
  {
   "cell_type": "code",
   "execution_count": null,
   "source": [
    "id(a)"
   ],
   "outputs": [
    {
     "output_type": "execute_result",
     "data": {
      "text/plain": [
       "140726555977584"
      ]
     },
     "metadata": {},
     "execution_count": 81
    }
   ],
   "metadata": {}
  },
  {
   "cell_type": "code",
   "execution_count": null,
   "source": [
    "id(x)"
   ],
   "outputs": [
    {
     "output_type": "execute_result",
     "data": {
      "text/plain": [
       "140726555977584"
      ]
     },
     "metadata": {},
     "execution_count": 82
    }
   ],
   "metadata": {}
  },
  {
   "cell_type": "code",
   "execution_count": null,
   "source": [
    "# id of 'a' changes but the x value is the same\r\n",
    "a = 4\r\n",
    "id(a)"
   ],
   "outputs": [
    {
     "output_type": "execute_result",
     "data": {
      "text/plain": [
       "140726555977616"
      ]
     },
     "metadata": {},
     "execution_count": 83
    }
   ],
   "metadata": {}
  },
  {
   "cell_type": "code",
   "execution_count": null,
   "source": [
    "x"
   ],
   "outputs": [
    {
     "output_type": "execute_result",
     "data": {
      "text/plain": [
       "3"
      ]
     },
     "metadata": {},
     "execution_count": 84
    }
   ],
   "metadata": {}
  },
  {
   "cell_type": "code",
   "execution_count": null,
   "source": [
    "a"
   ],
   "outputs": [
    {
     "output_type": "execute_result",
     "data": {
      "text/plain": [
       "4"
      ]
     },
     "metadata": {},
     "execution_count": 85
    }
   ],
   "metadata": {}
  },
  {
   "cell_type": "markdown",
   "source": [
    "Mutable lists demonstration"
   ],
   "metadata": {}
  },
  {
   "cell_type": "code",
   "execution_count": null,
   "source": [
    "li = [1,2,3,4]\r\n",
    "li2 = li\r\n",
    "li2 = [3,4,4]\r\n",
    "li[1]= 4"
   ],
   "outputs": [],
   "metadata": {}
  },
  {
   "cell_type": "code",
   "execution_count": null,
   "source": [
    "print(li)\r\n",
    "print (li2)"
   ],
   "outputs": [
    {
     "output_type": "stream",
     "name": "stdout",
     "text": [
      "[1, 4, 3, 4]\n",
      "[3, 4, 4]\n"
     ]
    }
   ],
   "metadata": {}
  },
  {
   "cell_type": "markdown",
   "source": [
    "### Passing a variable through a Function"
   ],
   "metadata": {}
  },
  {
   "cell_type": "code",
   "execution_count": null,
   "source": [
    "# Wrong way of doning things(Ecplained in copy)\r\n",
    "# Expected ans was 4 and the real ans is 2\r\n",
    "def increment(a):\r\n",
    "    a = a+2\r\n",
    "    return\r\n",
    "\r\n",
    "a =2\r\n",
    "increment(a)\r\n",
    "print(a)"
   ],
   "outputs": [
    {
     "output_type": "stream",
     "name": "stdout",
     "text": [
      "2\n"
     ]
    }
   ],
   "metadata": {}
  },
  {
   "cell_type": "code",
   "execution_count": null,
   "source": [
    "# correct way of doing things\r\n",
    "def increment(a):\r\n",
    "    a = a+2\r\n",
    "    return a\r\n",
    "\r\n",
    "a =2\r\n",
    "a = increment(a)\r\n",
    "print(a)"
   ],
   "outputs": [
    {
     "output_type": "stream",
     "name": "stdout",
     "text": [
      "4\n"
     ]
    }
   ],
   "metadata": {}
  },
  {
   "cell_type": "markdown",
   "source": [
    "### Passing lists through functions"
   ],
   "metadata": {}
  },
  {
   "cell_type": "code",
   "execution_count": null,
   "source": [
    "# This is correct ways as lists are mutable\r\n",
    "def increment(li):\r\n",
    "    li[0] = li[0] + 2\r\n",
    "    return\r\n",
    "\r\n",
    "li = [1,2,3,4,5]\r\n",
    "increment(li)\r\n",
    "print(li)"
   ],
   "outputs": [
    {
     "output_type": "stream",
     "name": "stdout",
     "text": [
      "[3, 2, 3, 4, 5]\n"
     ]
    }
   ],
   "metadata": {}
  },
  {
   "cell_type": "code",
   "execution_count": null,
   "source": [
    "# we want to change the list to [3,2,4] but it is not changing as \r\n",
    "# this is not the correct way\r\n",
    "def newList(li):\r\n",
    "    li = [3,2,4]\r\n",
    "    return\r\n",
    "\r\n",
    "li = [1,2,3,4,5]\r\n",
    "newList(li)\r\n",
    "print(li)"
   ],
   "outputs": [
    {
     "output_type": "stream",
     "name": "stdout",
     "text": [
      "[1, 2, 3, 4, 5]\n"
     ]
    }
   ],
   "metadata": {}
  },
  {
   "cell_type": "code",
   "execution_count": null,
   "source": [
    "# The correct way of doin things is\r\n",
    "def newList(li):\r\n",
    "    li = [3,2,4]\r\n",
    "    return li\r\n",
    "\r\n",
    "li = [1,2,3,4,5]\r\n",
    "li = newList(li)\r\n",
    "print(li)"
   ],
   "outputs": [
    {
     "output_type": "stream",
     "name": "stdout",
     "text": [
      "[3, 2, 4]\n"
     ]
    }
   ],
   "metadata": {}
  },
  {
   "cell_type": "markdown",
   "source": [
    "### Revercing a List"
   ],
   "metadata": {}
  },
  {
   "cell_type": "markdown",
   "source": [
    "1. Using the concept of swapping and length"
   ],
   "metadata": {}
  },
  {
   "cell_type": "code",
   "execution_count": null,
   "source": [
    "def reverseL(li):\r\n",
    "    length = len(li)\r\n",
    "    for i in range(length//2):\r\n",
    "        li[i],li[length-i-1] = li[length-i-1],li[i] # This is how we can perform swapping in python for lists\r\n",
    "    \r\n",
    "li = [1, 2, 3, 4, 5, 6]\r\n",
    "reverseL(li)\r\n",
    "print(li)\r\n",
    "        "
   ],
   "outputs": [
    {
     "output_type": "stream",
     "name": "stdout",
     "text": [
      "[6, 5, 4, 3, 2, 1]\n"
     ]
    }
   ],
   "metadata": {}
  },
  {
   "cell_type": "markdown",
   "source": [
    "2. Using the concept of negetive indexing"
   ],
   "metadata": {}
  },
  {
   "cell_type": "code",
   "execution_count": null,
   "source": [
    "# Using the negetive indexing concept\r\n",
    "def reverseL2(li):\r\n",
    "    length = len(li)\r\n",
    "    for i in range(length//2):\r\n",
    "        li[i],li[-i-1] = li[-i-1],li[i] # This is how we can perform swapping in python for lists\r\n",
    "    \r\n",
    "li = [1, 2, 3, 4, 5, 6]\r\n",
    "reverseL2(li)\r\n",
    "print(li)"
   ],
   "outputs": [
    {
     "output_type": "stream",
     "name": "stdout",
     "text": [
      "[6, 5, 4, 3, 2, 1]\n"
     ]
    }
   ],
   "metadata": {}
  },
  {
   "cell_type": "markdown",
   "source": [
    "3. Using the concept of slicing a list"
   ],
   "metadata": {}
  },
  {
   "cell_type": "code",
   "execution_count": 114,
   "source": [
    "# for understanding\r\n",
    "li = [6,5,4,3,2,1]\r\n",
    "li"
   ],
   "outputs": [
    {
     "output_type": "execute_result",
     "data": {
      "text/plain": [
       "[6, 5, 4, 3, 2, 1]"
      ]
     },
     "metadata": {},
     "execution_count": 114
    }
   ],
   "metadata": {}
  },
  {
   "cell_type": "code",
   "execution_count": 115,
   "source": [
    "li[3:1:-1]"
   ],
   "outputs": [
    {
     "output_type": "execute_result",
     "data": {
      "text/plain": [
       "[3, 4]"
      ]
     },
     "metadata": {},
     "execution_count": 115
    }
   ],
   "metadata": {}
  },
  {
   "cell_type": "code",
   "execution_count": 117,
   "source": [
    "li[:1:-1]"
   ],
   "outputs": [
    {
     "output_type": "execute_result",
     "data": {
      "text/plain": [
       "[1, 2, 3, 4]"
      ]
     },
     "metadata": {},
     "execution_count": 117
    }
   ],
   "metadata": {}
  },
  {
   "cell_type": "code",
   "execution_count": 118,
   "source": [
    "li[3::-1]"
   ],
   "outputs": [
    {
     "output_type": "execute_result",
     "data": {
      "text/plain": [
       "[3, 4, 5, 6]"
      ]
     },
     "metadata": {},
     "execution_count": 118
    }
   ],
   "metadata": {}
  },
  {
   "cell_type": "code",
   "execution_count": 119,
   "source": [
    "# now to reverse the list completely\r\n",
    "li[::-1]"
   ],
   "outputs": [
    {
     "output_type": "execute_result",
     "data": {
      "text/plain": [
       "[1, 2, 3, 4, 5, 6]"
      ]
     },
     "metadata": {},
     "execution_count": 119
    }
   ],
   "metadata": {}
  },
  {
   "cell_type": "code",
   "execution_count": 121,
   "source": [
    "# as we know that the above output is not stored anywhere\r\n",
    "# we could store it simply doing\r\n",
    "li = li[::-1]\r\n",
    "li"
   ],
   "outputs": [
    {
     "output_type": "execute_result",
     "data": {
      "text/plain": [
       "[6, 5, 4, 3, 2, 1]"
      ]
     },
     "metadata": {},
     "execution_count": 121
    }
   ],
   "metadata": {}
  },
  {
   "cell_type": "markdown",
   "source": [
    "### Question 3"
   ],
   "metadata": {}
  },
  {
   "cell_type": "markdown",
   "source": [
    "<pre>\r\n",
    "Swap Alternate\r\n",
    "\r\n",
    "You have been given an array/list(ARR) of size N. You need to swap every pair of alternate elements in the array/list.\r\n",
    "You don't need to print or return anything, just change in the input array itself.\r\n",
    "Input Format :\r\n",
    "The first line contains an Integer 't' which denotes the number of test cases or queries to be run. Then the test cases follow.\r\n",
    "\r\n",
    "First line of each test case or query contains an integer 'N' representing the size of the array/list.\r\n",
    "\r\n",
    "Second line contains 'N' single space separated integers representing the elements in the array/list.\r\n",
    "Output Format :\r\n",
    "For each test case, print the elements of the resulting array in a single row separated by a single space.\r\n",
    "\r\n",
    "Output for every test case will be printed in a separate line.\r\n",
    "Constraints :\r\n",
    "1 <= t <= 10^2\r\n",
    "0 <= N <= 10^5\r\n",
    "Time Limit: 1sec\r\n",
    "Sample Input 1:\r\n",
    "1\r\n",
    "6\r\n",
    "9 3 6 12 4 32\r\n",
    "Sample Output 1 :\r\n",
    "3 9 12 6 32 4\r\n",
    "Sample Input 2:\r\n",
    "2\r\n",
    "9\r\n",
    "9 3 6 12 4 32 5 11 19\r\n",
    "4\r\n",
    "1 2 3 4\r\n",
    "Sample Output 2 :\r\n",
    "3 9 12 6 32 4 11 5 19 \r\n",
    "2 1 4 3 \r\n",
    "</pre>"
   ],
   "metadata": {}
  },
  {
   "cell_type": "code",
   "execution_count": 30,
   "source": [
    "def swapAlternate(arr, n) :\r\n",
    "    a = 0\r\n",
    "    b = 1\r\n",
    "    for i in range(len(arr)//2):\r\n",
    "        arr[a],arr[b] = arr[b],arr[a]\r\n",
    "        a +=2\r\n",
    "        b +=2\r\n",
    "    return arr\r\n",
    "\r\n",
    "a = swapAlternate([9, 3, 6, 12, 4, 32, 5, 11, 19],9)\r\n",
    "print(a)"
   ],
   "outputs": [
    {
     "output_type": "stream",
     "name": "stdout",
     "text": [
      "[3, 9, 12, 6, 32, 4, 11, 5, 19]\n"
     ]
    }
   ],
   "metadata": {}
  },
  {
   "cell_type": "code",
   "execution_count": 32,
   "source": [
    "def swapAlternate(arr, n) :\r\n",
    "    for i in range(0, (n-1), 2):\r\n",
    "        temp = arr[i]\r\n",
    "        arr[i] = arr[i+1]\r\n",
    "        arr[i+1] = temp\r\n",
    "    return arr\r\n",
    "\r\n",
    "a = swapAlternate([9, 3, 6, 12, 4, 32, 5, 11, 19],9)\r\n",
    "print(a)"
   ],
   "outputs": [
    {
     "output_type": "stream",
     "name": "stdout",
     "text": [
      "[3, 9, 12, 6, 32, 4, 11, 5, 19]\n"
     ]
    }
   ],
   "metadata": {}
  },
  {
   "cell_type": "markdown",
   "source": [
    "### Question 4"
   ],
   "metadata": {}
  },
  {
   "cell_type": "markdown",
   "source": [
    "<pre>\r\n",
    "Find Unique\r\n",
    "\r\n",
    "You have been given an integer array/list(ARR) of size N. Where N is equal to [2M + 1].\r\n",
    "Now, in the given array/list, 'M' numbers are present twice and one number is present only once.\r\n",
    "You need to find and return that number which is unique in the array/list.\r\n",
    " Note:\r\n",
    "Unique element is always present in the array/list according to the given condition.\r\n",
    "Input format :\r\n",
    "The first line contains an Integer 't' which denotes the number of test cases or queries to be run. Then the test cases follow.\r\n",
    "\r\n",
    "First line of each test case or query contains an integer 'N' representing the size of the array/list.\r\n",
    "\r\n",
    "Second line contains 'N' single space separated integers representing the elements in the array/list.\r\n",
    "Output Format :\r\n",
    "For each test case, print the unique element present in the array.\r\n",
    "\r\n",
    "Output for every test case will be printed in a separate line.\r\n",
    "Constraints :\r\n",
    "1 <= t <= 10^2\r\n",
    "0 <= N <= 10^3\r\n",
    "Time Limit: 1 sec\r\n",
    "Sample Input 1:\r\n",
    "1\r\n",
    "7\r\n",
    "2 3 1 6 3 6 2\r\n",
    "Sample Output 1:\r\n",
    "1\r\n",
    "Sample Input 2:\r\n",
    "2\r\n",
    "5\r\n",
    "2 4 7 2 7\r\n",
    "9\r\n",
    "1 3 1 3 6 6 7 10 7\r\n",
    "Sample Output 2:\r\n",
    "4\r\n",
    "10\r\n",
    "</pre>"
   ],
   "metadata": {}
  },
  {
   "cell_type": "code",
   "execution_count": 20,
   "source": [
    "def findUnique(arr, n):\r\n",
    "    for j in range(0,n):\r\n",
    "        ptr = 0\r\n",
    "        for i in range(n):\r\n",
    "            if arr[j] == arr[i]:\r\n",
    "                ptr +=1          \r\n",
    "        if ptr == 1:\r\n",
    "            return(arr[j])\r\n",
    "            break # added as we know there is only one unique element\r\n",
    "     \r\n",
    "           \r\n",
    "a = findUnique([2, 3, 1, 6, 3, 6, 2],7)\r\n",
    "print(a)\r\n"
   ],
   "outputs": [
    {
     "output_type": "stream",
     "name": "stdout",
     "text": [
      "1\n"
     ]
    }
   ],
   "metadata": {}
  },
  {
   "cell_type": "markdown",
   "source": [
    "<pre>\r\n",
    "Time Complexity for this approach: ​Time complexity for this approach is O(n^2), which is not good, hence we move to the next approach.\r\n",
    "\r\n",
    "Approach 2:​​We can Use Sorting to solve the problem in O(nLogn) time. The idea is simple,first sort the array,\r\n",
    "so that all occurrences of every element become consecutive. Once theoccurrences become consecutive, we can traverse the sorted array and print the unique elementin O(n) time.\r\n",
    "\r\n",
    "Approach 3: ​The best solution is to use XOR. Taking XOR of all the elements present in the array, gives us the unique element present in the array. time complexity is O(n)\r\n",
    "\r\n",
    "read the pdf for more\r\n",
    "</pre>"
   ],
   "metadata": {}
  },
  {
   "cell_type": "markdown",
   "source": [
    "### Question 5"
   ],
   "metadata": {}
  },
  {
   "cell_type": "markdown",
   "source": [
    "<pre>\r\n",
    "Find Duplicate\r\n",
    "\r\n",
    "You have been given an integer array/list(ARR) of size N which contains numbers from 0 to (N - 2). Each number is present at least once. That is, if N = 5, \r\n",
    "the array/list constitutes values ranging from 0 to 3 and among these, there is a single integer value that is present twice. You need to find and return that duplicate number present in the array.\r\n",
    "Note :\r\n",
    "Duplicate number is always present in the given array/list.\r\n",
    "Input format :\r\n",
    "The first line contains an Integer 't' which denotes the number of test cases or queries to be run. Then the test cases follow.\r\n",
    "\r\n",
    "First line of each test case or query contains an integer 'N' representing the size of the array/list.\r\n",
    "\r\n",
    "Second line contains 'N' single space separated integers representing the elements in the array/list.\r\n",
    "Output Format :\r\n",
    "For each test case, print the duplicate element in the array/list.\r\n",
    "\r\n",
    "Output for every test case will be printed in a separate line.\r\n",
    "Constraints :\r\n",
    "1 <= t <= 10^2\r\n",
    "0 <= N <= 10^3\r\n",
    "Time Limit: 1 sec\r\n",
    "Sample Input 1:\r\n",
    "1\r\n",
    "9\r\n",
    "0 7 2 5 4 7 1 3 6\r\n",
    "Sample Output 1:\r\n",
    "7\r\n",
    "Sample Input 2:\r\n",
    "2\r\n",
    "5\r\n",
    "0 2 1 3 1\r\n",
    "7\r\n",
    "0 3 1 5 4 3 2\r\n",
    "Sample Output 2:\r\n",
    "1\r\n",
    "3\r\n",
    "</pre>"
   ],
   "metadata": {}
  },
  {
   "cell_type": "code",
   "execution_count": 38,
   "source": [
    "def duplicateNumber(arr, n):\r\n",
    "    for j in range(0,n-1):\r\n",
    "        ptr = 0\r\n",
    "        for i in range(0,n):\r\n",
    "            if arr[j] == arr[i]:\r\n",
    "                ptr +=1          \r\n",
    "        if ptr == 2:\r\n",
    "            return(arr[j])\r\n",
    "            break # added as we know there is only one duplicate element\r\n",
    "        \r\n",
    "a  = duplicateNumber([4, 2, 3, 1, 4, 0],6)\r\n",
    "print(a)"
   ],
   "outputs": [
    {
     "output_type": "stream",
     "name": "stdout",
     "text": [
      "4\n"
     ]
    }
   ],
   "metadata": {}
  },
  {
   "cell_type": "markdown",
   "source": [
    "<pre>\r\n",
    "Approach 2: ​A better solution for this problem can be by using XOR operator. Using XORoperator, we can solve this problem in one traversal only.\r\n",
    "\r\n",
    "Approach 3:​ Another approach is to make use of the condition that all elements lies between 0and n-2. So first calculate the sum of all natural numbers between 0 to n-2 by using the directformula ​((n - 1) * (n - 2)) / 2​ and sum of all elements of the array. Now, subtract the sum of allnatural numbers between 0 to n-2 from sum of all elements of the array. This will give you theduplicate element present in the array.\r\n",
    "\r\n",
    "Pseudo Code for this approach:Function findduplicate:\r\n",
    "    sum=0    \r\n",
    "    For i = 0 to i less than size:\r\n",
    "        sum = sum + input[i];  \r\n",
    "    n = size  \r\n",
    "    sumOfNaturalNumbers = ((n - 1) * (n - 2)) / 2\r\n",
    "(for more details see pdf)\r\n",
    "</pre>"
   ],
   "metadata": {}
  },
  {
   "cell_type": "markdown",
   "source": [
    "### Ouestion 6"
   ],
   "metadata": {}
  },
  {
   "cell_type": "markdown",
   "source": [
    "<pre>\r\n",
    "Array Intersection\r\n",
    "\r\n",
    "You have been given two integer arrays/list(ARR1 and ARR2) of size M and N, respectively. You need to print their intersection; \r\n",
    "An intersection for this problem can be defined when both the arrays/lists contain a particular value or to put it in other words, \r\n",
    "when there is a common value that exists in both the arrays/lists.\r\n",
    "Note :\r\n",
    "Input arrays/lists can contain duplicate elements.\r\n",
    "\r\n",
    "The intersection elements printed would be in the order they appear in the first array/list(ARR1)\r\n",
    "\r\n",
    "\r\n",
    "Input format :\r\n",
    "The first line contains an Integer 't' which denotes the number of test cases or queries to be run. Then the test cases follow.\r\n",
    "\r\n",
    "First line of each test case or query contains an integer 'N' representing the size of the first array/list.\r\n",
    "\r\n",
    "Second line contains 'N' single space separated integers representing the elements of the first the array/list.\r\n",
    "\r\n",
    "Third line contains an integer 'M' representing the size of the second array/list.\r\n",
    "\r\n",
    "Fourth line contains 'M' single space separated integers representing the elements of the second array/list.\r\n",
    "Output format :\r\n",
    "For each test case, print the intersection elements in a row, separated by a single space.\r\n",
    "\r\n",
    "Output for every test case will be printed in a separate line.\r\n",
    "Constraints :\r\n",
    "1 <= t <= 10^2\r\n",
    "0 <= N <= 10^5\r\n",
    "0 <= M <= 10^5\r\n",
    "Time Limit: 1 sec \r\n",
    "Sample Input 1 :\r\n",
    "2\r\n",
    "6\r\n",
    "2 6 8 5 4 3\r\n",
    "4\r\n",
    "2 3 4 7 \r\n",
    "2\r\n",
    "10 10\r\n",
    "1\r\n",
    "10\r\n",
    "Sample Output 1 :\r\n",
    "2 4 3\r\n",
    "10\r\n",
    "Sample Input 2 :\r\n",
    "1\r\n",
    "4\r\n",
    "2 6 1 2\r\n",
    "5\r\n",
    "1 2 3 4 2\r\n",
    "Sample Output 2 :\r\n",
    "2 1 2\r\n",
    "Explanation for Sample Output 2 :\r\n",
    "Since, both input arrays have two '2's, the intersection of the arrays also have two '2's. The first '2' of first array matches with the first '2' of the second array. Similarly, the second '2' of the first array matches with the second '2' if the second array.\r\n",
    "</pre>"
   ],
   "metadata": {}
  },
  {
   "cell_type": "code",
   "execution_count": 9,
   "source": [
    "def intersections(arr1, n, arr2, m) :\r\n",
    "    for i in range(0,n):\r\n",
    "        for j in range(0,m):\r\n",
    "            if arr1[i] == arr2[j]:\r\n",
    "                print(arr1[i], end =' ')\r\n",
    "                arr2[j] = -10000000\r\n",
    "                break\r\n",
    "\r\n",
    "a = intersections([1,6,8,5,4,3],6,[2, 3, 4, 7],4)\r\n",
    "print(a)"
   ],
   "outputs": [
    {
     "output_type": "stream",
     "name": "stdout",
     "text": [
      "4 3 None\n"
     ]
    }
   ],
   "metadata": {}
  },
  {
   "cell_type": "markdown",
   "source": [
    "### Question 7"
   ],
   "metadata": {}
  },
  {
   "cell_type": "markdown",
   "source": [
    "<pre>\r\n",
    "Pair Sum\r\n",
    "\r\n",
    "You have been given an integer array/list(ARR) and a number X. Find and return the total number of pairs in the array/list which sum to X.\r\n",
    "Note:\r\n",
    "Given array/list can contain duplicate elements. \r\n",
    "Input format :\r\n",
    "The first line contains an Integer 't' which denotes the number of test cases or queries to be run. Then the test cases follow.\r\n",
    "\r\n",
    "First line of each test case or query contains an integer 'N' representing the size of the first array/list.\r\n",
    "\r\n",
    "Second line contains 'N' single space separated integers representing the elements in the array/list.\r\n",
    "\r\n",
    "Third line contains an integer 'X'.\r\n",
    "Output format :\r\n",
    "For each test case, print the total number of pairs present in the array/list.\r\n",
    "\r\n",
    "Output for every test case will be printed in a separate line.\r\n",
    "Constraints :\r\n",
    "1 <= t <= 10^2\r\n",
    "0 <= N <= 10^3\r\n",
    "0 <= X <= 10^9\r\n",
    "Time Limit: 1 sec\r\n",
    "Sample Input 1:\r\n",
    "1\r\n",
    "9\r\n",
    "1 3 6 2 5 4 3 2 4\r\n",
    "7\r\n",
    "Sample Output 1:\r\n",
    "7\r\n",
    "Sample Input 2:\r\n",
    "2\r\n",
    "9\r\n",
    "1 3 6 2 5 4 3 2 4\r\n",
    "12\r\n",
    "6\r\n",
    "2 8 10 5 -2 5\r\n",
    "10\r\n",
    "Sample Output 2:\r\n",
    "0\r\n",
    "2\r\n",
    "\r\n",
    "\r\n",
    " Explanation for Input 2:\r\n",
    "Since there doesn't exist any pair with sum equal to 12 for the first query, we print 0.\r\n",
    "\r\n",
    "For the second query, we have 2 pairs in total that sum up to 10. They are, (2, 8) and (5, 5).\r\n",
    "</pre>"
   ],
   "metadata": {}
  },
  {
   "cell_type": "code",
   "execution_count": 2,
   "source": [
    "def pairSum(arr, n, x) :\r\n",
    "    ctr = 0 \r\n",
    "    for i in range(n-1):\r\n",
    "        for j in range(i+1, n):\r\n",
    "            if arr[i] + arr[j] == x:\r\n",
    "                ctr += 1\r\n",
    "    return(ctr)\r\n",
    "\r\n",
    "a = pairSum([1, 3, 6, 2, 5, 4, 3, 2, 4],9,7)\r\n",
    "print(a)"
   ],
   "outputs": [
    {
     "output_type": "stream",
     "name": "stdout",
     "text": [
      "7\n"
     ]
    }
   ],
   "metadata": {}
  },
  {
   "cell_type": "markdown",
   "source": [
    "### Question 8"
   ],
   "metadata": {}
  },
  {
   "cell_type": "markdown",
   "source": [
    "<pre>\r\n",
    "Triplet Sum\r\n",
    "\r\n",
    "You have been given a random integer array/list(ARR) and a number X. Find and return the number of triplets in the array/list which sum to X.\r\n",
    "Note :\r\n",
    "Given array/list can contain duplicate elements.\r\n",
    "Input format :\r\n",
    "The first line contains an Integer 't' which denotes the number of test cases or queries to be run. Then the test cases follow.\r\n",
    "\r\n",
    "First line of each test case or query contains an integer 'N' representing the size of the first array/list.\r\n",
    "\r\n",
    "Second line contains 'N' single space separated integers representing the elements in the array/list.\r\n",
    "\r\n",
    "Third line contains an integer 'X'.\r\n",
    "Output format :\r\n",
    "For each test case, print the total number of triplets present in the array/list.\r\n",
    "\r\n",
    "Output for every test case will be printed in a separate line.\r\n",
    "Constraints :\r\n",
    "1 <= t <= 50\r\n",
    "0 <= N <= 10^2\r\n",
    "0 <= X <= 10^9\r\n",
    "Time Limit: 1 sec\r\n",
    "Sample Input 1:\r\n",
    "1\r\n",
    "7\r\n",
    "1 2 3 4 5 6 7 \r\n",
    "12\r\n",
    "Sample Output 1:\r\n",
    "5\r\n",
    "Sample Input 2:\r\n",
    "2\r\n",
    "7\r\n",
    "1 2 3 4 5 6 7 \r\n",
    "19\r\n",
    "9\r\n",
    "2 -5 8 -6 0 5 10 11 -3\r\n",
    "10\r\n",
    "Sample Output 2:\r\n",
    "0\r\n",
    "5\r\n",
    "\r\n",
    "\r\n",
    " Explanation for Input 2:\r\n",
    "Since there doesn't exist any triplet with sum equal to 19 for the first query, we print 0.\r\n",
    "\r\n",
    "For the second query, we have 5 triplets in total that sum up to 10. They are, (2, 8, 0), (2, 11, -3), (-5, 5, 10), (8, 5, -3) and (-6, 5, 11)\r\n",
    "</pre>"
   ],
   "metadata": {}
  },
  {
   "cell_type": "code",
   "execution_count": 19,
   "source": [
    "def findTriplet(arr, n, x) :\r\n",
    "    ctr = 0 \r\n",
    "    for i in range(n-1):\r\n",
    "        for j in range(i+1, n):\r\n",
    "            for k in range(j+1,n):\r\n",
    "                if arr[i] + arr[j] + arr[k]== x:\r\n",
    "                    ctr += 1\r\n",
    "    return(ctr)\r\n",
    "\r\n",
    "a = pairSum([2, -5, 8, -6, 0, 5, 10, 11, -3],9,10)\r\n",
    "print(a)"
   ],
   "outputs": [
    {
     "output_type": "stream",
     "name": "stdout",
     "text": [
      "2\n"
     ]
    }
   ],
   "metadata": {}
  },
  {
   "cell_type": "markdown",
   "source": [
    "### Question 9"
   ],
   "metadata": {}
  },
  {
   "cell_type": "markdown",
   "source": [
    "<pre>\r\n",
    "Sort 0 1\r\n",
    "\r\n",
    "You have been given an integer array/list(ARR) of size N that contains only integers, 0 and 1. Write a function to sort this array/list. Think of a solution which scans the array/list only once and don't require use of an extra array/list.\r\n",
    "Note:\r\n",
    "You need to change in the given array/list itself. Hence, no need to return or print anything. \r\n",
    "Input format :\r\n",
    "The first line contains an Integer 't' which denotes the number of test cases or queries to be run. Then the test cases follow.\r\n",
    "\r\n",
    "First line of each test case or query contains an integer 'N' representing the size of the array/list.\r\n",
    "\r\n",
    "Second line contains 'N' single space separated integers(all 0s and 1s) representing the elements in the array/list.\r\n",
    "Output format :\r\n",
    "For each test case, print the sorted array/list elements in a row separated by a single space.\r\n",
    "\r\n",
    "Output for every test case will be printed in a separate line.\r\n",
    "Constraints :\r\n",
    "1 <= t <= 10^2\r\n",
    "0 <= N <= 10^5\r\n",
    "Time Limit: 1 sec\r\n",
    "Sample Input 1:\r\n",
    "1\r\n",
    "7\r\n",
    "0 1 1 0 1 0 1\r\n",
    "Sample Output 1:\r\n",
    "0 0 0 1 1 1 1\r\n",
    "Sample Input 2:\r\n",
    "2\r\n",
    "8\r\n",
    "1 0 1 1 0 1 0 1\r\n",
    "5\r\n",
    "0 1 0 1 0\r\n",
    "Sample Output 2:\r\n",
    "0 0 0 1 1 1 1 1\r\n",
    "0 0 0 1 1 \r\n",
    "</pre>"
   ],
   "metadata": {}
  },
  {
   "cell_type": "code",
   "execution_count": 17,
   "source": [
    "def sortZeroesAndOne(arr, n):\r\n",
    "    nextZero = 0\r\n",
    "    for i in range(n) :\r\n",
    "        if arr[i] == 0 :\r\n",
    "            arr[nextZero],arr[i] = arr[i],arr[nextZero]\r\n",
    "            nextZero += 1\r\n",
    "    return(arr)\r\n",
    "    \r\n",
    "a = sortZeroesAndOne([0, 1, 1, 0, 1, 0, 1],7)\r\n",
    "print(a)"
   ],
   "outputs": [
    {
     "output_type": "stream",
     "name": "stdout",
     "text": [
      "[0, 0, 0, 1, 1, 1, 1]\n"
     ]
    }
   ],
   "metadata": {}
  },
  {
   "cell_type": "markdown",
   "source": [
    "## Searching and Sorting"
   ],
   "metadata": {}
  },
  {
   "cell_type": "markdown",
   "source": [
    "#### Searching"
   ],
   "metadata": {}
  },
  {
   "cell_type": "markdown",
   "source": [
    "### Linear Search"
   ],
   "metadata": {}
  },
  {
   "cell_type": "code",
   "execution_count": 15,
   "source": [
    "def LinearSearch(arr, n, x):\r\n",
    "    for i in range(n -1):\r\n",
    "        if arr[i] == x:\r\n",
    "            return(i)\r\n",
    "            break\r\n",
    "    else:\r\n",
    "        return('-1')\r\n",
    "\r\n",
    "a = LinearSearch([1,7,8,3,5,9,10,75,4], 9, 10)\r\n",
    "print(a)"
   ],
   "outputs": [
    {
     "output_type": "stream",
     "name": "stdout",
     "text": [
      "6\n"
     ]
    }
   ],
   "metadata": {}
  },
  {
   "cell_type": "markdown",
   "source": [
    "### Binary Search"
   ],
   "metadata": {}
  },
  {
   "cell_type": "markdown",
   "source": [
    "<pre>\r\n",
    "Code Binary Search\r\n",
    "\r\n",
    "You have been given a sorted(in ascending order) integer array/list(ARR) of size N and an element X. \r\n",
    "Write a function to search this element in the given input array/list using 'Binary Search'. \r\n",
    "Return the index of the element in the input array/list. In case the element is not present in the array/list, then return -1.\r\n",
    "Input format :\r\n",
    "The first line contains an Integer 'N' which denotes the size of the array/list.\r\n",
    "\r\n",
    "Second line contains 'N' single space separated integers representing the elements in the array/list.\r\n",
    "\r\n",
    "Third line contains an Integer 't' which denotes the number of test cases or queries to be run. Then the test cases follow..\r\n",
    "\r\n",
    "All the 't' lines henceforth, will take the value of X to be searched for in the array/list.\r\n",
    "Output Format :\r\n",
    "For each test case, print the index at which X is present, -1 otherwise.\r\n",
    "\r\n",
    "Output for every test case will be printed in a separate line.\r\n",
    "Constraints :\r\n",
    "1 <= t <= 10^4\r\n",
    "0 <= N <= 10^6\r\n",
    "0 <= X <= 10^9\r\n",
    "Time Limit: 1 sec\r\n",
    "Sample Input 1:\r\n",
    "7\r\n",
    "1 3 7 9 11 12 45\r\n",
    "1\r\n",
    "3\r\n",
    "Sample Output 1:\r\n",
    "1\r\n",
    "Sample Input 2:\r\n",
    "7\r\n",
    "1 2 3 4 5 6 7\r\n",
    "2\r\n",
    "9\r\n",
    "7\r\n",
    "Sample Output 2:\r\n",
    "-1\r\n",
    "6\r\n",
    "</pre>"
   ],
   "metadata": {}
  },
  {
   "cell_type": "code",
   "execution_count": 16,
   "source": [
    "def binarySearch(arr, n, x) :\r\n",
    "    s = 0\r\n",
    "    e = n - 1 # this is the (length of the array - 1)\r\n",
    "    while s <= e: # if start crosses end then terminate\r\n",
    "        mid = (s + e) // 2  \r\n",
    "        if arr[mid] == x:\r\n",
    "            return mid\r\n",
    "        elif arr[mid] < x:\r\n",
    "            s = mid + 1\r\n",
    "        else:\r\n",
    "            e = mid - 1\r\n",
    "    \r\n",
    "    return -1\r\n",
    "    \r\n",
    "a = binarySearch([1,2,3,4,5,6,7],7,5)\r\n",
    "print(a)"
   ],
   "outputs": [
    {
     "output_type": "stream",
     "name": "stdout",
     "text": [
      "4\n"
     ]
    }
   ],
   "metadata": {}
  },
  {
   "cell_type": "markdown",
   "source": [
    "#### Sorting"
   ],
   "metadata": {}
  },
  {
   "cell_type": "markdown",
   "source": [
    "### Selection Sort"
   ],
   "metadata": {}
  },
  {
   "cell_type": "code",
   "execution_count": 41,
   "source": [
    "def SelectionSort(arr):\r\n",
    "    length = len(arr)\r\n",
    "    # Put the correct element at the ith position\r\n",
    "    # We have to go till length -1 as the last element will by default be in the correct place, when the elements brfore it are sorted\r\n",
    "    for i in range(length - 1):\r\n",
    "        minIndex = i\r\n",
    "        # Calculating the index of minimum element for this iteration\r\n",
    "        for j in range(i+1, length): # i + 1 as when we have completed the iteration , a element goes in the correct position so next time we need not loop thorugh that again\r\n",
    "            if arr[j] < arr[minIndex]:\r\n",
    "                minIndex = j    # Temporarily stores the min elemnet for the iteration.\r\n",
    "        arr[i],arr[minIndex] = arr[minIndex],arr[i] # swapping the values of ith and the midIndex\r\n",
    "    return(arr)\r\n",
    "        \r\n",
    "a = SelectionSort([12,3,5,7,90,2,0,65])\r\n",
    "print(a)"
   ],
   "outputs": [
    {
     "output_type": "stream",
     "name": "stdout",
     "text": [
      "[0, 2, 3, 5, 7, 12, 65, 90]\n"
     ]
    }
   ],
   "metadata": {}
  },
  {
   "cell_type": "code",
   "execution_count": 40,
   "source": [
    "def SelectionSort(arr, n):\r\n",
    "    # Put the correct element at the ith position\r\n",
    "    for i in range(n - 1):\r\n",
    "        minIndex = i\r\n",
    "        # Calculating the index of minimum element for this iteration\r\n",
    "        for j in range(i+1, n): # i + 1 as when we have completed the iteration , a element goes in the correct position so next time we need not loop thorugh that again\r\n",
    "            if arr[j] < arr[minIndex]:\r\n",
    "                minIndex = j    # Temporarily stores the min elemnet for the iteration.\r\n",
    "        arr[i],arr[minIndex] = arr[minIndex],arr[i] # swapping the values of ith and the midIndex\r\n",
    "    return(arr)\r\n",
    "        \r\n",
    "a = SelectionSort([12,3,5,7,90,2,0,65],8)\r\n",
    "print(a)"
   ],
   "outputs": [
    {
     "output_type": "stream",
     "name": "stdout",
     "text": [
      "[0, 2, 3, 5, 7, 12, 65, 90]\n"
     ]
    }
   ],
   "metadata": {}
  },
  {
   "cell_type": "markdown",
   "source": [
    "### Bubble Sort"
   ],
   "metadata": {}
  },
  {
   "cell_type": "code",
   "execution_count": 36,
   "source": [
    "def bubbleSort(arr):\r\n",
    "    length = len(arr)\r\n",
    "    for i in range(length -1): # as it starts from 0, we are going from 0th element till the end of the array\r\n",
    "        for j in range(length-1-i): # as we do not want to iterate through the elements already sorted in the back\r\n",
    "            if arr[j] > arr[j+1]:\r\n",
    "                arr[j] ,arr[j+1] = arr[j+1], arr[j]\r\n",
    "    return(arr)\r\n",
    "\r\n",
    "a = bubbleSort([12,3,5,7,90,2,0,65])\r\n",
    "print(a)"
   ],
   "outputs": [
    {
     "output_type": "stream",
     "name": "stdout",
     "text": [
      "[0, 2, 3, 5, 7, 12, 65, 90]\n"
     ]
    }
   ],
   "metadata": {}
  },
  {
   "cell_type": "code",
   "execution_count": 37,
   "source": [
    "def bubbleSort(arr, n):\r\n",
    "    for i in range(n - 1):\r\n",
    "        for j in range(n -1 - i): # as it starts from 0, we are going from 0th element till the end of the array and not checking after the ith element as the it would be already sorted by that point\r\n",
    "            if arr[j] > arr[j+1]:\r\n",
    "                arr[j] ,arr[j+1] = arr[j+1], arr[j]\r\n",
    "    return(arr)\r\n",
    "\r\n",
    "a = bubbleSort([12,3,5,7,90,2,0,65],8)\r\n",
    "print(a)"
   ],
   "outputs": [
    {
     "output_type": "stream",
     "name": "stdout",
     "text": [
      "[0, 2, 3, 5, 7, 12, 65, 90]\n"
     ]
    }
   ],
   "metadata": {}
  },
  {
   "cell_type": "markdown",
   "source": [
    "### Insertoin Sort"
   ],
   "metadata": {}
  },
  {
   "cell_type": "markdown",
   "source": [
    "<pre>\r\n",
    "Code Insertion Sort\r\n",
    "\r\n",
    "Provided with a random integer array/list(ARR) of size N, you have been required to sort this array using 'Insertion Sort'.\r\n",
    " Note:\r\n",
    "Change in the input array/list itself. You don't need to return or print the elements.\r\n",
    " Input format :\r\n",
    "The first line contains an Integer 't' which denotes the number of test cases or queries to be run. Then the test cases follow.\r\n",
    "\r\n",
    "First line of each test case or query contains an integer 'N' representing the size of the array/list.\r\n",
    "\r\n",
    "Second line contains 'N' single space separated integers representing the elements in the array/list.\r\n",
    "Output Format :\r\n",
    "For each test case, print the elements of the array/list in sorted order separated by a single space.\r\n",
    "\r\n",
    "Output for every test case will be printed in a separate line.\r\n",
    "Constraints :\r\n",
    "1 <= t <= 10^2\r\n",
    "0 <= N <= 10^3\r\n",
    "Time Limit: 1 sec\r\n",
    "Sample Input 1:\r\n",
    "1\r\n",
    "7\r\n",
    "2 13 4 1 3 6 28\r\n",
    "Sample Output 1:\r\n",
    "1 2 3 4 6 13 28\r\n",
    "Sample Input 2:\r\n",
    "2\r\n",
    "5\r\n",
    "9 3 6 2 0\r\n",
    "4\r\n",
    "4 3 2 1\r\n",
    "Sample Output 2:\r\n",
    "0 2 3 6 9\r\n",
    "1 2 3 4 \r\n",
    "</pre>"
   ],
   "metadata": {}
  },
  {
   "cell_type": "code",
   "execution_count": 4,
   "source": [
    "def insertionSort(arr, n):\r\n",
    "    # one element is sorted so we will have to start from 1st insted of 0th index.\r\n",
    "    # and we have to traverse all the elements, so we have to go to length-1 index so for range it will be till length   \r\n",
    "    for i in range(1,n):\r\n",
    "        j = i-1 # for comparing with the sorted array\r\n",
    "        temp = arr[i]\r\n",
    "        # Shifting elemnts till the condition holds\r\n",
    "        while(j>=0 and arr[j] > temp):\r\n",
    "            arr[j+1] = arr[j]\r\n",
    "            j = j-1\r\n",
    "        # arr[j+1] is correct position for the ith element\r\n",
    "        arr[j+1] = temp\r\n",
    "    return(arr)\r\n",
    "    \r\n",
    "a = insertionSort([12,3,5,7,90,2,0,65],8)\r\n",
    "print(a)"
   ],
   "outputs": [
    {
     "output_type": "stream",
     "name": "stdout",
     "text": [
      "[0, 2, 3, 5, 7, 12, 65, 90]\n"
     ]
    }
   ],
   "metadata": {}
  },
  {
   "cell_type": "markdown",
   "source": [
    "### Code Merge Two Sorted Arrays"
   ],
   "metadata": {}
  },
  {
   "cell_type": "markdown",
   "source": [
    "<pre>\r\n",
    "Code Merge Two Sorted Arrays\r\n",
    "Send Feedback\r\n",
    "You have been given two sorted arrays/lists(ARR1 and ARR2) of size N and M respectively, merge them into a third array/list such that the third array is also sorted.\r\n",
    "Input Format :\r\n",
    "The first line contains an Integer 't' which denotes the number of test cases or queries to be run. Then the test cases follow.\r\n",
    "\r\n",
    "First line of each test case or query contains an integer 'N' representing the size of the first array/list.\r\n",
    "\r\n",
    "Second line contains 'N' single space separated integers representing the elements of the first array/list.\r\n",
    "\r\n",
    "Third line contains an integer 'M' representing the size of the second array/list.\r\n",
    "\r\n",
    "Fourth line contains 'M' single space separated integers representing the elements of the second array/list.\r\n",
    "Output Format :\r\n",
    "For each test case, print the sorted array/list(of size N + M) in a single row, separated by a single space.\r\n",
    "\r\n",
    "Output for every test case will be printed in a separate line.\r\n",
    "Constraints :\r\n",
    "1 <= t <= 10^2\r\n",
    "0 <= N <= 10^5\r\n",
    "0 <= M <= 10^5\r\n",
    "Time Limit: 1 sec \r\n",
    "Sample Input 1 :\r\n",
    "1\r\n",
    "5\r\n",
    "1 3 4 7 11\r\n",
    "4\r\n",
    "2 4 6 13\r\n",
    "Sample Output 1 :\r\n",
    "1 2 3 4 4 6 7 11 13 \r\n",
    "Sample Input 2 :\r\n",
    "2\r\n",
    "3\r\n",
    "10 100 500\r\n",
    "7\r\n",
    "4 7 9 25 30 300 450\r\n",
    "4\r\n",
    "7 45 89 90\r\n",
    "0\r\n",
    "Sample Output 2 :\r\n",
    "4 7 9 10 25 30 100 300 450 500\r\n",
    "7 45 89 90\r\n",
    "</pre>"
   ],
   "metadata": {}
  },
  {
   "cell_type": "code",
   "execution_count": 28,
   "source": [
    "def merge(arr1, n, arr2, m) : \r\n",
    "    i = 0\r\n",
    "    j = 0\r\n",
    "    arr = []\r\n",
    "    while((i<n) and (j<m)):\r\n",
    "        if arr1[i] < arr2[j]:\r\n",
    "            arr.append(arr1[i])\r\n",
    "            i += 1\r\n",
    "        else:\r\n",
    "            arr.append(arr2[j])\r\n",
    "            j += 1\r\n",
    "    # if one of the arrays has no more elements to add then we append all the elements of the other array into the resultant array\r\n",
    "    while (i < n):\r\n",
    "        arr.append(arr1[i])\r\n",
    "        i += 1\r\n",
    "    while (j < m):\r\n",
    "        arr.append(arr2[j])\r\n",
    "        j += 1\r\n",
    "    \r\n",
    "    return arr\r\n",
    "\r\n",
    "arr1 = [1,4,9,10]\r\n",
    "arr2 = [2,3,6,7,8]\r\n",
    "arr = merge(arr1,4,arr2,5)\r\n",
    "print(arr)"
   ],
   "outputs": [
    {
     "output_type": "stream",
     "name": "stdout",
     "text": [
      "[1, 2, 3, 4, 6, 7, 8, 9, 10]\n"
     ]
    }
   ],
   "metadata": {}
  },
  {
   "cell_type": "code",
   "execution_count": 25,
   "source": [
    "def mergeSortedArrays(arr1,arr2):\r\n",
    "    i=0\r\n",
    "    j=0\r\n",
    "    n = len(arr1)\r\n",
    "    m = len(arr2)\r\n",
    "    \r\n",
    "    arr = []\r\n",
    "    \r\n",
    "    while((i < n) and (j < m)):\r\n",
    "        if(arr1[i] < arr2[j]):\r\n",
    "            arr.append(arr1[i])\r\n",
    "            i = i + 1\r\n",
    "        else:\r\n",
    "            arr.append(arr2[j])\r\n",
    "            j = j + 1\r\n",
    "    while(i < n):\r\n",
    "        arr.append(arr1[i])\r\n",
    "        i = i + 1\r\n",
    "        \r\n",
    "    while(j < m):\r\n",
    "        arr.append(arr2[j])\r\n",
    "        j = j + 1\r\n",
    "    return arr\r\n",
    "\r\n",
    "arr1 = [1,4,9,10]\r\n",
    "arr2 = [2,3,6,7,8]\r\n",
    "arr = mergeSortedArrays(arr1,arr2)\r\n",
    "print(arr)"
   ],
   "outputs": [
    {
     "output_type": "stream",
     "name": "stdout",
     "text": [
      "[1, 2, 3, 4, 6, 7, 8, 9, 10]\n"
     ]
    }
   ],
   "metadata": {}
  },
  {
   "cell_type": "code",
   "execution_count": 9,
   "source": [
    "def mergeSortedArrays(arr1,arr2):\r\n",
    "    i=0\r\n",
    "    j=0\r\n",
    "    len1 = len(arr1)\r\n",
    "    len2 = len(arr2)\r\n",
    "    \r\n",
    "    arr = []\r\n",
    "    \r\n",
    "    while((i<len1) and (j < len2)):\r\n",
    "        if(arr1[i] < arr2[j]):\r\n",
    "            arr.append(arr1[i])\r\n",
    "            i = i + 1\r\n",
    "        else:\r\n",
    "            arr.append(arr2[j])\r\n",
    "            j = j + 1\r\n",
    "    while(i < len1):\r\n",
    "        arr.append(arr1[i])\r\n",
    "        i = i + 1\r\n",
    "        \r\n",
    "    while(j < len2):\r\n",
    "        arr.append(arr2[j])\r\n",
    "        j = j + 1\r\n",
    "    return arr\r\n",
    "\r\n",
    "arr1 = [1,4,9,10]\r\n",
    "arr2 = [2,3,6,7,8]\r\n",
    "arr = mergeSortedArrays(arr1,arr2)\r\n",
    "print(arr)"
   ],
   "outputs": [
    {
     "output_type": "stream",
     "name": "stdout",
     "text": [
      "[1, 2, 3, 4, 6, 7, 8, 9, 10]\n"
     ]
    }
   ],
   "metadata": {}
  },
  {
   "cell_type": "code",
   "execution_count": 5,
   "source": [
    "arr1 = [1,4,9,10]\r\n",
    "arr2 = [2,6,3,7,8]\r\n",
    "print(len(arr1),len(arr2))"
   ],
   "outputs": [
    {
     "output_type": "stream",
     "name": "stdout",
     "text": [
      "4 5\n"
     ]
    }
   ],
   "metadata": {}
  },
  {
   "cell_type": "markdown",
   "source": [
    "### Question 1 - Push Zeros to end"
   ],
   "metadata": {}
  },
  {
   "cell_type": "markdown",
   "source": [
    "<pre>\r\n",
    "You have been given a random integer array/list(ARR) of size N. You have been required to push all the zeros that are present in the array/list to the end of it. Also, make sure to maintain the relative order of the non-zero elements.\r\n",
    "Note:\r\n",
    "Change in the input array/list itself. You don't need to return or print the elements.\r\n",
    "\r\n",
    "You need to do this in one scan of array only. Don't use extra space.\r\n",
    "\r\n",
    "\r\n",
    "Input format :\r\n",
    "The first line contains an Integer 't' which denotes the number of test cases or queries to be run. Then the test cases follow.\r\n",
    "\r\n",
    "First line of each test case or query contains an integer 'N' representing the size of the array/list.\r\n",
    "\r\n",
    "Second line contains 'N' single space separated integers representing the elements in the array/list.\r\n",
    "Output Format :\r\n",
    "For each test case, print the elements of the array/list in the desired order separated by a single space.\r\n",
    "\r\n",
    "Output for every test case will be printed in a separate line.\r\n",
    "Constraints :\r\n",
    "1 <= t <= 10^2\r\n",
    "0 <= N <= 10^5\r\n",
    "Time Limit: 1 sec\r\n",
    "Sample Input 1:\r\n",
    "1\r\n",
    "7\r\n",
    "2 0 0 1 3 0 0\r\n",
    "Sample Output 1:\r\n",
    "2 1 3 0 0 0 0\r\n",
    " Explanation for the Sample Input 1 :\r\n",
    "All the zeros have been pushed towards the end of the array/list. Another important fact is that the order of the non-zero elements have been maintained as they appear in the input array/list.\r\n",
    "Sample Input 2:\r\n",
    "2\r\n",
    "5\r\n",
    "0 3 0 2 0\r\n",
    "5\r\n",
    "9 0 0 8 2\r\n",
    "Sample Output 2:\r\n",
    "3 2 0 0 0\r\n",
    "9 8 2 0 0 \r\n",
    "</pre>"
   ],
   "metadata": {}
  },
  {
   "cell_type": "code",
   "execution_count": 1,
   "source": [
    "def pushZerosAtEnd(arr, n):\r\n",
    "    i = 0\r\n",
    "    k = 0\r\n",
    "    while(i<n):\r\n",
    "        if(arr[i]!=0):\r\n",
    "          arr[i], arr[k] = arr[k], arr[i]\r\n",
    "          i+=1\r\n",
    "          k+=1\r\n",
    "        else:\r\n",
    "            i+=1  \r\n",
    "    return arr\r\n",
    "a = pushZerosAtEnd([2,6,0,0,9,0,8,0],8)\r\n",
    "print(a)\r\n",
    "# Time compexity O(n) Space Complexity O(1)"
   ],
   "outputs": [
    {
     "output_type": "stream",
     "name": "stdout",
     "text": [
      "[2, 6, 9, 8, 0, 0, 0, 0]\n"
     ]
    }
   ],
   "metadata": {}
  },
  {
   "cell_type": "code",
   "execution_count": 38,
   "source": [
    "def pushZerosAtEnd(arr, n) :\r\n",
    "    nonZero = 0\r\n",
    "    \r\n",
    "    for i in range(n):\r\n",
    "        if arr[i] != 0 :\r\n",
    "            temp = arr[i]\r\n",
    "            arr[i] = arr[nonZero]\r\n",
    "            arr[nonZero] = temp\r\n",
    "            nonZero += 1\r\n",
    "    return arr\r\n",
    "\r\n",
    "a = pushZerosAtEnd([2,6,0,0,9,0,8,0],8)\r\n",
    "print(a)\r\n",
    "# Takes a lot of space - as another array has to be kept"
   ],
   "outputs": [
    {
     "output_type": "stream",
     "name": "stdout",
     "text": [
      "[2, 6, 9, 8, 0, 0, 0, 0]\n"
     ]
    }
   ],
   "metadata": {}
  },
  {
   "cell_type": "markdown",
   "source": [
    "### Question 2"
   ],
   "metadata": {}
  },
  {
   "cell_type": "markdown",
   "source": [
    "<pre>\r\n",
    "Rotate array\r\n",
    "\r\n",
    "You have been given a random integer array/list(ARR) of size N. Write a function that rotates the given array/list by D elements(towards the left).\r\n",
    " Note:\r\n",
    "Change in the input array/list itself. You don't need to return or print the elements.\r\n",
    "Input format :\r\n",
    "The first line contains an Integer 't' which denotes the number of test cases or queries to be run. Then the test cases follow.\r\n",
    "\r\n",
    "First line of each test case or query contains an integer 'N' representing the size of the array/list.\r\n",
    "\r\n",
    "Second line contains 'N' single space separated integers representing the elements in the array/list.\r\n",
    "\r\n",
    "Third line contains the value of 'D' by which the array/list needs to be rotated.\r\n",
    "Output Format :\r\n",
    "For each test case, print the rotated array/list in a row separated by a single space.\r\n",
    "\r\n",
    "Output for every test case will be printed in a separate line.\r\n",
    "Constraints :\r\n",
    "1 <= t <= 10^4\r\n",
    "0 <= N <= 10^6\r\n",
    "0 <= D <= N\r\n",
    "Time Limit: 1 sec\r\n",
    "Sample Input 1:\r\n",
    "1\r\n",
    "7\r\n",
    "1 2 3 4 5 6 7\r\n",
    "2\r\n",
    "Sample Output 1:\r\n",
    "3 4 5 6 7 1 2\r\n",
    "Sample Input 2:\r\n",
    "2\r\n",
    "7\r\n",
    "1 2 3 4 5 6 7\r\n",
    "0\r\n",
    "4\r\n",
    "1 2 3 4\r\n",
    "2\r\n",
    "Sample Output 2:\r\n",
    "1 2 3 4 5 6 7\r\n",
    "3 4 1 2\r\n",
    "</pre>"
   ],
   "metadata": {}
  },
  {
   "cell_type": "code",
   "execution_count": 7,
   "source": [
    "def rotate(arr, n, d):\r\n",
    "    temp = []\r\n",
    "    for i in range(d,n):\r\n",
    "        temp.append(arr[i])\r\n",
    "    for i in range(d):\r\n",
    "        temp.append(arr[i])\r\n",
    "    arr = temp\r\n",
    "    return arr\r\n",
    "\r\n",
    "a = rotate([1, 3, 6, 11, 12, 17, 22, 26, 30, 33, 38],11,7)\r\n",
    "print(a)"
   ],
   "outputs": [
    {
     "output_type": "stream",
     "name": "stdout",
     "text": [
      "[26, 30, 33, 38, 1, 3, 6, 11, 12, 17, 22]\n"
     ]
    }
   ],
   "metadata": {}
  },
  {
   "cell_type": "markdown",
   "source": [
    "### Question 3"
   ],
   "metadata": {}
  },
  {
   "cell_type": "markdown",
   "source": [
    "<pre>\r\n",
    "Second Largest in array\r\n",
    "\r\n",
    "You have been given a random integer array/list(ARR) of size N. You are required to find and return the second largest element present in the array/list.\r\n",
    "If N <= 1 or all the elements are same in the array/list then return -2147483648 or -2 ^ 31(It is the smallest value for the range of Integer)\r\n",
    "Input format :\r\n",
    "The first line contains an Integer 't' which denotes the number of test cases or queries to be run. Then the test cases follow.\r\n",
    "\r\n",
    "The first line of each test case or query contains an integer 'N' representing the size of the array/list.\r\n",
    "\r\n",
    "The second line contains 'N' single space separated integers representing the elements in the array/list.\r\n",
    "Output Format :\r\n",
    "For each test case, print the second largest in the array/list if exists, -2147483648 otherwise.\r\n",
    "\r\n",
    "Output for every test case will be printed in a separate line.\r\n",
    "Constraints :\r\n",
    "1 <= t <= 10^2\r\n",
    "0 <= N <= 10^5\r\n",
    "\r\n",
    "Time Limit: 1 sec\r\n",
    "Sample Input 1:\r\n",
    "1\r\n",
    "7\r\n",
    "2 13 4 1 3 6 28\r\n",
    "Sample Output 1:\r\n",
    "13\r\n",
    "Sample Input 2:\r\n",
    "1\r\n",
    "5\r\n",
    "9 3 6 2 9\r\n",
    "Sample Output 2:\r\n",
    "6\r\n",
    "Sample Input 3:\r\n",
    "2\r\n",
    "2\r\n",
    "6 6\r\n",
    "4\r\n",
    "90 8 90 5\r\n",
    "Sample Output 3:\r\n",
    "-2147483648\r\n",
    "8\r\n",
    "</pre>"
   ],
   "metadata": {}
  },
  {
   "cell_type": "code",
   "execution_count": 119,
   "source": [
    "def secondLargestElement(arr, n):\r\n",
    "    L = -2147483648 \r\n",
    "    S = -2147483648\r\n",
    "    for i in range(n):\r\n",
    "        if arr[i] > L:\r\n",
    "            S = L\r\n",
    "            L = arr[i]\r\n",
    "        elif arr[i] > S and arr[i]!=L:\r\n",
    "            S = arr[i]\r\n",
    "    return S\r\n",
    "\r\n",
    "a = secondLargestElement([8,3,4,5,8,1], 6)\r\n",
    "print(a)"
   ],
   "outputs": [
    {
     "output_type": "stream",
     "name": "stdout",
     "text": [
      "5\n"
     ]
    }
   ],
   "metadata": {}
  },
  {
   "cell_type": "code",
   "execution_count": 117,
   "source": [
    "# Not a complete solution if there is a number repeated the logic will fail\r\n",
    "def secondLargestElement(arr, n):\r\n",
    "    for i in range(n-1):\r\n",
    "        for j in range(i,n):\r\n",
    "            if arr[i] > arr[j]:\r\n",
    "                arr[i], arr[j] = arr[j], arr[i]\r\n",
    "                a = arr[i] \r\n",
    "    return a\r\n",
    "\r\n",
    "a = secondLargestElement([1,2,3,9,4,5], 6)\r\n",
    "print(a)"
   ],
   "outputs": [
    {
     "output_type": "stream",
     "name": "stdout",
     "text": [
      "5\n"
     ]
    }
   ],
   "metadata": {}
  },
  {
   "cell_type": "markdown",
   "source": [
    "### Question 4"
   ],
   "metadata": {}
  },
  {
   "cell_type": "markdown",
   "source": [
    "<pre>\r\n",
    "Check Array Rotation\r\n",
    "Send Feedback\r\n",
    "You have been given an integer array/list(ARR) of size N. It has been sorted(in increasing order) and then rotated by some number 'K' in the right hand direction.\r\n",
    "Your task is to write a function that returns the value of 'K', that means, the index from which the array/list has been rotated.\r\n",
    "Input format :\r\n",
    "The first line contains an Integer 't' which denotes the number of test cases or queries to be run. Then the test cases follow.\r\n",
    "\r\n",
    "First line of each test case or query contains an integer 'N' representing the size of the array/list.\r\n",
    "\r\n",
    "Second line contains 'N' single space separated integers representing the elements in the array/list.\r\n",
    "Output Format :\r\n",
    "For each test case, print the value of 'K' or the index from which which the array/list has been rotated.\r\n",
    "\r\n",
    "Output for every test case will be printed in a separate line.\r\n",
    "Constraints :\r\n",
    "1 <= t <= 10^2\r\n",
    "0 <= N <= 10^5\r\n",
    "Time Limit: 1 sec\r\n",
    "Sample Input 1:\r\n",
    "1\r\n",
    "6\r\n",
    "5 6 1 2 3 4\r\n",
    "Sample Output 1:\r\n",
    "2\r\n",
    "Sample Input 2:\r\n",
    "2\r\n",
    "5\r\n",
    "3 6 8 9 10\r\n",
    "4\r\n",
    "10 20 30 1\r\n",
    "Sample Output 2:\r\n",
    "0\r\n",
    "3\r\n",
    "</pre>"
   ],
   "metadata": {}
  },
  {
   "cell_type": "code",
   "execution_count": 4,
   "source": [
    "def arrayRotateCheck(arr, n):\r\n",
    "    for i in range(n-1): # n-1 because last element if in wrong postion will be printed by i+1 in return statement so no need to go there\r\n",
    "        if(arr[i] > arr[i+1]):\r\n",
    "            return (i+1)\r\n",
    "    return 0\r\n",
    "a = arrayRotateCheck([4,5,6,7,0,1,2],7)\r\n",
    "print(a)"
   ],
   "outputs": [
    {
     "output_type": "stream",
     "name": "stdout",
     "text": [
      "4\n"
     ]
    }
   ],
   "metadata": {}
  },
  {
   "cell_type": "markdown",
   "source": [
    "### Question 5"
   ],
   "metadata": {}
  },
  {
   "cell_type": "markdown",
   "source": [
    "<pre>\r\n",
    "Sort 0 1 2\r\n",
    "\r\n",
    "You are given an integer array/list(ARR) of size N. It contains only 0s, 1s and 2s. Write a solution to sort this array/list in a 'single scan'.\r\n",
    "'Single Scan' refers to iterating over the array/list just once or to put it in other words, you will be visiting each element in the array/list just once.\r\n",
    "Note:\r\n",
    "You need to change in the given array/list itself. Hence, no need to return or print anything. \r\n",
    "Input format :\r\n",
    "The first line contains an Integer 't' which denotes the number of test cases or queries to be run. Then the test cases follow.\r\n",
    "\r\n",
    "First line of each test case or query contains an integer 'N' representing the size of the array/list.\r\n",
    "\r\n",
    "Second line contains 'N' single space separated integers(all 0s, 1s and 2s) representing the elements in the array/list.\r\n",
    "Output Format :\r\n",
    "For each test case, print the sorted array/list elements in a row separated by a single space.\r\n",
    "\r\n",
    "Output for every test case will be printed in a separate line.\r\n",
    "Constraints :\r\n",
    "1 <= t <= 10^2\r\n",
    "0 <= N <= 10^5\r\n",
    "Time Limit: 1 sec\r\n",
    "Sample Input 1:\r\n",
    "1\r\n",
    "7\r\n",
    "0 1 2 0 2 0 1\r\n",
    "Sample Output 1:\r\n",
    "0 0 0 1 1 2 2 \r\n",
    "Sample Input 2:\r\n",
    "2\r\n",
    "5\r\n",
    "2 2 0 1 1\r\n",
    "7\r\n",
    "0 1 2 0 1 2 0\r\n",
    "Sample Output 2:\r\n",
    "0 1 1 2 2 \r\n",
    "0 0 0 1 1 2 2\r\n",
    "</pre>"
   ],
   "metadata": {}
  },
  {
   "cell_type": "code",
   "execution_count": 7,
   "source": [
    "def sort012(arr, n):\r\n",
    "    i = 0\r\n",
    "    nextZero = 0\r\n",
    "    nextTwo = n - 1\r\n",
    "    while(i <= nextTwo):\r\n",
    "        if arr[i] == 0:\r\n",
    "            arr[i], arr[nextZero] = arr[nextZero], arr[i]\r\n",
    "            i += 1\r\n",
    "            nextZero += 1\r\n",
    "            \r\n",
    "        elif arr[i] == 2:\r\n",
    "            arr[i], arr[nextTwo] = arr[nextTwo], arr[i]\r\n",
    "            nextTwo -=1\r\n",
    "        \r\n",
    "        else:\r\n",
    "            i += 1\r\n",
    "    return arr\r\n",
    "\r\n",
    "a = sort012([1,0,2,1,0,1,2,0],8)\r\n",
    "print(a)\r\n",
    "            "
   ],
   "outputs": [
    {
     "output_type": "stream",
     "name": "stdout",
     "text": [
      "[0, 0, 0, 1, 1, 1, 2, 2]\n"
     ]
    }
   ],
   "metadata": {}
  },
  {
   "cell_type": "markdown",
   "source": [
    "### Question 6"
   ],
   "metadata": {}
  },
  {
   "cell_type": "markdown",
   "source": [
    "<pre>\r\n",
    "Sum of Two Arrays\r\n",
    "\r\n",
    "Two random integer arrays/lists have been given as ARR1 and ARR2 of size N and M respectively. Both the arrays/lists contain numbers from 0 to 9(i.e. single digit integer is present at every index). The idea here is to represent each array/list as an integer in itself of digits N and M.\r\n",
    "You need to find the sum of both the input arrays/list treating them as two integers and put the result in another array/list i.e. output array/list will also contain only single digit at every index.\r\n",
    "Note:\r\n",
    "The sizes N and M can be different. \r\n",
    "\r\n",
    "Output array/list(of all 0s) has been provided as a function argument. Its size will always be one more than the size of the bigger array/list. Place 0 at the 0th index if there is no carry. \r\n",
    "\r\n",
    "No need to print the elements of the output array/list.\r\n",
    "Using the function \"sumOfTwoArrays\", write the solution to the problem and store the answer inside this output array/list. The main code will handle the printing of the output on its own.\r\n",
    "Input format :\r\n",
    "The first line contains an Integer 't' which denotes the number of test cases or queries to be run. Then the test cases follow.\r\n",
    "\r\n",
    "First line of each test case or query contains an integer 'N' representing the size of the first array/list.\r\n",
    "\r\n",
    "Second line contains 'N' single space separated integers representing the elements of the first array/list.\r\n",
    "\r\n",
    "Third line contains an integer 'M' representing the size of the second array/list.\r\n",
    "\r\n",
    "Fourth line contains 'M' single space separated integers representing the elements of the second array/list.\r\n",
    "Output Format :\r\n",
    "For each test case, print the required sum of the arrays/list in a row, separated by a single space.\r\n",
    "\r\n",
    "Output for every test case will be printed in a separate line.\r\n",
    "Constraints :\r\n",
    "1 <= t <= 10^2\r\n",
    "0 <= N <= 10^5\r\n",
    "0 <= M <= 10^5\r\n",
    "Time Limit: 1 sec \r\n",
    "Sample Input 1:\r\n",
    "1\r\n",
    "3\r\n",
    "6 2 4\r\n",
    "3\r\n",
    "7 5 6\r\n",
    "Sample Output 1:\r\n",
    "1 3 8 0\r\n",
    "Sample Input 2:\r\n",
    "2\r\n",
    "3\r\n",
    "8 5 2\r\n",
    "2\r\n",
    "1 3\r\n",
    "4\r\n",
    "9 7 6 1\r\n",
    "3\r\n",
    "4 5 9\r\n",
    "Sample Output 2:\r\n",
    "0 8 6 5\r\n",
    "1 0 2 2 0\r\n",
    "</pre> "
   ],
   "metadata": {}
  },
  {
   "cell_type": "code",
   "execution_count": 27,
   "source": [
    "def sumOfTwoArrays(arr1, n, arr2, m):\r\n",
    "    i = n - 1 # index for arr1\r\n",
    "    j = m - 1 # index for arr2\r\n",
    "    k = max(n,m) # index for the result\r\n",
    "    carry = 0\r\n",
    "    a = k+1 # the size of the result array has to be 1 grater than the array which has tha maximum length as we have to account for carry\r\n",
    "    output = [None]*a\r\n",
    "    \r\n",
    "    while i >=0 and j >= 0:\r\n",
    "        SUM = arr1[i] +arr2[j] +carry\r\n",
    "        output[k] = SUM % 10\r\n",
    "        carry = SUM//10\r\n",
    "        i -= 1\r\n",
    "        j -= 1\r\n",
    "        k -= 1\r\n",
    "        \r\n",
    "    while i >=0:\r\n",
    "        SUM = arr1[i] + carry\r\n",
    "        output[k] = SUM % 10\r\n",
    "        carry = SUM//10\r\n",
    "        i -= 1\r\n",
    "        k -= 1\r\n",
    "        \r\n",
    "    while j>=0:\r\n",
    "        SUM = arr2[j] + carry\r\n",
    "        output[k] = SUM % 10\r\n",
    "        carry = SUM//10\r\n",
    "        j -= 1\r\n",
    "        k -= 1\r\n",
    "    \r\n",
    "    output[0] = carry\r\n",
    "    \r\n",
    "    return (output)\r\n",
    "\r\n",
    "a = sumOfTwoArrays([2,1,9,6], 4, [4,7,8,3,2,7], 6)\r\n",
    "print(a)"
   ],
   "outputs": [
    {
     "output_type": "stream",
     "name": "stdout",
     "text": [
      "[0, 4, 8, 0, 5, 2, 3]\n"
     ]
    }
   ],
   "metadata": {}
  },
  {
   "cell_type": "code",
   "execution_count": 24,
   "source": [
    "k = 5\r\n",
    "output=[]*k\r\n",
    "len(output)"
   ],
   "outputs": [
    {
     "output_type": "execute_result",
     "data": {
      "text/plain": [
       "0"
      ]
     },
     "metadata": {},
     "execution_count": 24
    }
   ],
   "metadata": {}
  }
 ],
 "metadata": {
  "interpreter": {
   "hash": "96eb50e1d44aed467dc8f759cb08c32fbfa9babcf79c554e2d0e5feb04653a10"
  },
  "kernelspec": {
   "display_name": "Python 3.8.8 64-bit ('base': conda)",
   "name": "python3"
  },
  "language_info": {
   "name": "python",
   "version": ""
  },
  "orig_nbformat": 4
 },
 "nbformat": 4,
 "nbformat_minor": 2
}