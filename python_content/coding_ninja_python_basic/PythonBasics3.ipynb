{
 "cells": [
  {
   "cell_type": "markdown",
   "source": [
    "# Python Basics 3"
   ],
   "metadata": {}
  },
  {
   "cell_type": "markdown",
   "source": [
    "Contents:\r\n",
    "* Strings\r\n",
    "* 2D Lists\r\n",
    "* Tuples Dictionaries & Sets"
   ],
   "metadata": {}
  },
  {
   "cell_type": "markdown",
   "source": [
    "## String"
   ],
   "metadata": {}
  },
  {
   "cell_type": "markdown",
   "source": [
    "### Initialisation"
   ],
   "metadata": {}
  },
  {
   "cell_type": "code",
   "execution_count": 2,
   "source": [
    "a = 'Avishek'"
   ],
   "outputs": [],
   "metadata": {}
  },
  {
   "cell_type": "code",
   "execution_count": 3,
   "source": [
    "print(a)"
   ],
   "outputs": [
    {
     "output_type": "stream",
     "name": "stdout",
     "text": [
      "Avishek\n"
     ]
    }
   ],
   "metadata": {}
  },
  {
   "cell_type": "code",
   "execution_count": 4,
   "source": [
    "a = \"Avishek\""
   ],
   "outputs": [],
   "metadata": {}
  },
  {
   "cell_type": "code",
   "execution_count": 5,
   "source": [
    "print(a)"
   ],
   "outputs": [
    {
     "output_type": "stream",
     "name": "stdout",
     "text": [
      "Avishek\n"
     ]
    }
   ],
   "metadata": {}
  },
  {
   "cell_type": "code",
   "execution_count": 6,
   "source": [
    "a = '''Avishek'''"
   ],
   "outputs": [],
   "metadata": {}
  },
  {
   "cell_type": "code",
   "execution_count": 7,
   "source": [
    "print(a)"
   ],
   "outputs": [
    {
     "output_type": "stream",
     "name": "stdout",
     "text": [
      "Avishek\n"
     ]
    }
   ],
   "metadata": {}
  },
  {
   "cell_type": "markdown",
   "source": [
    "### Multiline string"
   ],
   "metadata": {}
  },
  {
   "cell_type": "code",
   "execution_count": 8,
   "source": [
    "# Advntage of the trinple quotes - Multiline string\r\n",
    "b = '''My \r\n",
    "name is\r\n",
    "Avishek Roy'''"
   ],
   "outputs": [],
   "metadata": {}
  },
  {
   "cell_type": "code",
   "execution_count": 9,
   "source": [
    "print(b)"
   ],
   "outputs": [
    {
     "output_type": "stream",
     "name": "stdout",
     "text": [
      "My \n",
      "name is\n",
      "Avishek Roy\n"
     ]
    }
   ],
   "metadata": {}
  },
  {
   "cell_type": "markdown",
   "source": [
    "### String Indexing"
   ],
   "metadata": {}
  },
  {
   "cell_type": "code",
   "execution_count": 10,
   "source": [
    "# The concept of indexing is quite similar to that of indxing in lists\r\n",
    "a = 'Avishek'"
   ],
   "outputs": [],
   "metadata": {}
  },
  {
   "cell_type": "code",
   "execution_count": 11,
   "source": [
    "a[0]"
   ],
   "outputs": [
    {
     "output_type": "execute_result",
     "data": {
      "text/plain": [
       "'A'"
      ]
     },
     "metadata": {},
     "execution_count": 11
    }
   ],
   "metadata": {}
  },
  {
   "cell_type": "code",
   "execution_count": 12,
   "source": [
    "a[6]"
   ],
   "outputs": [
    {
     "output_type": "execute_result",
     "data": {
      "text/plain": [
       "'k'"
      ]
     },
     "metadata": {},
     "execution_count": 12
    }
   ],
   "metadata": {}
  },
  {
   "cell_type": "code",
   "execution_count": 13,
   "source": [
    "a[-1]"
   ],
   "outputs": [
    {
     "output_type": "execute_result",
     "data": {
      "text/plain": [
       "'k'"
      ]
     },
     "metadata": {},
     "execution_count": 13
    }
   ],
   "metadata": {}
  },
  {
   "cell_type": "code",
   "execution_count": 14,
   "source": [
    "a = '''My\r\n",
    "name is\r\n",
    "Avishek'''"
   ],
   "outputs": [],
   "metadata": {}
  },
  {
   "cell_type": "code",
   "execution_count": 15,
   "source": [
    "a[0]"
   ],
   "outputs": [
    {
     "output_type": "execute_result",
     "data": {
      "text/plain": [
       "'M'"
      ]
     },
     "metadata": {},
     "execution_count": 15
    }
   ],
   "metadata": {}
  },
  {
   "cell_type": "code",
   "execution_count": 16,
   "source": [
    "# When we go to the new line the index is taken by new line character\r\n",
    "a[2]"
   ],
   "outputs": [
    {
     "output_type": "execute_result",
     "data": {
      "text/plain": [
       "'\\n'"
      ]
     },
     "metadata": {},
     "execution_count": 16
    }
   ],
   "metadata": {}
  },
  {
   "cell_type": "code",
   "execution_count": 17,
   "source": [
    "a"
   ],
   "outputs": [
    {
     "output_type": "execute_result",
     "data": {
      "text/plain": [
       "'My\\nname is\\nAvishek'"
      ]
     },
     "metadata": {},
     "execution_count": 17
    }
   ],
   "metadata": {}
  },
  {
   "cell_type": "markdown",
   "source": [
    "### String are Immutable"
   ],
   "metadata": {}
  },
  {
   "cell_type": "code",
   "execution_count": 18,
   "source": [
    "a = 'Avishek'"
   ],
   "outputs": [],
   "metadata": {}
  },
  {
   "cell_type": "code",
   "execution_count": 19,
   "source": [
    "#This gives a error as lists are immutable\r\n",
    "# a[0] = 'R'"
   ],
   "outputs": [],
   "metadata": {}
  },
  {
   "cell_type": "markdown",
   "source": [
    "### Concatination of 2 Strings"
   ],
   "metadata": {}
  },
  {
   "cell_type": "code",
   "execution_count": 20,
   "source": [
    "a = \"red\"\r\n",
    "a = a + \"blue\"\r\n",
    "a"
   ],
   "outputs": [
    {
     "output_type": "execute_result",
     "data": {
      "text/plain": [
       "'redblue'"
      ]
     },
     "metadata": {},
     "execution_count": 20
    }
   ],
   "metadata": {}
  },
  {
   "cell_type": "code",
   "execution_count": 21,
   "source": [
    "a += 'red'\r\n",
    "a"
   ],
   "outputs": [
    {
     "output_type": "execute_result",
     "data": {
      "text/plain": [
       "'redbluered'"
      ]
     },
     "metadata": {},
     "execution_count": 21
    }
   ],
   "metadata": {}
  },
  {
   "cell_type": "code",
   "execution_count": 22,
   "source": [
    "id(a)"
   ],
   "outputs": [
    {
     "output_type": "execute_result",
     "data": {
      "text/plain": [
       "1856611954608"
      ]
     },
     "metadata": {},
     "execution_count": 22
    }
   ],
   "metadata": {}
  },
  {
   "cell_type": "code",
   "execution_count": 23,
   "source": [
    "a += 'yellow'\r\n",
    "a"
   ],
   "outputs": [
    {
     "output_type": "execute_result",
     "data": {
      "text/plain": [
       "'redblueredyellow'"
      ]
     },
     "metadata": {},
     "execution_count": 23
    }
   ],
   "metadata": {}
  },
  {
   "cell_type": "code",
   "execution_count": 24,
   "source": [
    "# the id of the a's are different -  as stings are immutable\r\n",
    "id(a)"
   ],
   "outputs": [
    {
     "output_type": "execute_result",
     "data": {
      "text/plain": [
       "1856633336896"
      ]
     },
     "metadata": {},
     "execution_count": 24
    }
   ],
   "metadata": {}
  },
  {
   "cell_type": "code",
   "execution_count": 25,
   "source": [
    "a = 'blue'\r\n",
    "a = a*3\r\n",
    "a"
   ],
   "outputs": [
    {
     "output_type": "execute_result",
     "data": {
      "text/plain": [
       "'blueblueblue'"
      ]
     },
     "metadata": {},
     "execution_count": 25
    }
   ],
   "metadata": {}
  },
  {
   "cell_type": "code",
   "execution_count": 26,
   "source": [
    "# python does not add a stringa and a number\r\n",
    "# a = 'red' + 3\r\n",
    "# we can use the str operation and convert the number into a string\r\n",
    "a = 'red' + str(3)\r\n",
    "a"
   ],
   "outputs": [
    {
     "output_type": "execute_result",
     "data": {
      "text/plain": [
       "'red3'"
      ]
     },
     "metadata": {},
     "execution_count": 26
    }
   ],
   "metadata": {}
  },
  {
   "cell_type": "markdown",
   "source": [
    "### Slicing on String"
   ],
   "metadata": {}
  },
  {
   "cell_type": "code",
   "execution_count": 27,
   "source": [
    "# [start:end:step]\r\n",
    "a = 'Avishek'\r\n",
    "a[1:4]"
   ],
   "outputs": [
    {
     "output_type": "execute_result",
     "data": {
      "text/plain": [
       "'vis'"
      ]
     },
     "metadata": {},
     "execution_count": 27
    }
   ],
   "metadata": {}
  },
  {
   "cell_type": "code",
   "execution_count": 28,
   "source": [
    "a[1:4:2]"
   ],
   "outputs": [
    {
     "output_type": "execute_result",
     "data": {
      "text/plain": [
       "'vs'"
      ]
     },
     "metadata": {},
     "execution_count": 28
    }
   ],
   "metadata": {}
  },
  {
   "cell_type": "code",
   "execution_count": 29,
   "source": [
    "a[-5:-3]"
   ],
   "outputs": [
    {
     "output_type": "execute_result",
     "data": {
      "text/plain": [
       "'is'"
      ]
     },
     "metadata": {},
     "execution_count": 29
    }
   ],
   "metadata": {}
  },
  {
   "cell_type": "code",
   "execution_count": 30,
   "source": [
    "a"
   ],
   "outputs": [
    {
     "output_type": "execute_result",
     "data": {
      "text/plain": [
       "'Avishek'"
      ]
     },
     "metadata": {},
     "execution_count": 30
    }
   ],
   "metadata": {}
  },
  {
   "cell_type": "code",
   "execution_count": 31,
   "source": [
    "a[::-1]"
   ],
   "outputs": [
    {
     "output_type": "execute_result",
     "data": {
      "text/plain": [
       "'kehsivA'"
      ]
     },
     "metadata": {},
     "execution_count": 31
    }
   ],
   "metadata": {}
  },
  {
   "cell_type": "code",
   "execution_count": 32,
   "source": [
    "a[:3:-1]"
   ],
   "outputs": [
    {
     "output_type": "execute_result",
     "data": {
      "text/plain": [
       "'keh'"
      ]
     },
     "metadata": {},
     "execution_count": 32
    }
   ],
   "metadata": {}
  },
  {
   "cell_type": "markdown",
   "source": [
    "### Iterating on Strings"
   ],
   "metadata": {}
  },
  {
   "cell_type": "code",
   "execution_count": 33,
   "source": [
    "str = 'Hello World' "
   ],
   "outputs": [],
   "metadata": {}
  },
  {
   "cell_type": "code",
   "execution_count": 34,
   "source": [
    "# Approach 1\r\n",
    "for i in str:\r\n",
    "    print(i)"
   ],
   "outputs": [
    {
     "output_type": "stream",
     "name": "stdout",
     "text": [
      "H\n",
      "e\n",
      "l\n",
      "l\n",
      "o\n",
      " \n",
      "W\n",
      "o\n",
      "r\n",
      "l\n",
      "d\n"
     ]
    }
   ],
   "metadata": {}
  },
  {
   "cell_type": "code",
   "execution_count": 35,
   "source": [
    "# Approach 2 - if we need the index\r\n",
    "for i in range(len(str)):\r\n",
    "    print(str[i])    "
   ],
   "outputs": [
    {
     "output_type": "stream",
     "name": "stdout",
     "text": [
      "H\n",
      "e\n",
      "l\n",
      "l\n",
      "o\n",
      " \n",
      "W\n",
      "o\n",
      "r\n",
      "l\n",
      "d\n"
     ]
    }
   ],
   "metadata": {}
  },
  {
   "cell_type": "code",
   "execution_count": 36,
   "source": [
    "# Calculate how many times 'l' appers in the strings \r\n",
    "count = 0\r\n",
    "for i in str:\r\n",
    "    if (i == 'l'):\r\n",
    "        count += 1\r\n",
    "print(count)"
   ],
   "outputs": [
    {
     "output_type": "stream",
     "name": "stdout",
     "text": [
      "3\n"
     ]
    }
   ],
   "metadata": {}
  },
  {
   "cell_type": "code",
   "execution_count": 37,
   "source": [
    "count = 0\r\n",
    "for i in range(len(str)):\r\n",
    "    if (str[i] == 'l'):\r\n",
    "        count += 1\r\n",
    "print(count)"
   ],
   "outputs": [
    {
     "output_type": "stream",
     "name": "stdout",
     "text": [
      "3\n"
     ]
    }
   ],
   "metadata": {}
  },
  {
   "cell_type": "markdown",
   "source": [
    "### In and Not in operation"
   ],
   "metadata": {}
  },
  {
   "cell_type": "markdown",
   "source": [
    "Starting from any character and a continious part of the string. Can't go backwards  \r\n",
    "if we want to check if a string is a substring or not we can use the in opereator"
   ],
   "metadata": {}
  },
  {
   "cell_type": "code",
   "execution_count": 38,
   "source": [
    "str = 'hello'\r\n",
    "a = 'hel'\r\n",
    "if a in str:\r\n",
    "    print ('yes it is a substring')\r\n",
    "else:\r\n",
    "    print('not a substring')"
   ],
   "outputs": [
    {
     "output_type": "stream",
     "name": "stdout",
     "text": [
      "yes it is a substring\n"
     ]
    }
   ],
   "metadata": {}
  },
  {
   "cell_type": "markdown",
   "source": [
    "### Comparison operators on strings"
   ],
   "metadata": {}
  },
  {
   "cell_type": "code",
   "execution_count": 39,
   "source": [
    "a = \"Avishek\" == \"Avishek\"\r\n",
    "a"
   ],
   "outputs": [
    {
     "output_type": "execute_result",
     "data": {
      "text/plain": [
       "True"
      ]
     },
     "metadata": {},
     "execution_count": 39
    }
   ],
   "metadata": {}
  },
  {
   "cell_type": "code",
   "execution_count": 40,
   "source": [
    "# Compared on the basis of ASSCI\r\n",
    "a = 'Avisehk' >= 'Abhishek'\r\n",
    "a"
   ],
   "outputs": [
    {
     "output_type": "execute_result",
     "data": {
      "text/plain": [
       "True"
      ]
     },
     "metadata": {},
     "execution_count": 40
    }
   ],
   "metadata": {}
  },
  {
   "cell_type": "code",
   "execution_count": 41,
   "source": [
    "# Smaller letters have a greater ASSCI values\r\n",
    "a = 'avishek' >= 'Avishek'\r\n",
    "a"
   ],
   "outputs": [
    {
     "output_type": "execute_result",
     "data": {
      "text/plain": [
       "True"
      ]
     },
     "metadata": {},
     "execution_count": 41
    }
   ],
   "metadata": {}
  },
  {
   "cell_type": "code",
   "execution_count": 42,
   "source": [
    "# if alll he char are same but the length is not = then who so evers length is more will have the greater value\r\n",
    "a = 'avi' >= 'Avishek'\r\n",
    "a"
   ],
   "outputs": [
    {
     "output_type": "execute_result",
     "data": {
      "text/plain": [
       "True"
      ]
     },
     "metadata": {},
     "execution_count": 42
    }
   ],
   "metadata": {}
  },
  {
   "cell_type": "markdown",
   "source": [
    "### Check Palindrome"
   ],
   "metadata": {}
  },
  {
   "cell_type": "markdown",
   "source": [
    "<pre>\r\n",
    "Given a string, determine if it is a palindrome, considering only alphanumeric characters.\r\n",
    "Palindrome\r\n",
    "A palindrome is a word, number, phrase, or other sequences of characters which read the same backwards and forwards.\r\n",
    "Example:\r\n",
    "If the input string happens to be, \"malayalam\" then as we see that this word can be read the same as forward and backwards, it is said to be a valid palindrome.\r\n",
    "\r\n",
    "The expected output for this example will print, 'true'.\r\n",
    "From that being said, you are required to return a boolean value from the function that has been asked to implement.\r\n",
    "Input Format:\r\n",
    "The first and only line of input contains a string without any leading and trailing spaces. All the characters in the string would be in lower case.\r\n",
    "Output Format:\r\n",
    "The only line of output prints either 'true' or 'false'.\r\n",
    "Note:\r\n",
    "You are not required to print anything. It has already been taken care of.\r\n",
    "Constraints:\r\n",
    "0 <= N <= 10^6\r\n",
    "Where N is the length of the input string.\r\n",
    "\r\n",
    "Time Limit: 1 second\r\n",
    "Sample Input 1 :\r\n",
    "abcdcba\r\n",
    "Sample Output 1 :\r\n",
    "true \r\n",
    "Sample Input 2:\r\n",
    "coding\r\n",
    "Sample Output 2:\r\n",
    "false\r\n",
    "</pre>"
   ],
   "metadata": {}
  },
  {
   "cell_type": "code",
   "execution_count": 43,
   "source": [
    "# Aproach 1 - not that good of a solution\r\n",
    "def isPalindrome(string):\r\n",
    "    temp = string[::-1]\r\n",
    "    if string == temp:\r\n",
    "        return True\r\n",
    "    else:\r\n",
    "        return False\r\n",
    "\r\n",
    "a = isPalindrome('aja')\r\n",
    "print(a)"
   ],
   "outputs": [
    {
     "output_type": "stream",
     "name": "stdout",
     "text": [
      "True\n"
     ]
    }
   ],
   "metadata": {}
  },
  {
   "cell_type": "code",
   "execution_count": 44,
   "source": [
    "# Approach 2 - better as will break as soon as any os the indices so not match\r\n",
    "# Time Complexity - O(N), Space Complexity O(1)\r\n",
    "def isPalindrome(string):\r\n",
    "    for i in range(len(string)):\r\n",
    "        if string[i] != string[-i-1]:\r\n",
    "            return False\r\n",
    "    else:\r\n",
    "        return True\r\n",
    "\r\n",
    "a = isPalindrome('codingc')\r\n",
    "print(a)\r\n"
   ],
   "outputs": [
    {
     "output_type": "stream",
     "name": "stdout",
     "text": [
      "False\n"
     ]
    }
   ],
   "metadata": {}
  },
  {
   "cell_type": "code",
   "execution_count": 45,
   "source": [
    "def isPalindrome(string) :\r\n",
    "    left = 0    \r\n",
    "    right = len(string) - 1    \r\n",
    "    while left < right :        \r\n",
    "        if string[left] != string[right] :            \r\n",
    "            return False        \r\n",
    "        left += 1        \r\n",
    "        right -= 1    \r\n",
    "    return True\r\n",
    "\r\n",
    "a = isPalindrome('abcdcba')\r\n",
    "print(a)"
   ],
   "outputs": [
    {
     "output_type": "stream",
     "name": "stdout",
     "text": [
      "True\n"
     ]
    }
   ],
   "metadata": {}
  },
  {
   "cell_type": "markdown",
   "source": [
    "### Operations on a string"
   ],
   "metadata": {}
  },
  {
   "cell_type": "markdown",
   "source": [
    "ord -  converts ASCII into strings  \r\n",
    "chr - convets strings into ASCII"
   ],
   "metadata": {}
  },
  {
   "cell_type": "markdown",
   "source": [
    "#### Split function"
   ],
   "metadata": {}
  },
  {
   "cell_type": "code",
   "execution_count": 46,
   "source": [
    "a = 'My name is Avisehk Roy'\r\n",
    "li  =  a.split()\r\n",
    "print(li)\r\n",
    "# returns a list"
   ],
   "outputs": [
    {
     "output_type": "stream",
     "name": "stdout",
     "text": [
      "['My', 'name', 'is', 'Avisehk', 'Roy']\n"
     ]
    }
   ],
   "metadata": {}
  },
  {
   "cell_type": "code",
   "execution_count": 47,
   "source": [
    "a = 'My,name,is,Avisehk,Roy'\r\n",
    "li  =  a.split(',')\r\n",
    "print(li)"
   ],
   "outputs": [
    {
     "output_type": "stream",
     "name": "stdout",
     "text": [
      "['My', 'name', 'is', 'Avisehk', 'Roy']\n"
     ]
    }
   ],
   "metadata": {}
  },
  {
   "cell_type": "markdown",
   "source": [
    "##### maxsplit"
   ],
   "metadata": {}
  },
  {
   "cell_type": "code",
   "execution_count": 48,
   "source": [
    "# Default argument is all the elemnts to be split, but we can specify then number of elements we would like it to split\r\n",
    "a = 'My name is Avisehk Roy'\r\n",
    "li  =  a.split(' ', 1) # the maxsplit splits the string into i+1 items so if I give it 1 then the string will be split into 2 items\r\n",
    "print(li)"
   ],
   "outputs": [
    {
     "output_type": "stream",
     "name": "stdout",
     "text": [
      "['My', 'name is Avisehk Roy']\n"
     ]
    }
   ],
   "metadata": {}
  },
  {
   "cell_type": "code",
   "execution_count": 49,
   "source": [
    "a = 'My name is Avisehk Roy'\r\n",
    "li  =  a.split(' ', 2)\r\n",
    "print(li)"
   ],
   "outputs": [
    {
     "output_type": "stream",
     "name": "stdout",
     "text": [
      "['My', 'name', 'is Avisehk Roy']\n"
     ]
    }
   ],
   "metadata": {}
  },
  {
   "cell_type": "markdown",
   "source": [
    "#### Replace"
   ],
   "metadata": {}
  },
  {
   "cell_type": "code",
   "execution_count": 50,
   "source": [
    "str = 'My name is Parik Roy'\r\n",
    "str.replace(\"Parik\", \"Avishek\")\r\n",
    "str\r\n",
    "# does not make any changes in str, as strings are immutable"
   ],
   "outputs": [
    {
     "output_type": "execute_result",
     "data": {
      "text/plain": [
       "'My name is Parik Roy'"
      ]
     },
     "metadata": {},
     "execution_count": 50
    }
   ],
   "metadata": {}
  },
  {
   "cell_type": "code",
   "execution_count": 51,
   "source": [
    "str = 'My name is Parik Roy'\r\n",
    "str = str.replace(\"Parik\", \"Avishek\")\r\n",
    "str"
   ],
   "outputs": [
    {
     "output_type": "execute_result",
     "data": {
      "text/plain": [
       "'My name is Avishek Roy'"
      ]
     },
     "metadata": {},
     "execution_count": 51
    }
   ],
   "metadata": {}
  },
  {
   "cell_type": "code",
   "execution_count": 52,
   "source": [
    "str = 'I am writing Rohan three times as Rohan will be replaced Rohan'\r\n",
    "str = str.replace(\"Rohan\", \"Avishek\")\r\n",
    "str"
   ],
   "outputs": [
    {
     "output_type": "execute_result",
     "data": {
      "text/plain": [
       "'I am writing Avishek three times as Avishek will be replaced Avishek'"
      ]
     },
     "metadata": {},
     "execution_count": 52
    }
   ],
   "metadata": {}
  },
  {
   "cell_type": "code",
   "execution_count": 53,
   "source": [
    "# If we want to specify that we want to replace only two Rohans in the statement, we can do that\r\n",
    "str = 'I am writing Rohan three times as Rohan will be replaced Rohan'\r\n",
    "str = str.replace(\"Rohan\", \"Avishek\",2)\r\n",
    "str"
   ],
   "outputs": [
    {
     "output_type": "execute_result",
     "data": {
      "text/plain": [
       "'I am writing Avishek three times as Avishek will be replaced Rohan'"
      ]
     },
     "metadata": {},
     "execution_count": 53
    }
   ],
   "metadata": {}
  },
  {
   "cell_type": "markdown",
   "source": [
    "#### Find"
   ],
   "metadata": {}
  },
  {
   "cell_type": "code",
   "execution_count": 54,
   "source": [
    "# finds returns the starting index of a substring if it is present inside a substring\r\n",
    "str = 'My name is Avishek'\r\n",
    "index  = str.find('Avi')\r\n",
    "print(index)"
   ],
   "outputs": [
    {
     "output_type": "stream",
     "name": "stdout",
     "text": [
      "11\n"
     ]
    }
   ],
   "metadata": {}
  },
  {
   "cell_type": "code",
   "execution_count": 55,
   "source": [
    "# If the index is not present the it will return -1\r\n",
    "str = 'My name is Avishek'\r\n",
    "index  = str.find('Avik')\r\n",
    "print(index)"
   ],
   "outputs": [
    {
     "output_type": "stream",
     "name": "stdout",
     "text": [
      "-1\n"
     ]
    }
   ],
   "metadata": {}
  },
  {
   "cell_type": "code",
   "execution_count": 56,
   "source": [
    "# we can specify to find the substring in a particular part of the string\r\n",
    "str = 'My name is Avishek. People call me as avi which is a short form for Avishek'\r\n",
    "index  = str.find('Avishek', 59,76)\r\n",
    "print(index)"
   ],
   "outputs": [
    {
     "output_type": "stream",
     "name": "stdout",
     "text": [
      "68\n"
     ]
    }
   ],
   "metadata": {}
  },
  {
   "cell_type": "markdown",
   "source": [
    "#### lower and upper"
   ],
   "metadata": {}
  },
  {
   "cell_type": "code",
   "execution_count": 57,
   "source": [
    "a = 'My name is Avishek'\r\n",
    "a = a.lower()\r\n",
    "print(a)\r\n",
    "a = a.upper()\r\n",
    "print(a)"
   ],
   "outputs": [
    {
     "output_type": "stream",
     "name": "stdout",
     "text": [
      "my name is avishek\n",
      "MY NAME IS AVISHEK\n"
     ]
    }
   ],
   "metadata": {}
  },
  {
   "cell_type": "markdown",
   "source": [
    "#### starts with"
   ],
   "metadata": {}
  },
  {
   "cell_type": "code",
   "execution_count": 58,
   "source": [
    "# weather a string is starting with the specified substring - return  a boolean\r\n",
    "str = 'My name is Avisehk'\r\n",
    "a = str.startswith('My n')\r\n",
    "print(a)"
   ],
   "outputs": [
    {
     "output_type": "stream",
     "name": "stdout",
     "text": [
      "True\n"
     ]
    }
   ],
   "metadata": {}
  },
  {
   "cell_type": "code",
   "execution_count": 59,
   "source": [
    "str = 'My name is Avisehk'\r\n",
    "a = str.startswith('name',3)\r\n",
    "print(a)"
   ],
   "outputs": [
    {
     "output_type": "stream",
     "name": "stdout",
     "text": [
      "True\n"
     ]
    }
   ],
   "metadata": {}
  },
  {
   "cell_type": "markdown",
   "source": [
    "### Replace character in a string"
   ],
   "metadata": {}
  },
  {
   "cell_type": "code",
   "execution_count": 60,
   "source": [
    "def replaceChar(string, chr1, chr2):\r\n",
    "    newStr = '' # we have to make a new string because we cannot make changes into the main string as we know that strings are immutable\r\n",
    "    for i in string:\r\n",
    "        if(i == chr1):\r\n",
    "            newStr += chr2\r\n",
    "        else:\r\n",
    "            newStr += i\r\n",
    "    return newStr\r\n",
    "\r\n",
    "a = replaceChar('halla','a','o')\r\n",
    "print(a)"
   ],
   "outputs": [
    {
     "output_type": "stream",
     "name": "stdout",
     "text": [
      "hollo\n"
     ]
    }
   ],
   "metadata": {}
  },
  {
   "cell_type": "markdown",
   "source": [
    "### Count - Vowals, Consonents, Digits & Special Character in Srtings"
   ],
   "metadata": {}
  },
  {
   "cell_type": "code",
   "execution_count": 61,
   "source": [
    "def countInString(str):\r\n",
    "    v,c,d,s = 0,0,0,0\r\n",
    "    for char in str:\r\n",
    "        if ( (char >= 'a'and char <= 'z') or (char >= 'A' and char <= 'Z') ): # either a vowal or a consonent\r\n",
    "            char = char.lower()\r\n",
    "            if (char =='a'or char =='e' or char =='i'or char =='o' or char =='u'):\r\n",
    "                v+=1\r\n",
    "            else:\r\n",
    "                c+=1\r\n",
    "        elif( char >= \"0\" or char <= \"9\" ):\r\n",
    "            d+=1\r\n",
    "        else:\r\n",
    "            s+=1   \r\n",
    "    return v,c,d,s       \r\n",
    "            \r\n",
    "string = 'hfAafsHjsld3$3*sdF$%@*'\r\n",
    "v,c,d,s = countInString(str)\r\n",
    "print(v,c,d,s)"
   ],
   "outputs": [
    {
     "output_type": "stream",
     "name": "stdout",
     "text": [
      "6 9 3 0\n"
     ]
    }
   ],
   "metadata": {}
  },
  {
   "cell_type": "markdown",
   "source": [
    "### Question 1 - Check Permutation"
   ],
   "metadata": {}
  },
  {
   "cell_type": "markdown",
   "source": [
    "<pre>\r\n",
    "For a given two strings, 'str1' and 'str2', check whether they are a permutation of each other or not.\r\n",
    "Permutations of each other\r\n",
    "Two strings are said to be a permutation of each other when either of the string's characters can be rearranged so that it becomes identical to the other one.\r\n",
    "\r\n",
    "Example: \r\n",
    "str1= \"sinrtg\" \r\n",
    "str2 = \"string\"\r\n",
    "\r\n",
    "The character of the first string(str1) can be rearranged to form str2 and hence we can say that the given strings are a permutation of each other.\r\n",
    "Input Format:\r\n",
    "The first line of input contains a string without any leading and trailing spaces, representing the first string 'str1'.\r\n",
    "\r\n",
    "The second line of input contains a string without any leading and trailing spaces, representing the second string 'str2'.\r\n",
    "Note:\r\n",
    "All the characters in the input strings would be in lower case.\r\n",
    "Output Format:\r\n",
    "The only line of output prints either 'true' or 'false', denoting whether the two strings are a permutation of each other or not.\r\n",
    "\r\n",
    "You are not required to print anything. It has already been taken care of. Just implement the function. \r\n",
    "Constraints:\r\n",
    "0 <= N <= 10^6\r\n",
    "Where N is the length of the input string.\r\n",
    "\r\n",
    "Time Limit: 1 second\r\n",
    "Sample Input 1:\r\n",
    "abcde\r\n",
    "baedc\r\n",
    "Sample Output 1:\r\n",
    "true\r\n",
    "Sample Input 2:\r\n",
    "abc\r\n",
    "cbd\r\n",
    "Sample Output 2:\r\n",
    "false\r\n",
    "</pre>"
   ],
   "metadata": {}
  },
  {
   "cell_type": "code",
   "execution_count": 62,
   "source": [
    "def isPermutation(string1, string2) :\r\n",
    "    ptr = 0\r\n",
    "    if len(string1) != len(string2):\r\n",
    "        return False\r\n",
    "    arr = [0]*256\r\n",
    "    for i in range(0,len(string1)):\r\n",
    "        arr[ord(string1[i])] = arr[ord(string1[i])] + 1 \r\n",
    "    for i in range(0,len(string2)):\r\n",
    "        arr[ord(string2[i])] = arr[ord(string2[i])] - 1\r\n",
    "    for i in range(256):\r\n",
    "        if arr[i] != 0:\r\n",
    "            return False\r\n",
    "    return True\r\n",
    "a = isPermutation('abd','abc')\r\n",
    "print(a)"
   ],
   "outputs": [
    {
     "output_type": "stream",
     "name": "stdout",
     "text": [
      "False\n"
     ]
    }
   ],
   "metadata": {}
  },
  {
   "cell_type": "code",
   "execution_count": 63,
   "source": [
    "def isPermutation(string1, string2) :\r\n",
    "    ptr = 0\r\n",
    "    if len(string1) != len(string2):\r\n",
    "        return False\r\n",
    "    arr = [0]*256\r\n",
    "    for i in range(0,len(string1)):\r\n",
    "        a = ord(string1[i])\r\n",
    "        arr[a] +=1\r\n",
    "    for i in range(0,len(string2)):\r\n",
    "        a = ord(string2[i])\r\n",
    "        arr[a] -=1\r\n",
    "    for i in range(256):\r\n",
    "        if arr[i] != 0:\r\n",
    "            return False\r\n",
    "        \r\n",
    "    return True\r\n",
    "a = isPermutation('abc987','acb879')\r\n",
    "print(a)"
   ],
   "outputs": [
    {
     "output_type": "stream",
     "name": "stdout",
     "text": [
      "True\n"
     ]
    }
   ],
   "metadata": {}
  },
  {
   "cell_type": "markdown",
   "source": [
    "### Question 2 - Remove Consecutive Duplicates"
   ],
   "metadata": {}
  },
  {
   "cell_type": "markdown",
   "source": [
    "<pre>\r\n",
    "For a given string(str), remove all the consecutive duplicate characters.\r\n",
    "Example:\r\n",
    "Input String: \"aaaa\"\r\n",
    "Expected Output: \"a\"\r\n",
    "\r\n",
    "Input String: \"aabbbcc\"\r\n",
    "Expected Output: \"abc\"\r\n",
    "\r\n",
    "Input Format:\r\n",
    "The first and only line of input contains a string without any leading and trailing spaces. All the characters in the string would be in lower case.\r\n",
    "Output Format:\r\n",
    "The only line of output prints the updated string.\r\n",
    "Note:\r\n",
    "You are not required to print anything. It has already been taken care of.\r\n",
    "Constraints:\r\n",
    "0 <= N <= 10^6\r\n",
    "Where N is the length of the input string.\r\n",
    "\r\n",
    "Time Limit: 1 second\r\n",
    "Sample Input 1:\r\n",
    "aabccbaa\r\n",
    "Sample Output 1:\r\n",
    "abcba\r\n",
    "Sample Input 2:\r\n",
    "xxyyzxx\r\n",
    "Sample Output 2:\r\n",
    "xyzx\r\n",
    "</pre>"
   ],
   "metadata": {}
  },
  {
   "cell_type": "code",
   "execution_count": 64,
   "source": [
    "def removeConsecutiveDuplicates(string):\r\n",
    "    ans = ''\r\n",
    "    for i in string:\r\n",
    "        if ans =='' or i != ans[len(ans)-1]:\r\n",
    "            ans += i\r\n",
    "    return ans\r\n",
    "\r\n",
    "a = removeConsecutiveDuplicates('aaabbc')\r\n",
    "print(a)"
   ],
   "outputs": [
    {
     "output_type": "stream",
     "name": "stdout",
     "text": [
      "abc\n"
     ]
    }
   ],
   "metadata": {}
  },
  {
   "cell_type": "code",
   "execution_count": 65,
   "source": [
    "def removeConsecutiveDuplicates(string):\r\n",
    "    n =  len(string)\r\n",
    "    ans = \"\"\r\n",
    "    startIndex = 0\r\n",
    "    while startIndex <n:\r\n",
    "        uniqueChar = string[startIndex]\r\n",
    "        nextUniqueCharIndex = startIndex + 1\r\n",
    "        \r\n",
    "        while ((nextUniqueCharIndex <n) and (string[nextUniqueCharIndex]==uniqueChar)):\r\n",
    "            nextUniqueCharIndex += 1\r\n",
    "        \r\n",
    "        ans += uniqueChar\r\n",
    "        startIndex = nextUniqueCharIndex\r\n",
    "    return ans\r\n",
    "        \r\n",
    "a = removeConsecutiveDuplicates('aaabbc')\r\n",
    "print(a)"
   ],
   "outputs": [
    {
     "output_type": "stream",
     "name": "stdout",
     "text": [
      "abc\n"
     ]
    }
   ],
   "metadata": {}
  },
  {
   "cell_type": "markdown",
   "source": [
    "### Question 3 - Reverse Each Word "
   ],
   "metadata": {}
  },
  {
   "cell_type": "markdown",
   "source": [
    "<pre>\r\n",
    "Aadil has been provided with a sentence in the form of a string as a function parameter. The task is to implement a function so as to print the sentence such that each word in the sentence is reversed.\r\n",
    "Example:\r\n",
    "Input Sentence: \"Hello, I am Aadil!\"\r\n",
    "The expected output will print, \",olleH I ma !lidaA\".\r\n",
    "Input Format:\r\n",
    "The first and only line of input contains a string without any leading and trailing spaces. The input string represents the sentence given to Aadil.\r\n",
    "Output Format:\r\n",
    "The only line of output prints the sentence(string) such that each word in the sentence is reversed. \r\n",
    "Constraints:\r\n",
    "0 <= N <= 10^6\r\n",
    "Where N is the length of the input string.\r\n",
    "\r\n",
    "Time Limit: 1 second\r\n",
    "Sample Input 1:\r\n",
    "Welcome to Coding Ninjas\r\n",
    "Sample Output 1:\r\n",
    "emocleW ot gnidoC sajniN\r\n",
    "Sample Input 2:\r\n",
    "Always indent your code\r\n",
    "Sample Output 2:\r\n",
    "syawlA tnedni ruoy edoc\r\n",
    "</pre>"
   ],
   "metadata": {}
  },
  {
   "cell_type": "code",
   "execution_count": 66,
   "source": [
    "def reverseEachWord(string):\r\n",
    "    arr = string.split(' ')\r\n",
    "    ans = ''\r\n",
    "    for i in range(len(arr)):\r\n",
    "        temp = arr[i]\r\n",
    "        temp = temp[::-1]\r\n",
    "        ans += temp + ' '\r\n",
    "    return ans\r\n",
    "\r\n",
    "a = reverseEachWord('Hello my name is Avishek')\r\n",
    "print(a)"
   ],
   "outputs": [
    {
     "output_type": "stream",
     "name": "stdout",
     "text": [
      "olleH ym eman si kehsivA \n"
     ]
    }
   ],
   "metadata": {}
  },
  {
   "cell_type": "code",
   "execution_count": 67,
   "source": [
    "def reverseEachWord(string):\r\n",
    "    arr = string.split(' ')\r\n",
    "    ans = ''\r\n",
    "    for i in range(len(arr)):\r\n",
    "        arr[i] = arr[i][::-1] + ' '\r\n",
    "        ans += arr[i]\r\n",
    "    return ans\r\n",
    "\r\n",
    "a = reverseEachWord('Hello my name is Avishek')\r\n",
    "print(a)"
   ],
   "outputs": [
    {
     "output_type": "stream",
     "name": "stdout",
     "text": [
      "olleH ym eman si kehsivA \n"
     ]
    }
   ],
   "metadata": {}
  },
  {
   "cell_type": "code",
   "execution_count": 68,
   "source": [
    "def reverseWord(string, start, end) :    \r\n",
    "    reverse = \"\"    \r\n",
    "    while start < end :        \r\n",
    "        reverse = string[start] + reverse        \r\n",
    "    start += 1    \r\n",
    "    return reverse\r\n",
    "\r\n",
    "def reverseEachWord(string) :    \r\n",
    "    n = len(string)    \r\n",
    "    previousSpaceIndex = -1    \r\n",
    "    ans = \"\"    \r\n",
    "    \r\n",
    "    i = 0    \r\n",
    "    while i < n :        \r\n",
    "        if string[i] == ' ' :            \r\n",
    "            ans += (reverseWord(string, previousSpaceIndex + 1, i) + \" \")            \r\n",
    "            previousSpaceIndex = i        \r\n",
    "        i += 1    \r\n",
    "        \r\n",
    "    ans += (reverseWord(string, previousSpaceIndex + 1, i) + \" \")    \r\n",
    "    return ans"
   ],
   "outputs": [],
   "metadata": {}
  },
  {
   "cell_type": "markdown",
   "source": [
    "### Question 4 - Remove character"
   ],
   "metadata": {}
  },
  {
   "cell_type": "markdown",
   "source": [
    "<pre>\r\n",
    "For a given a string(str) and a character X, write a function to remove all the occurrences of X from the given string.\r\n",
    "The input string will remain unchanged if the given character(X) doesn't exist in the input string.\r\n",
    "Input Format:\r\n",
    "The first line of input contains a string without any leading and trailing spaces.\r\n",
    "\r\n",
    "The second line of input contains a character(X) without any leading and trailing spaces.\r\n",
    "Output Format:\r\n",
    "The only line of output prints the updated string. \r\n",
    "Note:\r\n",
    "You are not required to print anything explicitly. It has already been taken care of.\r\n",
    "Constraints:\r\n",
    "0 <= N <= 10^6\r\n",
    "Where N is the length of the input string.\r\n",
    "\r\n",
    "Time Limit: 1 second\r\n",
    "Sample Input 1:\r\n",
    "aabccbaa\r\n",
    "a\r\n",
    "Sample Output 1:\r\n",
    "bccb\r\n",
    "Sample Input 2:\r\n",
    "xxyyzxx\r\n",
    "y\r\n",
    "Sample Output 2:\r\n",
    "xxzxx\r\n",
    "</pre>"
   ],
   "metadata": {}
  },
  {
   "cell_type": "code",
   "execution_count": 69,
   "source": [
    "def removeAllOccurrencesOfChar(string, ch) :\r\n",
    "    ans = ''\r\n",
    "    for i in range(len(string)):\r\n",
    "        if ord(string[i]) != ord(ch):\r\n",
    "            ans += string[i]\r\n",
    "    return ans\r\n",
    "\r\n",
    "a = removeAllOccurrencesOfChar('abcaadsca','a')\r\n",
    "print(a)\r\n",
    "        "
   ],
   "outputs": [
    {
     "output_type": "stream",
     "name": "stdout",
     "text": [
      "bcdsc\n"
     ]
    }
   ],
   "metadata": {}
  },
  {
   "cell_type": "code",
   "execution_count": 70,
   "source": [
    "# Given Solution\r\n",
    "def removeAllOccurrencesOfChar(string, ch) :    \r\n",
    "    n = len(string)    \r\n",
    "    ans = \"\"    \r\n",
    "    for i in range(n) :         \r\n",
    "        if string[i] != ch :            \r\n",
    "            ans += string[i]\r\n",
    "    return ans\r\n",
    "\r\n",
    "a = removeAllOccurrencesOfChar('abcaadsca','a')\r\n",
    "print(a)"
   ],
   "outputs": [
    {
     "output_type": "stream",
     "name": "stdout",
     "text": [
      "bcdsc\n"
     ]
    }
   ],
   "metadata": {}
  },
  {
   "cell_type": "markdown",
   "source": [
    "### Question 5 - Highest Occuring Character"
   ],
   "metadata": {}
  },
  {
   "cell_type": "markdown",
   "source": [
    "<pre>\r\n",
    "For a given a string(str), find and return the highest occurring character.\r\n",
    "Example:\r\n",
    "Input String: \"abcdeapapqarr\"\r\n",
    "Expected Output: 'a'\r\n",
    "Since 'a' has appeared four times in the string which happens to be the highest frequency character, the answer would be 'a'.\r\n",
    "If there are two characters in the input string with the same frequency, return the character which comes first.\r\n",
    "Consider:\r\n",
    "Assume all the characters in the given string to be in lowercase always.\r\n",
    "Input Format:\r\n",
    "The first and only line of input contains a string without any leading and trailing spaces.\r\n",
    "Output Format:\r\n",
    "The only line of output prints the updated string. \r\n",
    "Note:\r\n",
    "You are not required to print anything explicitly. It has already been taken care of.\r\n",
    "Constraints:\r\n",
    "0 <= N <= 10^6\r\n",
    "Where N is the length of the input string.\r\n",
    "\r\n",
    "Time Limit: 1 second\r\n",
    "Sample Input 1:\r\n",
    "abdefgbabfba\r\n",
    "Sample Output 1:\r\n",
    "b\r\n",
    "Sample Input 2:\r\n",
    "xy\r\n",
    "Sample Output 2:\r\n",
    "x\r\n",
    "</pre>"
   ],
   "metadata": {}
  },
  {
   "cell_type": "code",
   "execution_count": 71,
   "source": [
    "def highestOccuringChar(string):\r\n",
    "    maxFrequency = 0\r\n",
    "    arr = [0]*256\r\n",
    "    ans = ''\r\n",
    "    for i in range(len(string)):\r\n",
    "        arr[ord(string[i])] += 1\r\n",
    "        # To find which number is the highest in the array\r\n",
    "        maxFrequency = max(maxFrequency, arr[ord(string[i])])\r\n",
    "    \r\n",
    "    # To map which which char has the highest frequency\r\n",
    "    for i in range(len(string)):\r\n",
    "        if arr[ord(string[i])] == maxFrequency:\r\n",
    "            ans = string[i]\r\n",
    "            break\r\n",
    "    return ans\r\n",
    "        \r\n",
    "a = highestOccuringChar('aabbbdddaaacchkjd888')\r\n",
    "print(a)"
   ],
   "outputs": [
    {
     "output_type": "stream",
     "name": "stdout",
     "text": [
      "a\n"
     ]
    }
   ],
   "metadata": {}
  },
  {
   "cell_type": "markdown",
   "source": [
    "### Question 6 - Compress the String "
   ],
   "metadata": {}
  },
  {
   "cell_type": "markdown",
   "source": [
    "<pre>\r\n",
    "Write a program to do basic string compression. For a character which is consecutively repeated more than once, replace consecutive duplicate occurrences with the count of repetitions.\r\n",
    "Exmple:\r\n",
    "If a string has 'x' repeated 5 times, replace this \"xxxxx\" with \"x5\".\r\n",
    "\r\n",
    "The string is compressed only when the repeated character count is more than 1.\r\n",
    "Note :\r\n",
    "Consecutive count of every character in the input string is less than or equal to 9.\r\n",
    "Input Format:\r\n",
    "The first and only line of input contains a string without any leading and trailing spaces.\r\n",
    "Output Format:\r\n",
    "The only line of output prints the updated string.\r\n",
    "Note:\r\n",
    "You are not required to print anything. It has already been taken care of.\r\n",
    "Constraints:\r\n",
    "0 <= N <= 10^6\r\n",
    "Where N is the length of the input string.\r\n",
    "\r\n",
    "Time Limit: 1 second\r\n",
    "Sample Input 1:\r\n",
    "aaabbccdsa\r\n",
    "Sample Output 1:\r\n",
    "a3b2c2dsa\r\n",
    "Sample Input 2:\r\n",
    "aaabbcddeeeee\r\n",
    "Sample Output 2:\r\n",
    "a3b2cd2e5\r\n",
    "<pre>"
   ],
   "metadata": {}
  },
  {
   "cell_type": "code",
   "execution_count": 1,
   "source": [
    "def getCompressedString(string):\r\n",
    "    n = len(string)\r\n",
    "    ans = ''\r\n",
    "    cur = 1\r\n",
    "    # if n==0:\r\n",
    "    #     return ans\r\n",
    "    # cur =1\r\n",
    "    ans +=string[0]\r\n",
    "    \r\n",
    "    for i in range(1,n):\r\n",
    "        if string[i] == string[i-1]:\r\n",
    "            cur +=1\r\n",
    "        else:\r\n",
    "            if cur > 1:\r\n",
    "                ans += str(cur)\r\n",
    "                cur = 1\r\n",
    "            ans +=string[i]\r\n",
    "\r\n",
    "    if cur > 1:\r\n",
    "        ans += str(cur)\r\n",
    "    \r\n",
    "    return(ans)\r\n",
    "\r\n",
    "a = getCompressedString('aaaaaabbddd')\r\n",
    "print(a)"
   ],
   "outputs": [
    {
     "output_type": "stream",
     "name": "stdout",
     "text": [
      "a6b2d3\n"
     ]
    }
   ],
   "metadata": {}
  },
  {
   "cell_type": "code",
   "execution_count": 2,
   "source": [
    "# Does not pass all test cases as if a string is aaabccc it gives a3b1c3 insted of a3bc1\r\n",
    "def getCompressedString(string):\r\n",
    "    temp = string[0]\r\n",
    "    ans =''\r\n",
    "    count = 0 \r\n",
    "    string = string + \" \"\r\n",
    "    # TODO - see for a way to use indexed for loop in the process\r\n",
    "    for i in string:\r\n",
    "        if i == temp:\r\n",
    "            count +=1\r\n",
    "        else:\r\n",
    "            ans = ans + str(temp) + str(count)\r\n",
    "            temp = i\r\n",
    "            count = 1\r\n",
    "    return ans\r\n",
    "a = getCompressedString('aaaabbc')\r\n",
    "print(a)"
   ],
   "outputs": [
    {
     "output_type": "stream",
     "name": "stdout",
     "text": [
      "a4b2c1\n"
     ]
    }
   ],
   "metadata": {}
  },
  {
   "cell_type": "code",
   "execution_count": 4,
   "source": [
    "# Wrong and check why char not working\r\n",
    "# def getCompressedString(string):\r\n",
    "#     arr = [0]*256\r\n",
    "#     ans = ''\r\n",
    "#     for i in range(len(string)):\r\n",
    "#         arr[ord(string[i])] += 1\r\n",
    "    \r\n",
    "#     for i in range(len(arr)):\r\n",
    "#         if arr[i] == 0:\r\n",
    "#             pass\r\n",
    "#         else:\r\n",
    "#             ans = ans + (chr(arr[i]) + str(arr[i]))\r\n",
    "#     return(ans)\r\n",
    "\r\n",
    "# a = getCompressedString('aaabbbcccd')\r\n",
    "# print(a)"
   ],
   "outputs": [
    {
     "output_type": "error",
     "ename": "SyntaxError",
     "evalue": "invalid syntax (<ipython-input-4-81543fa683d4>, line 1)",
     "traceback": [
      "\u001b[1;36m  File \u001b[1;32m\"<ipython-input-4-81543fa683d4>\"\u001b[1;36m, line \u001b[1;32m1\u001b[0m\n\u001b[1;33m    Wrong and check why char not working\u001b[0m\n\u001b[1;37m                    ^\u001b[0m\n\u001b[1;31mSyntaxError\u001b[0m\u001b[1;31m:\u001b[0m invalid syntax\n"
     ]
    }
   ],
   "metadata": {}
  },
  {
   "cell_type": "markdown",
   "source": [
    "---"
   ],
   "metadata": {}
  },
  {
   "cell_type": "markdown",
   "source": [
    "---"
   ],
   "metadata": {}
  },
  {
   "cell_type": "markdown",
   "source": [
    "## 2D Lists"
   ],
   "metadata": {}
  },
  {
   "cell_type": "markdown",
   "source": [
    "### Intro to 2D Lists"
   ],
   "metadata": {}
  },
  {
   "cell_type": "code",
   "execution_count": 81,
   "source": [
    "# This is a 2D List\r\n",
    "li = [[1,2,3,4],[5,6,7,8],[9,10,11,12],[13,14,15,16]]"
   ],
   "outputs": [],
   "metadata": {}
  },
  {
   "cell_type": "code",
   "execution_count": 82,
   "source": [
    "li"
   ],
   "outputs": [
    {
     "output_type": "execute_result",
     "data": {
      "text/plain": [
       "[[1, 2, 3, 4], [5, 6, 7, 8], [9, 10, 11, 12], [13, 14, 15, 16]]"
      ]
     },
     "metadata": {},
     "execution_count": 82
    }
   ],
   "metadata": {}
  },
  {
   "cell_type": "code",
   "execution_count": 83,
   "source": [
    "li[2][2]"
   ],
   "outputs": [
    {
     "output_type": "execute_result",
     "data": {
      "text/plain": [
       "11"
      ]
     },
     "metadata": {},
     "execution_count": 83
    }
   ],
   "metadata": {}
  },
  {
   "cell_type": "code",
   "execution_count": 84,
   "source": [
    "li[3][2]"
   ],
   "outputs": [
    {
     "output_type": "execute_result",
     "data": {
      "text/plain": [
       "15"
      ]
     },
     "metadata": {},
     "execution_count": 84
    }
   ],
   "metadata": {}
  },
  {
   "cell_type": "markdown",
   "source": [
    "### Jagged Lists"
   ],
   "metadata": {}
  },
  {
   "cell_type": "code",
   "execution_count": 85,
   "source": [
    "li = [[1,2,3,4],[5,6,7],[8,9],[10,11]]"
   ],
   "outputs": [],
   "metadata": {}
  },
  {
   "cell_type": "code",
   "execution_count": 86,
   "source": [
    "li"
   ],
   "outputs": [
    {
     "output_type": "execute_result",
     "data": {
      "text/plain": [
       "[[1, 2, 3, 4], [5, 6, 7], [8, 9], [10, 11]]"
      ]
     },
     "metadata": {},
     "execution_count": 86
    }
   ],
   "metadata": {}
  },
  {
   "cell_type": "code",
   "execution_count": 87,
   "source": [
    "# the indexin is same\r\n",
    "li[2][1]"
   ],
   "outputs": [
    {
     "output_type": "execute_result",
     "data": {
      "text/plain": [
       "9"
      ]
     },
     "metadata": {},
     "execution_count": 87
    }
   ],
   "metadata": {}
  },
  {
   "cell_type": "code",
   "execution_count": 88,
   "source": [
    "li[0][3]"
   ],
   "outputs": [
    {
     "output_type": "execute_result",
     "data": {
      "text/plain": [
       "4"
      ]
     },
     "metadata": {},
     "execution_count": 88
    }
   ],
   "metadata": {}
  },
  {
   "cell_type": "markdown",
   "source": [
    "### List Comprehension"
   ],
   "metadata": {}
  },
  {
   "cell_type": "code",
   "execution_count": 89,
   "source": [
    "li = [1,2,3,4]\r\n",
    "li_new = []\r\n",
    "for ele in li:\r\n",
    "    li_new.append(ele**2)\r\n",
    "print(li_new)\r\n",
    "    "
   ],
   "outputs": [
    {
     "output_type": "stream",
     "name": "stdout",
     "text": [
      "[1, 4, 9, 16]\n"
     ]
    }
   ],
   "metadata": {}
  },
  {
   "cell_type": "code",
   "execution_count": 90,
   "source": [
    "# [outputwanted for ele in li]\r\n",
    "li_new2 = [ele**2 for ele in li]\r\n",
    "li_new2"
   ],
   "outputs": [
    {
     "output_type": "execute_result",
     "data": {
      "text/plain": [
       "[1, 4, 9, 16]"
      ]
     },
     "metadata": {},
     "execution_count": 90
    }
   ],
   "metadata": {}
  },
  {
   "cell_type": "code",
   "execution_count": 91,
   "source": [
    "# square of each element in li for even elements only\r\n",
    "li_even_square = [ele**2 for ele in li if ele%2 == 0]\r\n",
    "li_even_square"
   ],
   "outputs": [
    {
     "output_type": "execute_result",
     "data": {
      "text/plain": [
       "[4, 16]"
      ]
     },
     "metadata": {},
     "execution_count": 91
    }
   ],
   "metadata": {}
  },
  {
   "cell_type": "code",
   "execution_count": 92,
   "source": [
    "# append elements which are multiple of 2 and 3\r\n",
    "li = [1,2,3,4,5,6,7,8,9,10]\r\n",
    "li_n = [ele for ele in li if ele%2==0 and ele%3==0]\r\n",
    "li_n"
   ],
   "outputs": [
    {
     "output_type": "execute_result",
     "data": {
      "text/plain": [
       "[6]"
      ]
     },
     "metadata": {},
     "execution_count": 92
    }
   ],
   "metadata": {}
  },
  {
   "cell_type": "code",
   "execution_count": 93,
   "source": [
    "# we can have multiple for loops as well\r\n",
    "# we want a new list which has the elements which are common in li and li2\r\n",
    "li = [1,9,78,6,82,6]\r\n",
    "li2 = [2,34,54,82,9,4]\r\n",
    "li_intersection = [ele for ele in li for ele2 in li2 if ele == ele2]\r\n",
    "li_intersection"
   ],
   "outputs": [
    {
     "output_type": "execute_result",
     "data": {
      "text/plain": [
       "[9, 82]"
      ]
     },
     "metadata": {},
     "execution_count": 93
    }
   ],
   "metadata": {}
  },
  {
   "cell_type": "code",
   "execution_count": 94,
   "source": [
    "# we can have if else conditions too\r\n",
    "# if it is a multiple of 2 we want element squared else we want the same elements\r\n",
    "li = [1,2,3,4,5]\r\n",
    "li_new = [ele**2 if ele%2==0 else ele for ele in li] \r\n",
    "li_new"
   ],
   "outputs": [
    {
     "output_type": "execute_result",
     "data": {
      "text/plain": [
       "[1, 4, 3, 16, 5]"
      ]
     },
     "metadata": {},
     "execution_count": 94
    }
   ],
   "metadata": {}
  },
  {
   "cell_type": "code",
   "execution_count": 95,
   "source": [
    "# these comprehensions can be done on strings as well\r\n",
    "# each character in a new list\r\n",
    "a = 'Avishek'\r\n",
    "li = [ele for ele in a]\r\n",
    "li"
   ],
   "outputs": [
    {
     "output_type": "execute_result",
     "data": {
      "text/plain": [
       "['A', 'v', 'i', 's', 'h', 'e', 'k']"
      ]
     },
     "metadata": {},
     "execution_count": 95
    }
   ],
   "metadata": {}
  },
  {
   "cell_type": "code",
   "execution_count": 96,
   "source": [
    "# we can generate 2d lists using comprehensions\r\n",
    "#each row will have a list of names and the list of names will be broken into characters inside the list\r\n",
    "li = ['Avishek','Bhuvan','Keshav']\r\n",
    "li_2D = [[s for s in ele] for ele in li]\r\n",
    "li_2D"
   ],
   "outputs": [
    {
     "output_type": "execute_result",
     "data": {
      "text/plain": [
       "[['A', 'v', 'i', 's', 'h', 'e', 'k'],\n",
       " ['B', 'h', 'u', 'v', 'a', 'n'],\n",
       " ['K', 'e', 's', 'h', 'a', 'v']]"
      ]
     },
     "metadata": {},
     "execution_count": 96
    }
   ],
   "metadata": {}
  },
  {
   "cell_type": "code",
   "execution_count": 97,
   "source": [
    "li = [[ i*j for j in range(4)] for i in range(3)]\r\n",
    "print(li)"
   ],
   "outputs": [
    {
     "output_type": "stream",
     "name": "stdout",
     "text": [
      "[[0, 0, 0, 0], [0, 1, 2, 3], [0, 2, 4, 6]]\n"
     ]
    }
   ],
   "metadata": {}
  },
  {
   "cell_type": "markdown",
   "source": [
    "### Taking input of a 2D List - Type 1"
   ],
   "metadata": {}
  },
  {
   "cell_type": "markdown",
   "source": [
    "The input will be of the kind that first line will specify n,m(rows and column) and the 2D list will have each row in a different line:  \r\n",
    "3 4  \r\n",
    "1 2 3 4  \r\n",
    "5  6 7 8  \r\n",
    "9 10 11 12  \r\n",
    "\r\n",
    "<pre>\r\n",
    "str = input().split()\r\n",
    "n,m = int(str[0]), int(str[1])\r\n",
    "li = [[int(j) for j in input().split()] for i in range(n)]\r\n",
    "</pre>"
   ],
   "metadata": {}
  },
  {
   "cell_type": "code",
   "execution_count": 98,
   "source": [
    "# Input of n,m\r\n",
    "str = input().split()\r\n",
    "n,m = int(str[0]), int(str[1])\r\n",
    "# Input of the 2D List - The lsit inside is creating the lists which will be inside the list and the outer list will make the list that will contain the lists created by the inner list\r\n",
    "li = [[int(j) for j in input().split()] for i in range(n)]\r\n",
    "# the input is given as\r\n",
    "# 3 4\r\n",
    "# 1 2 3 4 \r\n",
    "# 5 6 7 8\r\n",
    "# 9 10 11 12 \r\n",
    "li"
   ],
   "outputs": [
    {
     "output_type": "execute_result",
     "data": {
      "text/plain": [
       "[[1, 2, 3, 4], [5, 6, 7, 8], [9, 10, 11, 12]]"
      ]
     },
     "metadata": {},
     "execution_count": 98
    }
   ],
   "metadata": {}
  },
  {
   "cell_type": "markdown",
   "source": [
    "### Taking input of a Jagged List"
   ],
   "metadata": {}
  },
  {
   "cell_type": "code",
   "execution_count": 101,
   "source": [
    "n = int(input())\r\n",
    "li = [[int(j) for j in input().split()] for i in range(n)]\r\n",
    "li\r\n",
    "# the input is given int the form:\r\n",
    "# 4\r\n",
    "# 1 2 3 4\r\n",
    "# 5 6\r\n",
    "# 7\r\n",
    "# 8 9 10"
   ],
   "outputs": [
    {
     "output_type": "execute_result",
     "data": {
      "text/plain": [
       "[[1, 2, 3, 4], [5, 6], [7], [8, 9, 10]]"
      ]
     },
     "metadata": {},
     "execution_count": 101
    }
   ],
   "metadata": {}
  },
  {
   "cell_type": "markdown",
   "source": [
    "### Taking input of a 2D List - Type 2"
   ],
   "metadata": {}
  },
  {
   "cell_type": "markdown",
   "source": [
    "The input will be of the kind that first line will specify n,m(rows and column) and the 2D list will have each row in a different line:    \r\n",
    "n - number of lists, m - number of elements in each list  \r\n",
    "3 4   \r\n",
    "1 2 3 4 5 6 7 8 9 10 11 12\r\n",
    "\r\n",
    "<pre>\r\n",
    "With the formula m*i + j - row is given by m*i and column given by j\r\n",
    "</pre>"
   ],
   "metadata": {}
  },
  {
   "cell_type": "code",
   "execution_count": 102,
   "source": [
    "str = input().split()\r\n",
    "n,m = int(str[0]), int(str[1])\r\n",
    "b =  input().split()\r\n",
    "arr = [ [ int(b[m*i+j]) for j in range(m)] for i in range(n)]\r\n",
    "arr"
   ],
   "outputs": [
    {
     "output_type": "execute_result",
     "data": {
      "text/plain": [
       "[[1, 2, 3, 4], [5, 6, 7, 8], [9, 10, 11, 12]]"
      ]
     },
     "metadata": {},
     "execution_count": 102
    }
   ],
   "metadata": {}
  },
  {
   "cell_type": "markdown",
   "source": [
    "INPUT OF THE FORMAT:  \r\n",
    "3 4 1 2 3 4 5 6 7 8 9 10 11 12  \r\n",
    "Here 3 and 4 are n,m specified in the same line"
   ],
   "metadata": {}
  },
  {
   "cell_type": "code",
   "execution_count": 104,
   "source": [
    "str = input().split()\r\n",
    "n,m = int(str[0]), int(str[1])\r\n",
    "b =  str[2:]\r\n",
    "arr = [ [ int(b[m*i+j]) for j in range(m)] for i in range(n)]\r\n",
    "arr"
   ],
   "outputs": [
    {
     "output_type": "execute_result",
     "data": {
      "text/plain": [
       "[[1, 2, 3, 4], [5, 6, 7, 8], [9, 10, 11, 12]]"
      ]
     },
     "metadata": {},
     "execution_count": 104
    }
   ],
   "metadata": {}
  },
  {
   "cell_type": "markdown",
   "source": [
    "### Printing a 2D List"
   ],
   "metadata": {}
  },
  {
   "cell_type": "code",
   "execution_count": 105,
   "source": [
    "li = [1,2,3,4],[5,6,7,8],[9,10,11,12]"
   ],
   "outputs": [],
   "metadata": {}
  },
  {
   "cell_type": "code",
   "execution_count": 106,
   "source": [
    "n = 3\r\n",
    "m = 4"
   ],
   "outputs": [],
   "metadata": {}
  },
  {
   "cell_type": "code",
   "execution_count": 107,
   "source": [
    "# Line seperated output\r\n",
    "for i in range(n):\r\n",
    "    for j in range(m):\r\n",
    "        print(li[i][j])"
   ],
   "outputs": [
    {
     "output_type": "stream",
     "name": "stdout",
     "text": [
      "1\n",
      "2\n",
      "3\n",
      "4\n",
      "5\n",
      "6\n",
      "7\n",
      "8\n",
      "9\n",
      "10\n",
      "11\n",
      "12\n"
     ]
    }
   ],
   "metadata": {}
  },
  {
   "cell_type": "code",
   "execution_count": 108,
   "source": [
    "# print each row in a different column\r\n",
    "for i in range(n):\r\n",
    "    for j in range(m):\r\n",
    "        print(li[i][j],end=' ')\r\n",
    "    print()"
   ],
   "outputs": [
    {
     "output_type": "stream",
     "name": "stdout",
     "text": [
      "1 2 3 4 \n",
      "5 6 7 8 \n",
      "9 10 11 12 \n"
     ]
    }
   ],
   "metadata": {}
  },
  {
   "cell_type": "code",
   "execution_count": 109,
   "source": [
    "# In jagged list there can be any number of columns\r\n",
    "li = [[1,2,3,4],[5,6],[9,10,11]]\r\n",
    "n = 3\r\n",
    "# as 2D Lists are itself a list, it is a list of list we can use the for in operator to iterate over each list inside the list\r\n",
    "for row in li:\r\n",
    "    for ele in row:\r\n",
    "        print(ele, end=' ')\r\n",
    "    print()\r\n",
    "# in this case it does not matter we know the range of m or not we can print it irrespective"
   ],
   "outputs": [
    {
     "output_type": "stream",
     "name": "stdout",
     "text": [
      "1 2 3 4 \n",
      "5 6 \n",
      "9 10 11 \n"
     ]
    }
   ],
   "metadata": {}
  },
  {
   "cell_type": "markdown",
   "source": [
    "### Join function"
   ],
   "metadata": {}
  },
  {
   "cell_type": "code",
   "execution_count": 110,
   "source": [
    "'ab'.join('abcd')"
   ],
   "outputs": [
    {
     "output_type": "execute_result",
     "data": {
      "text/plain": [
       "'aabbabcabd'"
      ]
     },
     "metadata": {},
     "execution_count": 110
    }
   ],
   "metadata": {}
  },
  {
   "cell_type": "code",
   "execution_count": 111,
   "source": [
    "# all elemrnts of the list have to be a list - as concatination of sting and int are not possible\r\n",
    "'ab'.join(['1','2','3']) "
   ],
   "outputs": [
    {
     "output_type": "execute_result",
     "data": {
      "text/plain": [
       "'1ab2ab3'"
      ]
     },
     "metadata": {},
     "execution_count": 111
    }
   ],
   "metadata": {}
  },
  {
   "cell_type": "code",
   "execution_count": 112,
   "source": [
    "#TODO - join operation not working\r\n",
    "# used only for printing\r\n",
    "# li = [[1,2,3,4],[5,6],[9,10,11]]\r\n",
    "# n = 3\r\n",
    "# for row in li:\r\n",
    "#     output = ' '.join([str(ele) for ele in row])\r\n",
    "#     print(output)"
   ],
   "outputs": [],
   "metadata": {}
  },
  {
   "cell_type": "markdown",
   "source": [
    "### Question 1 - Row Wise Sum"
   ],
   "metadata": {}
  },
  {
   "cell_type": "markdown",
   "source": [
    "<pre>\r\n",
    "For a given two-dimensional integer array/list of size (N x M), find and print the sum of each of the row elements in a single line, separated by a single space.\r\n",
    "Input Format :\r\n",
    "The first line contains an Integer 't' which denotes the number of test cases or queries to be run. Then the test cases follow.\r\n",
    "\r\n",
    "First line of each test case or query contains two integer values, 'N' and 'M', separated by a single space. They represent the 'rows' and 'columns' respectively, for the two-dimensional array/list.\r\n",
    "\r\n",
    "Second line onwards, the next 'N' lines or rows represent the ith row values.\r\n",
    "\r\n",
    "Each of the ith row constitutes 'M' column values separated by a single space.\r\n",
    "Output Format :\r\n",
    "For each test case, print the sum of every ith row elements in a single line separated by a single space.\r\n",
    "\r\n",
    "Output for every test case will be printed in a seperate line.\r\n",
    "Constraints :\r\n",
    "1 <= t <= 10^2\r\n",
    "0 <= N <= 10^3\r\n",
    "0 <= M <= 10^3\r\n",
    "Time Limit: 1sec\r\n",
    "Sample Input 1:\r\n",
    "1\r\n",
    "4 2 \r\n",
    "1 2 \r\n",
    "3 4 \r\n",
    "5 6 \r\n",
    "7 8\r\n",
    "Sample Output 1:\r\n",
    "3 7 11 15 \r\n",
    "Sample Input 2:\r\n",
    "2\r\n",
    "2 5 \r\n",
    "4 5 3 2 6 \r\n",
    "7 5 3 8 9\r\n",
    "4 4\r\n",
    "1 2 3 4\r\n",
    "9 8 7 6\r\n",
    "3 4 5 6\r\n",
    "-1 1 -10 5\r\n",
    "Sample Output 2:\r\n",
    "20 32 \r\n",
    "10 30 18 -5 \r\n",
    "</pre>"
   ],
   "metadata": {}
  },
  {
   "cell_type": "code",
   "execution_count": 14,
   "source": [
    "def rowWiseSum(mat, nRows, mCols):\r\n",
    "    for i in range(nRows):\r\n",
    "        sum = 0\r\n",
    "        for j in range(mCols):\r\n",
    "            sum += mat[i][j]\r\n",
    "        print(sum, end = ' ')\r\n",
    "\r\n",
    "a = rowWiseSum([[1,2],[1,4],[3,4]],3,2)\r\n",
    "print(a)"
   ],
   "outputs": [
    {
     "output_type": "stream",
     "name": "stdout",
     "text": [
      "3 5 7 None\n"
     ]
    }
   ],
   "metadata": {}
  },
  {
   "cell_type": "markdown",
   "source": [
    "### Question 2 - Largest Column in a 2D List"
   ],
   "metadata": {}
  },
  {
   "cell_type": "code",
   "execution_count": 114,
   "source": [
    "# returns the index of the column which has the largest sum\r\n",
    "def lar_col_Sum(li):\r\n",
    "    # no of rows will be - len(li)\r\n",
    "    # no of column will be - len(li[0]) we used 0 here we could have used any index provided it was within range\r\n",
    "    # concidering that all rows have same number of column\r\n",
    "    n = len(li)\r\n",
    "    m = len(li[0])\r\n",
    "    \r\n",
    "    mSum = -1\r\n",
    "    mIndex = -1\r\n",
    "    # generally we iitereate row wise, for largest sum we have to iterate in column\r\n",
    "    for j in range(m):\r\n",
    "        Sum = 0\r\n",
    "        for i in range(n):\r\n",
    "            Sum += li[i][j]\r\n",
    "        if Sum > mSum:\r\n",
    "            mIndex = j\r\n",
    "            mSum = Sum\r\n",
    "    return mSum, mIndex\r\n",
    "    \r\n",
    "    \r\n",
    "li =  [[1,2,3,4],[5,6,7,8],[9,10,11,12]]\r\n",
    "lar_sum,lar_col_index = lar_col_Sum(li)\r\n",
    "print(lar_sum, lar_col_index)"
   ],
   "outputs": [
    {
     "output_type": "stream",
     "name": "stdout",
     "text": [
      "24 3\n"
     ]
    }
   ],
   "metadata": {}
  },
  {
   "cell_type": "code",
   "execution_count": 115,
   "source": [
    "# returns the index of the column which has the largest sum\r\n",
    "def lar_col_Sum(li):\r\n",
    "    # no of rows will be - len(li)\r\n",
    "    # no of column will be - len(li[0]) we used 0 here we could have used any index provided it was within range\r\n",
    "    # concidering that all rows have same number of column\r\n",
    "    n = len(li)\r\n",
    "    m = len(li[0])\r\n",
    "    \r\n",
    "    mSum = -1\r\n",
    "    mIndex = -1\r\n",
    "    # generally we iitereate row wise, for largest sum we have to iterate in column\r\n",
    "    for j in range(m):\r\n",
    "        Sum = 0\r\n",
    "        # we actually do not need to know n, we could just go throug each column and tell to pick\r\n",
    "        # the jth element - eg. first column all 0th ele, second column all 1st ele e.t.c\r\n",
    "        for ele in li:\r\n",
    "            Sum += ele[j]\r\n",
    "            \r\n",
    "        if Sum > mSum:\r\n",
    "            mIndex = j\r\n",
    "            mSum = Sum\r\n",
    "    return mSum, mIndex\r\n",
    "    \r\n",
    "    \r\n",
    "li =  [[1,2,3,4],[5,6,7,8],[9,10,11,12]]\r\n",
    "lar_sum,lar_col_index = lar_col_Sum(li)\r\n",
    "print(lar_sum, lar_col_index)"
   ],
   "outputs": [
    {
     "output_type": "stream",
     "name": "stdout",
     "text": [
      "24 3\n"
     ]
    }
   ],
   "metadata": {}
  },
  {
   "cell_type": "markdown",
   "source": [
    "### Question 3 - Largest Row or Column"
   ],
   "metadata": {}
  },
  {
   "cell_type": "markdown",
   "source": [
    "<pre>\r\n",
    "For a given two-dimensional integer array/list of size (N x M), you need to find out which row or column has the largest sum(sum of all the elements in a row/column) amongst all the rows and columns.\r\n",
    "Note :\r\n",
    "If there are more than one rows/columns with maximum sum, consider the row/column that comes first. And if ith row and jth column has the same largest sum, consider the ith row as answer.\r\n",
    "Input Format :\r\n",
    "The first line contains an Integer 't' which denotes the number of test cases or queries to be run. Then the test cases follow.\r\n",
    "\r\n",
    "First line of each test case or query contains two integer values, 'N' and 'M', separated by a single space. They represent the 'rows' and 'columns' respectively, for the two-dimensional array/list.\r\n",
    "\r\n",
    "Second line onwards, the next 'N' lines or rows represent the ith row values.\r\n",
    "\r\n",
    "Each of the ith row constitutes 'M' column values separated by a single space.\r\n",
    "Output Format :\r\n",
    "For each test case, If row sum is maximum, then print: \"row\" row_index row_sum\r\n",
    "OR\r\n",
    "If column sum is maximum, then print: \"column\" col_index col_sum\r\n",
    "It will be printed in a single line separated by a single space between each piece of information.\r\n",
    "\r\n",
    "Output for every test case will be printed in a seperate line.\r\n",
    " Consider :\r\n",
    "If there doesn't exist a sum at all then print \"row 0 -2147483648\", where -2147483648 or -2^31 is the smallest value for the range of Integer.\r\n",
    "Constraints :\r\n",
    "1 <= t <= 10^2\r\n",
    "0 <= N <= 10^3\r\n",
    "0 <= M <= 10^3\r\n",
    "Time Limit: 1sec\r\n",
    "Sample Input 1 :\r\n",
    "1\r\n",
    "2 2 \r\n",
    "1 1 \r\n",
    "1 1\r\n",
    "Sample Output 1 :\r\n",
    "row 0 2\r\n",
    "Sample Input 2 :\r\n",
    "2\r\n",
    "3 3\r\n",
    "3 6 9 \r\n",
    "1 4 7 \r\n",
    "2 8 9\r\n",
    "4 2\r\n",
    "1 2\r\n",
    "90 100\r\n",
    "3 40\r\n",
    "-10 200\r\n",
    "Sample Output 2 :\r\n",
    "column 2 25\r\n",
    "column 1 342\r\n",
    "</pre>"
   ],
   "metadata": {}
  },
  {
   "cell_type": "code",
   "execution_count": 27,
   "source": [
    "def findLargest(arr, nRows, mCols):\r\n",
    "\r\n",
    "    max_sum = -(2^31)\r\n",
    "    max_index = 0\r\n",
    "    isRow = True\r\n",
    "    \r\n",
    "    for i in range(nRows):\r\n",
    "        Sum = 0\r\n",
    "        for j in range(mCols):\r\n",
    "            Sum += arr[i][j]\r\n",
    "        \r\n",
    "        if Sum > max_sum:\r\n",
    "            max_index  = i\r\n",
    "            max_sum = Sum\r\n",
    "    \r\n",
    "    for j in range(mCols):\r\n",
    "        Sum = 0\r\n",
    "        for i in range(nRows):\r\n",
    "            Sum += arr[i][j]\r\n",
    "        \r\n",
    "        if Sum > max_sum:\r\n",
    "            max_index  = j\r\n",
    "            max_sum = Sum\r\n",
    "            isRow = False\r\n",
    "    \r\n",
    "    if isRow:\r\n",
    "        print('row', str(max_index)+ ' '+ str(max_sum))\r\n",
    "    else:\r\n",
    "        print('column', str(max_index) + ' '+  str(max_sum))\r\n",
    "\r\n",
    "a = findLargest([[3,6,9], [1,4,7], [2,8,9]],3,3)\r\n",
    "a\r\n",
    "            \r\n",
    "             "
   ],
   "outputs": [
    {
     "output_type": "stream",
     "name": "stdout",
     "text": [
      "column 2 25\n"
     ]
    }
   ],
   "metadata": {}
  },
  {
   "cell_type": "markdown",
   "source": [
    "### Question 4 - Wave Print"
   ],
   "metadata": {}
  },
  {
   "cell_type": "markdown",
   "source": [
    "<pre>\r\n",
    "For a given two-dimensional integer array/list of size (N x M), print the array/list in a sine wave order, i.e, print the first column top to bottom, next column bottom to top and so on.\r\n",
    "Input format :\r\n",
    "The first line contains an Integer 't' which denotes the number of test cases or queries to be run. Then the test cases follow.\r\n",
    "\r\n",
    "First line of each test case or query contains two integer values, 'N' and 'M', separated by a single space. They represent the 'rows' and 'columns' respectively, for the two-dimensional array/list.\r\n",
    "\r\n",
    "Second line onwards, the next 'N' lines or rows represent the ith row values.\r\n",
    "\r\n",
    "Each of the ith row constitutes 'M' column values separated by a single space.\r\n",
    "Output format :\r\n",
    "For each test case, print the elements of the two-dimensional array/list in the sine wave order in a single line, separated by a single space.\r\n",
    "\r\n",
    "Output for every test case will be printed in a seperate line.\r\n",
    "Constraints :\r\n",
    "1 <= t <= 10^2\r\n",
    "0 <= N <= 10^3\r\n",
    "0 <= M <= 10^3\r\n",
    "Time Limit: 1sec\r\n",
    "Sample Input 1:\r\n",
    "1\r\n",
    "3 4 \r\n",
    "1  2  3  4 \r\n",
    "5  6  7  8 \r\n",
    "9 10 11 12\r\n",
    "Sample Output 1:\r\n",
    "1 5 9 10 6 2 3 7 11 12 8 4\r\n",
    "Sample Input 2:\r\n",
    "2\r\n",
    "5 3 \r\n",
    "1 2 3 \r\n",
    "4 5 6 \r\n",
    "7 8 9 \r\n",
    "10 11 12 \r\n",
    "13 14 15\r\n",
    "3 3\r\n",
    "10 20 30 \r\n",
    "40 50 60\r\n",
    "70 80 90\r\n",
    "Sample Output 2:\r\n",
    "1 4 7 10 13 14 11 8 5 2 3 6 9 12 15 \r\n",
    "10 40 70 80 50 20 30 60 90 \r\n",
    "</pre>"
   ],
   "metadata": {}
  },
  {
   "cell_type": "code",
   "execution_count": 34,
   "source": [
    "def wavePrint(mat, nRows, mCols):\r\n",
    "    if nRows == 0:\r\n",
    "        return\r\n",
    "    \r\n",
    "    for j in range(mCols):\r\n",
    "        if (j % 2 == 0):\r\n",
    "            for i in range(nRows):\r\n",
    "                print(mat[i][j], end=' ')\r\n",
    "        else:\r\n",
    "            for i in range((nRows-1), -1, -1):\r\n",
    "                print(mat[i][j], end= ' ')\r\n",
    "\r\n",
    "\r\n",
    "wavePrint([[1,2,3,4],[5,6,7,8],[9,10,11,12]], 3, 4)"
   ],
   "outputs": [
    {
     "output_type": "stream",
     "name": "stdout",
     "text": [
      "1 5 9 10 6 2 3 7 11 12 8 4 "
     ]
    }
   ],
   "metadata": {}
  },
  {
   "cell_type": "markdown",
   "source": [
    "### Questoin 5 - Spiral Print"
   ],
   "metadata": {}
  },
  {
   "cell_type": "markdown",
   "source": [
    "<pre>\r\n",
    "For a given two-dimensional integer array/list of size (N x M), print it in a spiral form. That is, you need to print in the order followed for every iteration:\r\n",
    "a. First row(left to right)\r\n",
    "b. Last column(top to bottom)\r\n",
    "c. Last row(right to left)\r\n",
    "d. First column(bottom to top)\r\n",
    " Mind that every element will be printed only once.\r\n",
    "Refer to the Image:\r\n",
    "Spiral path of a matrix\r\n",
    "\r\n",
    "Input format :\r\n",
    "The first line contains an Integer 't' which denotes the number of test cases or queries to be run. Then the test cases follow.\r\n",
    "\r\n",
    "First line of each test case or query contains two integer values, 'N' and 'M', separated by a single space. They represent the 'rows' and 'columns' respectively, for the two-dimensional array/list.\r\n",
    "\r\n",
    "Second line onwards, the next 'N' lines or rows represent the ith row values.\r\n",
    "\r\n",
    "Each of the ith row constitutes 'M' column values separated by a single space.\r\n",
    "Output format :\r\n",
    "For each test case, print the elements of the two-dimensional array/list in the spiral form in a single line, separated by a single space.\r\n",
    "\r\n",
    "Output for every test case will be printed in a seperate line.\r\n",
    "Constraints :\r\n",
    "1 <= t <= 10^2\r\n",
    "0 <= N <= 10^3\r\n",
    "0 <= M <= 10^3\r\n",
    "Time Limit: 1sec\r\n",
    "Sample Input 1:\r\n",
    "1\r\n",
    "4 4 \r\n",
    "1 2 3 4 \r\n",
    "5 6 7 8 \r\n",
    "9 10 11 12 \r\n",
    "13 14 15 16\r\n",
    "Sample Output 1:\r\n",
    "1 2 3 4 8 12 16 15 14 13 9 5 6 7 11 10 \r\n",
    "Sample Input 2:\r\n",
    "2\r\n",
    "3 3 \r\n",
    "1 2 3 \r\n",
    "4 5 6 \r\n",
    "7 8 9\r\n",
    "3 1\r\n",
    "10\r\n",
    "20\r\n",
    "30\r\n",
    "Sample Output 2:\r\n",
    "1 2 3 6 9 8 7 4 5 \r\n",
    "10 20 30 \r\n",
    "</pre>"
   ],
   "metadata": {}
  },
  {
   "cell_type": "code",
   "execution_count": 2,
   "source": [
    "def spiralPrint(mat, nRows, mCols):\r\n",
    "    if nRows ==0:\r\n",
    "        return\r\n",
    "    \r\n",
    "    rowstart, colstart = 0, 0\r\n",
    "    numElement = nRows*mCols\r\n",
    "    count = 0\r\n",
    "    \r\n",
    "    while count < numElement:\r\n",
    "        i = colstart\r\n",
    "        while i < mCols and count < numElement:\r\n",
    "            print(mat[rowstart][i], end=' ')\r\n",
    "            count += 1\r\n",
    "            i += 1\r\n",
    "        rowstart +=1\r\n",
    "        \r\n",
    "        i =  rowstart\r\n",
    "        while i < nRows and count < numElement:\r\n",
    "            print(mat[i][mCols -1], end=' ')\r\n",
    "            count += 1\r\n",
    "            i += 1\r\n",
    "        mCols -= 1\r\n",
    "        \r\n",
    "        i = mCols - 1\r\n",
    "        while i >= colstart and count < numElement:\r\n",
    "            print(mat[nRows-1][i], end=' ')\r\n",
    "            count += 1\r\n",
    "            i -= 1\r\n",
    "        nRows  -=1\r\n",
    "        \r\n",
    "        i = nRows - 1\r\n",
    "        while i >= rowstart and count < numElement:\r\n",
    "            print(mat[i][colstart], end=' ')\r\n",
    "            count += 1\r\n",
    "            i -= 1\r\n",
    "        colstart +=1\r\n",
    "        \r\n",
    "spiralPrint([[1,2,3],[4,5,6],[7,8,9]], 3, 3 )"
   ],
   "outputs": [
    {
     "output_type": "stream",
     "name": "stdout",
     "text": [
      "1 2 3 6 9 8 7 4 5 "
     ]
    }
   ],
   "metadata": {}
  },
  {
   "cell_type": "markdown",
   "source": [
    "## Tuples, Dictionaries & Sets"
   ],
   "metadata": {}
  },
  {
   "cell_type": "markdown",
   "source": [
    "### Tuples"
   ],
   "metadata": {}
  },
  {
   "cell_type": "code",
   "execution_count": 116,
   "source": [
    "a = (1,2)\r\n",
    "a"
   ],
   "outputs": [
    {
     "output_type": "execute_result",
     "data": {
      "text/plain": [
       "(1, 2)"
      ]
     },
     "metadata": {},
     "execution_count": 116
    }
   ],
   "metadata": {}
  },
  {
   "cell_type": "code",
   "execution_count": 117,
   "source": [
    "type(a)"
   ],
   "outputs": [
    {
     "output_type": "execute_result",
     "data": {
      "text/plain": [
       "tuple"
      ]
     },
     "metadata": {},
     "execution_count": 117
    }
   ],
   "metadata": {}
  },
  {
   "cell_type": "code",
   "execution_count": 118,
   "source": [
    "b,c = 3, 4\r\n",
    "print(b)\r\n",
    "print(c)\r\n",
    "\r\n",
    "e = 5, 6\r\n",
    "print(e)\r\n",
    "type(e)"
   ],
   "outputs": [
    {
     "output_type": "stream",
     "name": "stdout",
     "text": [
      "3\n",
      "4\n",
      "(5, 6)\n"
     ]
    },
    {
     "output_type": "execute_result",
     "data": {
      "text/plain": [
       "tuple"
      ]
     },
     "metadata": {},
     "execution_count": 118
    }
   ],
   "metadata": {}
  },
  {
   "cell_type": "markdown",
   "source": [
    "#### Access elements in a Tuple"
   ],
   "metadata": {}
  },
  {
   "cell_type": "code",
   "execution_count": 119,
   "source": [
    "a = (1,2,3,4,5)\r\n",
    "print(a[2])\r\n",
    "print(a[-1])\r\n",
    "print(a[:3])"
   ],
   "outputs": [
    {
     "output_type": "stream",
     "name": "stdout",
     "text": [
      "3\n",
      "5\n",
      "(1, 2, 3)\n"
     ]
    }
   ],
   "metadata": {}
  },
  {
   "cell_type": "markdown",
   "source": [
    "#### Tuples are Immutable"
   ],
   "metadata": {}
  },
  {
   "cell_type": "markdown",
   "source": [
    "Tuples cannot be updated added or removed"
   ],
   "metadata": {}
  },
  {
   "cell_type": "code",
   "execution_count": 120,
   "source": [
    "# will not work as we know tuples are immutable\r\n",
    "# a[2] = 4"
   ],
   "outputs": [],
   "metadata": {}
  },
  {
   "cell_type": "code",
   "execution_count": 121,
   "source": [
    "# We cannot change the entries in the Tuple but we can delete the Tuple itself\r\n",
    "del a"
   ],
   "outputs": [],
   "metadata": {}
  },
  {
   "cell_type": "markdown",
   "source": [
    "#### Tuple Functions"
   ],
   "metadata": {}
  },
  {
   "cell_type": "code",
   "execution_count": 122,
   "source": [
    "# Both are Tuples\r\n",
    "a = (1,2,3)\r\n",
    "b = 4, 5"
   ],
   "outputs": [],
   "metadata": {}
  },
  {
   "cell_type": "code",
   "execution_count": 123,
   "source": [
    "# We can iterate through the tuple in both ways\r\n",
    "for i in a:\r\n",
    "    print(i)"
   ],
   "outputs": [
    {
     "output_type": "stream",
     "name": "stdout",
     "text": [
      "1\n",
      "2\n",
      "3\n"
     ]
    }
   ],
   "metadata": {}
  },
  {
   "cell_type": "code",
   "execution_count": 124,
   "source": [
    "for i in range(len(b)):\r\n",
    "    print(b[i])"
   ],
   "outputs": [
    {
     "output_type": "stream",
     "name": "stdout",
     "text": [
      "4\n",
      "5\n"
     ]
    }
   ],
   "metadata": {}
  },
  {
   "cell_type": "code",
   "execution_count": 125,
   "source": [
    "# Check membership in a Tuple\r\n",
    "print(1 in a)\r\n",
    "print(1 in b)"
   ],
   "outputs": [
    {
     "output_type": "stream",
     "name": "stdout",
     "text": [
      "True\n",
      "False\n"
     ]
    }
   ],
   "metadata": {}
  },
  {
   "cell_type": "code",
   "execution_count": 126,
   "source": [
    "# length\r\n",
    "len(a)"
   ],
   "outputs": [
    {
     "output_type": "execute_result",
     "data": {
      "text/plain": [
       "3"
      ]
     },
     "metadata": {},
     "execution_count": 126
    }
   ],
   "metadata": {}
  },
  {
   "cell_type": "code",
   "execution_count": 127,
   "source": [
    "# concatinatio of Tuple\r\n",
    "c = a+b\r\n",
    "print(c)\r\n",
    "d = (a,b)\r\n",
    "d # Tuple of tuples\r\n",
    "# both the things are different, The first has 1,2,3,4,5 as seperate elements, the second has 2 tuples inside a tuple"
   ],
   "outputs": [
    {
     "output_type": "stream",
     "name": "stdout",
     "text": [
      "(1, 2, 3, 4, 5)\n"
     ]
    },
    {
     "output_type": "execute_result",
     "data": {
      "text/plain": [
       "((1, 2, 3), (4, 5))"
      ]
     },
     "metadata": {},
     "execution_count": 127
    }
   ],
   "metadata": {}
  },
  {
   "cell_type": "code",
   "execution_count": 128,
   "source": [
    "# Repitation\r\n",
    "a = (1,2)\r\n",
    "print(a*4)"
   ],
   "outputs": [
    {
     "output_type": "stream",
     "name": "stdout",
     "text": [
      "(1, 2, 1, 2, 1, 2, 1, 2)\n"
     ]
    }
   ],
   "metadata": {}
  },
  {
   "cell_type": "code",
   "execution_count": 129,
   "source": [
    "# min-max\r\n",
    "a = (1,2,3,4,5)\r\n",
    "print(min(a))\r\n",
    "print(max(a))"
   ],
   "outputs": [
    {
     "output_type": "stream",
     "name": "stdout",
     "text": [
      "1\n",
      "5\n"
     ]
    }
   ],
   "metadata": {}
  },
  {
   "cell_type": "code",
   "execution_count": 130,
   "source": [
    "# List to tuple\r\n",
    "l = [1,2,3,4,5]\r\n",
    "a = tuple(l)\r\n",
    "print(type(l))\r\n",
    "print(type(a))"
   ],
   "outputs": [
    {
     "output_type": "stream",
     "name": "stdout",
     "text": [
      "<class 'list'>\n",
      "<class 'tuple'>\n"
     ]
    }
   ],
   "metadata": {}
  },
  {
   "cell_type": "code",
   "execution_count": 131,
   "source": [
    "# predict the output\r\n",
    "a = 1,2\r\n",
    "b = (4,5)\r\n",
    "d = a+b\r\n",
    "print(d[2])"
   ],
   "outputs": [
    {
     "output_type": "stream",
     "name": "stdout",
     "text": [
      "4\n"
     ]
    }
   ],
   "metadata": {}
  },
  {
   "cell_type": "markdown",
   "source": [
    "### Dictionary"
   ],
   "metadata": {}
  },
  {
   "cell_type": "markdown",
   "source": [
    "#### Intro to dictionaries"
   ],
   "metadata": {}
  },
  {
   "cell_type": "code",
   "execution_count": 132,
   "source": [
    "a = {}\r\n",
    "type(a)"
   ],
   "outputs": [
    {
     "output_type": "execute_result",
     "data": {
      "text/plain": [
       "dict"
      ]
     },
     "metadata": {},
     "execution_count": 132
    }
   ],
   "metadata": {}
  },
  {
   "cell_type": "code",
   "execution_count": 133,
   "source": [
    "a = {'the':1,'a':5,1000:'abc'}\r\n",
    "a"
   ],
   "outputs": [
    {
     "output_type": "execute_result",
     "data": {
      "text/plain": [
       "{'the': 1, 'a': 5, 1000: 'abc'}"
      ]
     },
     "metadata": {},
     "execution_count": 133
    }
   ],
   "metadata": {}
  },
  {
   "cell_type": "code",
   "execution_count": 134,
   "source": [
    "len(a)"
   ],
   "outputs": [
    {
     "output_type": "execute_result",
     "data": {
      "text/plain": [
       "3"
      ]
     },
     "metadata": {},
     "execution_count": 134
    }
   ],
   "metadata": {}
  },
  {
   "cell_type": "markdown",
   "source": [
    "#### Some other ways of creating a dict"
   ],
   "metadata": {}
  },
  {
   "cell_type": "code",
   "execution_count": 135,
   "source": [
    "#TYPE 1\r\n",
    "a = {'the':1,'a':5,1000:'abc'}\r\n",
    "a"
   ],
   "outputs": [
    {
     "output_type": "execute_result",
     "data": {
      "text/plain": [
       "{'the': 1, 'a': 5, 1000: 'abc'}"
      ]
     },
     "metadata": {},
     "execution_count": 135
    }
   ],
   "metadata": {}
  },
  {
   "cell_type": "code",
   "execution_count": 136,
   "source": [
    "# TYPE 2\r\n",
    "b = a.copy()\r\n",
    "b"
   ],
   "outputs": [
    {
     "output_type": "execute_result",
     "data": {
      "text/plain": [
       "{'the': 1, 'a': 5, 1000: 'abc'}"
      ]
     },
     "metadata": {},
     "execution_count": 136
    }
   ],
   "metadata": {}
  },
  {
   "cell_type": "code",
   "execution_count": 137,
   "source": [
    "# TYPE 3\r\n",
    "c = dict([(\"the\",3), (\"a\",5), (1000,\"abc\")])\r\n",
    "c"
   ],
   "outputs": [
    {
     "output_type": "execute_result",
     "data": {
      "text/plain": [
       "{'the': 3, 'a': 5, 1000: 'abc'}"
      ]
     },
     "metadata": {},
     "execution_count": 137
    }
   ],
   "metadata": {}
  },
  {
   "cell_type": "code",
   "execution_count": 138,
   "source": [
    "# TYPE 4\r\n",
    "# By default the keys have been assigned the value to be 0.\r\n",
    "d = dict.fromkeys(['the','a',1000])\r\n",
    "d"
   ],
   "outputs": [
    {
     "output_type": "execute_result",
     "data": {
      "text/plain": [
       "{'the': None, 'a': None, 1000: None}"
      ]
     },
     "metadata": {},
     "execution_count": 138
    }
   ],
   "metadata": {}
  },
  {
   "cell_type": "code",
   "execution_count": 139,
   "source": [
    "# if we want to change the default value we can add a parameter \r\n",
    "e = dict.fromkeys(['the','a',1000], 10)\r\n",
    "e"
   ],
   "outputs": [
    {
     "output_type": "execute_result",
     "data": {
      "text/plain": [
       "{'the': 10, 'a': 10, 1000: 10}"
      ]
     },
     "metadata": {},
     "execution_count": 139
    }
   ],
   "metadata": {}
  },
  {
   "cell_type": "markdown",
   "source": [
    "#### Elements in a Dictionary"
   ],
   "metadata": {}
  },
  {
   "cell_type": "code",
   "execution_count": 206,
   "source": [
    "a = {1:2, 3:4, \"list\":[1,23], \"dict\":{1:2}}\r\n",
    "a"
   ],
   "outputs": [
    {
     "output_type": "execute_result",
     "data": {
      "text/plain": [
       "{1: 2, 3: 4, 'list': [1, 23], 'dict': {1: 2}}"
      ]
     },
     "metadata": {},
     "execution_count": 206
    }
   ],
   "metadata": {}
  },
  {
   "cell_type": "markdown",
   "source": [
    "#### Accesing a element in a Dictionary"
   ],
   "metadata": {}
  },
  {
   "cell_type": "code",
   "execution_count": 207,
   "source": [
    "# For accessing the elemet we have to use the key specified to the value we want to access\r\n",
    "print(a[1])\r\n",
    "print(a['list'])"
   ],
   "outputs": [
    {
     "output_type": "stream",
     "name": "stdout",
     "text": [
      "2\n",
      "[1, 23]\n"
     ]
    }
   ],
   "metadata": {}
  },
  {
   "cell_type": "markdown",
   "source": [
    "#### Accesing a element in a Dictionary - get function"
   ],
   "metadata": {}
  },
  {
   "cell_type": "code",
   "execution_count": 208,
   "source": [
    "# we can use get funciton which does the same thing as <dict_name>[<index>] but incase the key is not present it does not return an error it returns a null value\r\n",
    "# we can chane the output for when a key is not present from none to any value we wish\r\n",
    "print(a.get('list'))\r\n",
    "print(a.get('li'))\r\n",
    "print(a.get('hello', 0))"
   ],
   "outputs": [
    {
     "output_type": "stream",
     "name": "stdout",
     "text": [
      "[1, 23]\n",
      "None\n",
      "0\n"
     ]
    }
   ],
   "metadata": {}
  },
  {
   "cell_type": "code",
   "execution_count": 209,
   "source": [
    "d = {1:2, \"abc\":5, \"def\":7}\r\n",
    "print(d.get(0,5))"
   ],
   "outputs": [
    {
     "output_type": "stream",
     "name": "stdout",
     "text": [
      "5\n"
     ]
    }
   ],
   "metadata": {}
  },
  {
   "cell_type": "markdown",
   "source": [
    "#### Returning all the keys & values"
   ],
   "metadata": {}
  },
  {
   "cell_type": "code",
   "execution_count": 210,
   "source": [
    "a.keys()"
   ],
   "outputs": [
    {
     "output_type": "execute_result",
     "data": {
      "text/plain": [
       "dict_keys([1, 3, 'list', 'dict'])"
      ]
     },
     "metadata": {},
     "execution_count": 210
    }
   ],
   "metadata": {}
  },
  {
   "cell_type": "code",
   "execution_count": 211,
   "source": [
    "a.values()"
   ],
   "outputs": [
    {
     "output_type": "execute_result",
     "data": {
      "text/plain": [
       "dict_values([2, 4, [1, 23], {1: 2}])"
      ]
     },
     "metadata": {},
     "execution_count": 211
    }
   ],
   "metadata": {}
  },
  {
   "cell_type": "code",
   "execution_count": 212,
   "source": [
    "# If we want to get the pairs (the key and value pairs)\r\n",
    "a.items()"
   ],
   "outputs": [
    {
     "output_type": "execute_result",
     "data": {
      "text/plain": [
       "dict_items([(1, 2), (3, 4), ('list', [1, 23]), ('dict', {1: 2})])"
      ]
     },
     "metadata": {},
     "execution_count": 212
    }
   ],
   "metadata": {}
  },
  {
   "cell_type": "code",
   "execution_count": 213,
   "source": [
    "# printing all the keys one by one\r\n",
    "for i in a:\r\n",
    "    print (i)"
   ],
   "outputs": [
    {
     "output_type": "stream",
     "name": "stdout",
     "text": [
      "1\n",
      "3\n",
      "list\n",
      "dict\n"
     ]
    }
   ],
   "metadata": {}
  },
  {
   "cell_type": "code",
   "execution_count": 214,
   "source": [
    "# to print the value and the key in the same line\r\n",
    "for i in a:\r\n",
    "    print(i, a[i])"
   ],
   "outputs": [
    {
     "output_type": "stream",
     "name": "stdout",
     "text": [
      "1 2\n",
      "3 4\n",
      "list [1, 23]\n",
      "dict {1: 2}\n"
     ]
    }
   ],
   "metadata": {}
  },
  {
   "cell_type": "code",
   "execution_count": 215,
   "source": [
    "# will only give the values\r\n",
    "for i in a.values():\r\n",
    "    print(i)\r\n",
    "print()\r\n",
    "for i in a:\r\n",
    "    print(a[i])"
   ],
   "outputs": [
    {
     "output_type": "stream",
     "name": "stdout",
     "text": [
      "2\n",
      "4\n",
      "[1, 23]\n",
      "{1: 2}\n",
      "\n",
      "2\n",
      "4\n",
      "[1, 23]\n",
      "{1: 2}\n"
     ]
    }
   ],
   "metadata": {}
  },
  {
   "cell_type": "markdown",
   "source": [
    "#### Check if a key exists in a dictonary"
   ],
   "metadata": {}
  },
  {
   "cell_type": "code",
   "execution_count": 216,
   "source": [
    "print('list' in a)\r\n",
    "print('hello' in a)"
   ],
   "outputs": [
    {
     "output_type": "stream",
     "name": "stdout",
     "text": [
      "True\n",
      "False\n"
     ]
    }
   ],
   "metadata": {}
  },
  {
   "cell_type": "markdown",
   "source": [
    "#### Adding & Removing Data in a Dictionary"
   ],
   "metadata": {}
  },
  {
   "cell_type": "code",
   "execution_count": 217,
   "source": [
    "a"
   ],
   "outputs": [
    {
     "output_type": "execute_result",
     "data": {
      "text/plain": [
       "{1: 2, 3: 4, 'list': [1, 23], 'dict': {1: 2}}"
      ]
     },
     "metadata": {},
     "execution_count": 217
    }
   ],
   "metadata": {}
  },
  {
   "cell_type": "code",
   "execution_count": 218,
   "source": [
    " # Adding an element\r\n",
    " a['tup'] = (1,2,3)\r\n",
    "print(a)"
   ],
   "outputs": [
    {
     "output_type": "stream",
     "name": "stdout",
     "text": [
      "{1: 2, 3: 4, 'list': [1, 23], 'dict': {1: 2}, 'tup': (1, 2, 3)}\n"
     ]
    }
   ],
   "metadata": {}
  },
  {
   "cell_type": "code",
   "execution_count": 219,
   "source": [
    "# Updating an element\r\n",
    "a[1] = 10\r\n",
    "a"
   ],
   "outputs": [
    {
     "output_type": "execute_result",
     "data": {
      "text/plain": [
       "{1: 10, 3: 4, 'list': [1, 23], 'dict': {1: 2}, 'tup': (1, 2, 3)}"
      ]
     },
     "metadata": {},
     "execution_count": 219
    }
   ],
   "metadata": {}
  },
  {
   "cell_type": "code",
   "execution_count": 220,
   "source": [
    "b = {3:5, 'the':4, 2:100}"
   ],
   "outputs": [],
   "metadata": {}
  },
  {
   "cell_type": "code",
   "execution_count": 221,
   "source": [
    "# Will update all the values of b into a and the keys which are common will be updated\r\n",
    "a.update(b)\r\n",
    "print(a)"
   ],
   "outputs": [
    {
     "output_type": "stream",
     "name": "stdout",
     "text": [
      "{1: 10, 3: 5, 'list': [1, 23], 'dict': {1: 2}, 'tup': (1, 2, 3), 'the': 4, 2: 100}\n"
     ]
    }
   ],
   "metadata": {}
  },
  {
   "cell_type": "code",
   "execution_count": 222,
   "source": [
    "# Removing an element\r\n",
    "print(a)\r\n",
    "a.pop('tup') # passing a key"
   ],
   "outputs": [
    {
     "output_type": "stream",
     "name": "stdout",
     "text": [
      "{1: 10, 3: 5, 'list': [1, 23], 'dict': {1: 2}, 'tup': (1, 2, 3), 'the': 4, 2: 100}\n"
     ]
    },
    {
     "output_type": "execute_result",
     "data": {
      "text/plain": [
       "(1, 2, 3)"
      ]
     },
     "metadata": {},
     "execution_count": 222
    }
   ],
   "metadata": {}
  },
  {
   "cell_type": "code",
   "execution_count": 223,
   "source": [
    "del a[1]\r\n",
    "a"
   ],
   "outputs": [
    {
     "output_type": "execute_result",
     "data": {
      "text/plain": [
       "{3: 5, 'list': [1, 23], 'dict': {1: 2}, 'the': 4, 2: 100}"
      ]
     },
     "metadata": {},
     "execution_count": 223
    }
   ],
   "metadata": {}
  },
  {
   "cell_type": "code",
   "execution_count": 224,
   "source": [
    "# delete data from the dictionary\r\n",
    "a.clear()\r\n",
    "a"
   ],
   "outputs": [
    {
     "output_type": "execute_result",
     "data": {
      "text/plain": [
       "{}"
      ]
     },
     "metadata": {},
     "execution_count": 224
    }
   ],
   "metadata": {}
  },
  {
   "cell_type": "code",
   "execution_count": 225,
   "source": [
    "# To delete the dictionary itself\r\n",
    "del a"
   ],
   "outputs": [],
   "metadata": {}
  },
  {
   "cell_type": "markdown",
   "source": [
    "#### Question"
   ],
   "metadata": {}
  },
  {
   "cell_type": "markdown",
   "source": [
    "Print all the words in a sting with frequency 1"
   ],
   "metadata": {}
  },
  {
   "cell_type": "code",
   "execution_count": 251,
   "source": [
    "a = 'This is a words string having many many words'\r\n",
    "k = 2\r\n",
    "words = a.split()\r\n",
    "words"
   ],
   "outputs": [
    {
     "output_type": "execute_result",
     "data": {
      "text/plain": [
       "['This', 'is', 'a', 'words', 'string', 'having', 'many', 'many', 'words']"
      ]
     },
     "metadata": {},
     "execution_count": 251
    }
   ],
   "metadata": {}
  },
  {
   "cell_type": "code",
   "execution_count": 252,
   "source": [
    "d = {}\r\n",
    "for w in words:\r\n",
    "    if w in d:\r\n",
    "        d[w] = d[w] + 1\r\n",
    "    else:\r\n",
    "        d[w] = 1 \r\n",
    "d"
   ],
   "outputs": [
    {
     "output_type": "execute_result",
     "data": {
      "text/plain": [
       "{'This': 1, 'is': 1, 'a': 1, 'words': 2, 'string': 1, 'having': 1, 'many': 2}"
      ]
     },
     "metadata": {},
     "execution_count": 252
    }
   ],
   "metadata": {}
  },
  {
   "cell_type": "code",
   "execution_count": 253,
   "source": [
    "d = {}\r\n",
    "for w in words:\r\n",
    "    d[w] = d.get(w, 0) + 1\r\n",
    "d"
   ],
   "outputs": [
    {
     "output_type": "execute_result",
     "data": {
      "text/plain": [
       "{'This': 1, 'is': 1, 'a': 1, 'words': 2, 'string': 1, 'having': 1, 'many': 2}"
      ]
     },
     "metadata": {},
     "execution_count": 253
    }
   ],
   "metadata": {}
  },
  {
   "cell_type": "code",
   "execution_count": 254,
   "source": [
    "for w in d:\r\n",
    "    if d[w] == k:\r\n",
    "        print(w)"
   ],
   "outputs": [
    {
     "output_type": "stream",
     "name": "stdout",
     "text": [
      "words\n",
      "many\n"
     ]
    }
   ],
   "metadata": {}
  },
  {
   "cell_type": "code",
   "execution_count": 258,
   "source": [
    "# Fuction for the same\r\n",
    "def printKfreq(str, k):\r\n",
    "    words = str.split()\r\n",
    "    d = {}\r\n",
    "    for w in words:\r\n",
    "        d[w] = d.get(w, 0) + 1\r\n",
    "\r\n",
    "    for w in d:\r\n",
    "        if d[w] == k:\r\n",
    "            print(w)\r\n",
    "\r\n",
    "printKfreq('This is a words string having many many words', 2)"
   ],
   "outputs": [
    {
     "output_type": "stream",
     "name": "stdout",
     "text": [
      "words\n",
      "many\n"
     ]
    }
   ],
   "metadata": {}
  },
  {
   "cell_type": "markdown",
   "source": [
    "### Sets"
   ],
   "metadata": {}
  },
  {
   "cell_type": "markdown",
   "source": [
    "#### Introduction to sets"
   ],
   "metadata": {}
  },
  {
   "cell_type": "code",
   "execution_count": 274,
   "source": [
    "a  = {'apple', 'abc', 23}\r\n",
    "print (type(a))\r\n",
    "a"
   ],
   "outputs": [
    {
     "output_type": "stream",
     "name": "stdout",
     "text": [
      "<class 'set'>\n"
     ]
    },
    {
     "output_type": "execute_result",
     "data": {
      "text/plain": [
       "{23, 'abc', 'apple'}"
      ]
     },
     "metadata": {},
     "execution_count": 274
    }
   ],
   "metadata": {}
  },
  {
   "cell_type": "code",
   "execution_count": 275,
   "source": [
    "'abc' in a"
   ],
   "outputs": [
    {
     "output_type": "execute_result",
     "data": {
      "text/plain": [
       "True"
      ]
     },
     "metadata": {},
     "execution_count": 275
    }
   ],
   "metadata": {}
  },
  {
   "cell_type": "code",
   "execution_count": 276,
   "source": [
    "21 in a"
   ],
   "outputs": [
    {
     "output_type": "execute_result",
     "data": {
      "text/plain": [
       "False"
      ]
     },
     "metadata": {},
     "execution_count": 276
    }
   ],
   "metadata": {}
  },
  {
   "cell_type": "code",
   "execution_count": 277,
   "source": [
    "for i in a:\r\n",
    "    print (i)"
   ],
   "outputs": [
    {
     "output_type": "stream",
     "name": "stdout",
     "text": [
      "apple\n",
      "abc\n",
      "23\n"
     ]
    }
   ],
   "metadata": {}
  },
  {
   "cell_type": "code",
   "execution_count": 278,
   "source": [
    "len(a)"
   ],
   "outputs": [
    {
     "output_type": "execute_result",
     "data": {
      "text/plain": [
       "3"
      ]
     },
     "metadata": {},
     "execution_count": 278
    }
   ],
   "metadata": {}
  },
  {
   "cell_type": "code",
   "execution_count": 279,
   "source": [
    "# add data\r\n",
    "a.add('temp')\r\n",
    "a"
   ],
   "outputs": [
    {
     "output_type": "execute_result",
     "data": {
      "text/plain": [
       "{23, 'abc', 'apple', 'temp'}"
      ]
     },
     "metadata": {},
     "execution_count": 279
    }
   ],
   "metadata": {}
  },
  {
   "cell_type": "code",
   "execution_count": 280,
   "source": [
    "b = {'abc', 'ghi'}"
   ],
   "outputs": [],
   "metadata": {}
  },
  {
   "cell_type": "code",
   "execution_count": 281,
   "source": [
    "# update works similar to dictionary update\r\n",
    "a.update(b)\r\n",
    "a"
   ],
   "outputs": [
    {
     "output_type": "execute_result",
     "data": {
      "text/plain": [
       "{23, 'abc', 'apple', 'ghi', 'temp'}"
      ]
     },
     "metadata": {},
     "execution_count": 281
    }
   ],
   "metadata": {}
  },
  {
   "cell_type": "code",
   "execution_count": 282,
   "source": [
    "a.remove('temp')\r\n",
    "a"
   ],
   "outputs": [
    {
     "output_type": "execute_result",
     "data": {
      "text/plain": [
       "{23, 'abc', 'apple', 'ghi'}"
      ]
     },
     "metadata": {},
     "execution_count": 282
    }
   ],
   "metadata": {}
  },
  {
   "cell_type": "code",
   "execution_count": 283,
   "source": [
    "a.discard('ghi')\r\n",
    "a"
   ],
   "outputs": [
    {
     "output_type": "execute_result",
     "data": {
      "text/plain": [
       "{23, 'abc', 'apple'}"
      ]
     },
     "metadata": {},
     "execution_count": 283
    }
   ],
   "metadata": {}
  },
  {
   "cell_type": "code",
   "execution_count": null,
   "source": [
    "# if elemrnt not present in key then discar does not give a error like remove it ruturnes null\r\n",
    "a.discard('hello')"
   ],
   "outputs": [],
   "metadata": {}
  },
  {
   "cell_type": "code",
   "execution_count": null,
   "source": [
    "# remove one element from the set and the removed elemet will be arbritrary not necessarilyy the last element could be any element\r\n",
    "a.pop()"
   ],
   "outputs": [],
   "metadata": {}
  },
  {
   "cell_type": "markdown",
   "source": [
    "#### Functions in a set"
   ],
   "metadata": {}
  },
  {
   "cell_type": "code",
   "execution_count": 284,
   "source": [
    "a = {1,2,3,4}\r\n",
    "b = {3,4,5,6}"
   ],
   "outputs": [],
   "metadata": {}
  },
  {
   "cell_type": "code",
   "execution_count": 286,
   "source": [
    "a.intersection(b)"
   ],
   "outputs": [
    {
     "output_type": "execute_result",
     "data": {
      "text/plain": [
       "{3, 4}"
      ]
     },
     "metadata": {},
     "execution_count": 286
    }
   ],
   "metadata": {}
  },
  {
   "cell_type": "code",
   "execution_count": 287,
   "source": [
    "a.union(b)"
   ],
   "outputs": [
    {
     "output_type": "execute_result",
     "data": {
      "text/plain": [
       "{1, 2, 3, 4, 5, 6}"
      ]
     },
     "metadata": {},
     "execution_count": 287
    }
   ],
   "metadata": {}
  },
  {
   "cell_type": "code",
   "execution_count": 288,
   "source": [
    "# Eveeything that is in a but not in b\r\n",
    "a.difference(b)"
   ],
   "outputs": [
    {
     "output_type": "execute_result",
     "data": {
      "text/plain": [
       "{1, 2}"
      ]
     },
     "metadata": {},
     "execution_count": 288
    }
   ],
   "metadata": {}
  },
  {
   "cell_type": "code",
   "execution_count": 289,
   "source": [
    "# everything in b but not in a\r\n",
    "b.difference(a)"
   ],
   "outputs": [
    {
     "output_type": "execute_result",
     "data": {
      "text/plain": [
       "{5, 6}"
      ]
     },
     "metadata": {},
     "execution_count": 289
    }
   ],
   "metadata": {}
  },
  {
   "cell_type": "code",
   "execution_count": 290,
   "source": [
    "# ignore the intersection and take everything else\r\n",
    "a.symmetric_difference(b)"
   ],
   "outputs": [
    {
     "output_type": "execute_result",
     "data": {
      "text/plain": [
       "{1, 2, 5, 6}"
      ]
     },
     "metadata": {},
     "execution_count": 290
    }
   ],
   "metadata": {}
  },
  {
   "cell_type": "code",
   "execution_count": 291,
   "source": [
    "# Will actually change the value inside the the set a\r\n",
    "a.intersection_update(b)\r\n",
    "a"
   ],
   "outputs": [
    {
     "output_type": "execute_result",
     "data": {
      "text/plain": [
       "{3, 4}"
      ]
     },
     "metadata": {},
     "execution_count": 291
    }
   ],
   "metadata": {}
  },
  {
   "cell_type": "code",
   "execution_count": 293,
   "source": [
    "a = {1,2,3,4}\r\n",
    "b = {3,4,5,6}\r\n",
    "a.difference_update(b)\r\n",
    "a"
   ],
   "outputs": [
    {
     "output_type": "execute_result",
     "data": {
      "text/plain": [
       "{1, 2}"
      ]
     },
     "metadata": {},
     "execution_count": 293
    }
   ],
   "metadata": {}
  },
  {
   "cell_type": "code",
   "execution_count": 294,
   "source": [
    "a = {1,2,3,4}\r\n",
    "b = {3,4,5,6}\r\n",
    "a.symmetric_difference_update(b)\r\n",
    "a\r\n",
    "# there is no a . union update"
   ],
   "outputs": [
    {
     "output_type": "execute_result",
     "data": {
      "text/plain": [
       "{1, 2, 5, 6}"
      ]
     },
     "metadata": {},
     "execution_count": 294
    }
   ],
   "metadata": {}
  },
  {
   "cell_type": "code",
   "execution_count": 296,
   "source": [
    "a.issubset(b)"
   ],
   "outputs": [
    {
     "output_type": "execute_result",
     "data": {
      "text/plain": [
       "False"
      ]
     },
     "metadata": {},
     "execution_count": 296
    }
   ],
   "metadata": {}
  },
  {
   "cell_type": "code",
   "execution_count": 297,
   "source": [
    "b.issubset(a)"
   ],
   "outputs": [
    {
     "output_type": "execute_result",
     "data": {
      "text/plain": [
       "False"
      ]
     },
     "metadata": {},
     "execution_count": 297
    }
   ],
   "metadata": {}
  },
  {
   "cell_type": "code",
   "execution_count": 300,
   "source": [
    "c= {3,4}\r\n",
    "a = {1,2,3,4}\r\n",
    "c.issubset(a)"
   ],
   "outputs": [
    {
     "output_type": "execute_result",
     "data": {
      "text/plain": [
       "True"
      ]
     },
     "metadata": {},
     "execution_count": 300
    }
   ],
   "metadata": {}
  },
  {
   "cell_type": "code",
   "execution_count": 301,
   "source": [
    "a.issuperset(c)"
   ],
   "outputs": [
    {
     "output_type": "execute_result",
     "data": {
      "text/plain": [
       "True"
      ]
     },
     "metadata": {},
     "execution_count": 301
    }
   ],
   "metadata": {}
  },
  {
   "cell_type": "code",
   "execution_count": 302,
   "source": [
    "a.isdisjoint(b)"
   ],
   "outputs": [
    {
     "output_type": "execute_result",
     "data": {
      "text/plain": [
       "False"
      ]
     },
     "metadata": {},
     "execution_count": 302
    }
   ],
   "metadata": {}
  },
  {
   "cell_type": "code",
   "execution_count": 303,
   "source": [
    "d = [1000,78]\r\n",
    "a.isdisjoint(d)"
   ],
   "outputs": [
    {
     "output_type": "execute_result",
     "data": {
      "text/plain": [
       "True"
      ]
     },
     "metadata": {},
     "execution_count": 303
    }
   ],
   "metadata": {}
  },
  {
   "cell_type": "markdown",
   "source": [
    "#### Empty set"
   ],
   "metadata": {}
  },
  {
   "cell_type": "code",
   "execution_count": 305,
   "source": [
    "s = set()\r\n",
    "print(type(s))"
   ],
   "outputs": [
    {
     "output_type": "stream",
     "name": "stdout",
     "text": [
      "<class 'set'>\n"
     ]
    }
   ],
   "metadata": {}
  },
  {
   "cell_type": "markdown",
   "source": [
    "#### Sum of all unique numbers in a list"
   ],
   "metadata": {}
  },
  {
   "cell_type": "code",
   "execution_count": 309,
   "source": [
    "def sumUnique(l):\r\n",
    "    # Adding all the list elements into a list\r\n",
    "    s = set()\r\n",
    "    for i in l:\r\n",
    "        s.add(i)\r\n",
    "    sum = 0\r\n",
    "    # Takinga a sum of all the elements in the set\r\n",
    "    for i in s:\r\n",
    "        sum += i\r\n",
    "    return sum\r\n",
    "\r\n",
    "sumUnique([2,6,5,9,4,2])\r\n"
   ],
   "outputs": [
    {
     "output_type": "execute_result",
     "data": {
      "text/plain": [
       "26"
      ]
     },
     "metadata": {},
     "execution_count": 309
    }
   ],
   "metadata": {}
  },
  {
   "cell_type": "code",
   "execution_count": null,
   "source": [],
   "outputs": [],
   "metadata": {}
  }
 ],
 "metadata": {
  "orig_nbformat": 4,
  "language_info": {
   "name": "python"
  }
 },
 "nbformat": 4,
 "nbformat_minor": 2
}