{
 "cells": [
  {
   "cell_type": "code",
   "execution_count": 6,
   "source": [
    "n = int(input())\r\n",
    "if n > 0:\r\n",
    "    print('Positive')\r\n",
    "elif n < 0:\r\n",
    "    print('Negetive')\r\n",
    "else:\r\n",
    "    print('Zero')"
   ],
   "outputs": [
    {
     "output_type": "stream",
     "name": "stdout",
     "text": [
      "Positive\n"
     ]
    }
   ],
   "metadata": {}
  },
  {
   "cell_type": "code",
   "execution_count": 9,
   "source": [
    "n = int(input())\r\n",
    "ctr = 1\r\n",
    "sum = 0\r\n",
    "while ctr <= n:\r\n",
    "    sum = sum + ctr\r\n",
    "    ctr += 1\r\n",
    "print(sum)\r\n",
    "    "
   ],
   "outputs": [
    {
     "output_type": "stream",
     "name": "stdout",
     "text": [
      "55\n"
     ]
    }
   ],
   "metadata": {}
  },
  {
   "cell_type": "code",
   "execution_count": 14,
   "source": [
    "n = int(input())\r\n",
    "ctr = 1\r\n",
    "sum = 0\r\n",
    "while ctr <= n:\r\n",
    "    if ctr%2 == 0:\r\n",
    "        sum += ctr\r\n",
    "        ctr +=1\r\n",
    "    else:\r\n",
    "        ctr +=1\r\n",
    "print(sum)\r\n",
    "    \r\n",
    "    "
   ],
   "outputs": [
    {
     "output_type": "stream",
     "name": "stdout",
     "text": [
      "12\n"
     ]
    }
   ],
   "metadata": {}
  },
  {
   "cell_type": "code",
   "execution_count": 17,
   "source": [
    "n = int(input())\r\n",
    "a =2\r\n",
    "\r\n",
    "flag = True\r\n",
    "while a < n:\r\n",
    "    if n % a == 0:\r\n",
    "        flag = False\r\n",
    "    a +=1\r\n",
    "\r\n",
    "if flag == True:\r\n",
    "    print('No. is prime')\r\n",
    "else:\r\n",
    "    print('No. is not prime')"
   ],
   "outputs": [
    {
     "output_type": "stream",
     "name": "stdout",
     "text": [
      "No. is prime\n"
     ]
    }
   ],
   "metadata": {}
  },
  {
   "cell_type": "code",
   "execution_count": 28,
   "source": [
    "n = int(input())\r\n",
    "a = 2\r\n",
    "flag = True\r\n",
    "while a < n-1:\r\n",
    "    if n % a ==0:\r\n",
    "        flag = False\r\n",
    "    a +=1\r\n",
    "if flag:\r\n",
    "    print('Y')\r\n",
    "else:\r\n",
    "    print('N')\r\n",
    "    "
   ],
   "outputs": [
    {
     "output_type": "stream",
     "name": "stdout",
     "text": [
      "Y\n"
     ]
    }
   ],
   "metadata": {}
  },
  {
   "cell_type": "code",
   "execution_count": 37,
   "source": [
    "n = int(input())\r\n",
    "k = 2\r\n",
    "while  k<= n:\r\n",
    "    flag = False\r\n",
    "    d = 2\r\n",
    "    while d < k:\r\n",
    "        if k % d == 0:\r\n",
    "            flag = True\r\n",
    "        d +=1\r\n",
    "    if not flag:\r\n",
    "        print(k)\r\n",
    "    k +=1"
   ],
   "outputs": [
    {
     "output_type": "stream",
     "name": "stdout",
     "text": [
      "2\n",
      "3\n",
      "5\n",
      "7\n"
     ]
    }
   ],
   "metadata": {}
  },
  {
   "cell_type": "code",
   "execution_count": 3,
   "source": [
    "def reverse(n):\r\n",
    "    rev = 0\r\n",
    "    while(n >0):\r\n",
    "        reminder =n % 10\r\n",
    "        rev = (rev * 10) + reminder\r\n",
    "        n = n // 10\r\n",
    "    return rev\r\n",
    "\r\n",
    "n=int(input())\r\n",
    "result = reverse(n)\r\n",
    "print(result)  \r\n",
    "    \r\n"
   ],
   "outputs": [
    {
     "output_type": "stream",
     "name": "stdout",
     "text": [
      "4321\n"
     ]
    }
   ],
   "metadata": {}
  },
  {
   "cell_type": "code",
   "execution_count": 10,
   "source": [
    "def isPalindrome(n):\r\n",
    "    temp = n\r\n",
    "    rev = 0\r\n",
    "    while n > 0:\r\n",
    "        x = n % 10\r\n",
    "        rev = (rev * 10) + x\r\n",
    "        n = n // 10\r\n",
    "    if rev == temp:\r\n",
    "        return True\r\n",
    "    else:\r\n",
    "        False\r\n",
    "        \r\n",
    "num = int(input())\r\n",
    "isPalindrome = isPalindrome(num)\r\n",
    "if(isPalindrome):\r\n",
    "\tprint('true')\r\n",
    "else:\r\n",
    "\tprint('false')\r\n",
    "        "
   ],
   "outputs": [
    {
     "output_type": "stream",
     "name": "stdout",
     "text": [
      "false\n"
     ]
    }
   ],
   "metadata": {}
  },
  {
   "cell_type": "code",
   "execution_count": null,
   "source": [],
   "outputs": [],
   "metadata": {}
  }
 ],
 "metadata": {
  "orig_nbformat": 4,
  "language_info": {
   "name": "python",
   "version": "3.8.8",
   "mimetype": "text/x-python",
   "codemirror_mode": {
    "name": "ipython",
    "version": 3
   },
   "pygments_lexer": "ipython3",
   "nbconvert_exporter": "python",
   "file_extension": ".py"
  },
  "kernelspec": {
   "name": "python3",
   "display_name": "Python 3.8.8 64-bit ('base': conda)"
  },
  "interpreter": {
   "hash": "5f64f01a6cdb813bd23f3c2980301e513b65108ef9650403b1a46775be8a9390"
  }
 },
 "nbformat": 4,
 "nbformat_minor": 2
}