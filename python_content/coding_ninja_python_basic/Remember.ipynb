{
 "cells": [
  {
<<<<<<< HEAD
   "cell_type": "code",
   "execution_count": null,
   "source": [],
   "outputs": [],
   "metadata": {}
  },
  {
=======
>>>>>>> 2d6918a7539aa6242deba92e4cb52dccbedd6f8d
   "cell_type": "markdown",
   "source": [
    "# Important things to remember"
   ],
   "metadata": {}
  },
  {
   "cell_type": "markdown",
   "source": [
    "## Print 'end' parameter"
   ],
   "metadata": {}
  },
  {
   "cell_type": "code",
   "execution_count": 12,
   "source": [
    "n = 5\r\n",
    "i = 1\r\n",
    "while i <= n:\r\n",
    "    j = 1\r\n",
    "    while j<=i:\r\n",
    "        print(j, end = '*')\r\n",
    "        j+=1\r\n",
    "    print()\r\n",
    "    i+=1   \r\n"
   ],
   "outputs": [
    {
     "output_type": "stream",
     "name": "stdout",
     "text": [
      "1*\n",
      "1*2*\n",
      "1*2*3*\n",
      "1*2*3*4*\n",
      "1*2*3*4*5*\n"
     ]
    }
   ],
   "metadata": {}
  },
  {
   "cell_type": "markdown",
   "source": [
    "## Input of a things in python"
   ],
   "metadata": {}
  },
  {
   "cell_type": "markdown",
   "source": [
    "a - string input eg - 'Avishek Roy'  \r\n",
    "b - integer input eg - '9999'"
   ],
   "metadata": {}
  },
  {
   "cell_type": "code",
   "execution_count": 2,
   "source": [
    "a = input()\r\n",
    "b = int(input())\r\n",
    "print(a)\r\n",
    "print(b)"
   ],
   "outputs": [
    {
     "output_type": "stream",
     "name": "stdout",
     "text": [
      "Avisehk Roy\n",
      "9999\n"
     ]
    }
   ],
   "metadata": {}
  },
  {
   "cell_type": "markdown",
   "source": [
    "## Input of multiple strings in a line"
   ],
   "metadata": {}
  },
  {
   "cell_type": "markdown",
   "source": [
    "The input is given as  \r\n",
    "Avishek 9999 A2"
   ],
   "metadata": {}
  },
  {
   "cell_type": "code",
   "execution_count": 7,
   "source": [
    "x, y, z = input(\"Enter a three value: \").split()\r\n",
    "print(x)\r\n",
    "print(y)\r\n",
    "print(z)"
   ],
   "outputs": [
    {
     "output_type": "stream",
     "name": "stdout",
     "text": [
      "Avisehk\n",
      "9999\n",
      "A2\n"
     ]
    }
   ],
   "metadata": {}
  },
  {
   "cell_type": "markdown",
   "source": [
    "## Functions and the Default Arguments"
   ],
   "metadata": {}
  },
  {
   "cell_type": "code",
   "execution_count": 13,
   "source": [
    "def sum0(a,b):\r\n",
    "    return a + b\r\n",
    "\r\n",
    "def sum1(a,b,c):\r\n",
    "    return a + b + c\r\n",
    "# but if we don't want to make a function 2 times then we can...\r\n",
    "# ALL NON DEFAULT ARGUMNETS SHOULD BE BEFORE ARGUMENTS WITH DEFAULT ARGUMNETS\r\n",
    "\r\n",
    "def sum(a,b,c=0):\r\n",
    "    return a + b + c\r\n",
    "\r\n",
    "print(sum(2,3,4))\r\n",
    "print(sum(2,3))"
   ],
   "outputs": [
    {
     "output_type": "stream",
     "name": "stdout",
     "text": [
      "9\n",
      "5\n"
     ]
    }
   ],
   "metadata": {}
  },
  {
   "cell_type": "markdown",
   "source": [
    "## Functions with Variable Length Input"
   ],
   "metadata": {}
  },
  {
   "cell_type": "code",
   "execution_count": 2,
   "source": [
    "def varInput(a,b, *more):\r\n",
    "    \r\n",
    "    return(a,b, more)\r\n",
    "\r\n",
    "print(varInput(2,3))\r\n",
    "print(varInput(2,3,4,5,6))"
   ],
   "outputs": [
    {
     "output_type": "stream",
     "name": "stdout",
     "text": [
      "(2, 3, ())\n",
      "(2, 3, (4, 5, 6))\n"
     ]
    }
   ],
   "metadata": {}
  },
  {
   "cell_type": "markdown",
   "source": [
    "## Functions with Variable Length Output"
   ],
   "metadata": {}
  },
  {
   "cell_type": "code",
   "execution_count": 3,
   "source": [
    "def sum_multiply(a,b,*more):\r\n",
    "    sum_value = a+b\r\n",
    "    m_value = a*b\r\n",
    "    for i in more:\r\n",
    "        sum_value += i\r\n",
    "        m_value*=i\r\n",
    "    return sum_value,m_value\r\n",
    "s_m = sum_multiply(2,3,4)\r\n",
    "print(s_m)"
   ],
   "outputs": [
    {
     "output_type": "stream",
     "name": "stdout",
     "text": [
      "(9, 24)\n"
     ]
    }
   ],
   "metadata": {}
  },
  {
   "cell_type": "markdown",
   "source": [
    "## Slicing in a List"
   ],
   "metadata": {}
  },
  {
   "cell_type": "code",
   "execution_count": 25,
   "source": [
    "li = [1,2,3,4,5,6,7,8,9,10]\r\n",
    "print(li[2:5])\r\n",
    "print(li[::])\r\n",
    "print(li[-2:0:-1])\r\n",
    "print(li[-2::-1])\r\n",
    "print(li[::-1])"
   ],
   "outputs": [
    {
     "output_type": "stream",
     "name": "stdout",
     "text": [
      "[3, 4, 5]\n",
      "[1, 2, 3, 4, 5, 6, 7, 8, 9, 10]\n",
      "[9, 8, 7, 6, 5, 4, 3, 2]\n",
      "[9, 8, 7, 6, 5, 4, 3, 2, 1]\n",
      "[10, 9, 8, 7, 6, 5, 4, 3, 2, 1]\n"
     ]
    }
   ],
   "metadata": {}
  },
  {
   "cell_type": "markdown",
   "source": [
    "## Looping in a List"
   ],
   "metadata": {}
  },
  {
   "cell_type": "markdown",
   "source": [
    "2 ways to loop through the list\r\n",
    "1. Non Index Looping\r\n",
    "2. Indexed Looping"
   ],
   "metadata": {}
  },
  {
   "cell_type": "code",
   "execution_count": 26,
   "source": [
    "# Non Indexed Looping\r\n",
    "li = [1,2,3,4,5,6,7,8,9,10]\r\n",
    "for i in li:\r\n",
    "    print(i)"
   ],
   "outputs": [
    {
     "output_type": "stream",
     "name": "stdout",
     "text": [
      "1\n",
      "2\n",
      "3\n",
      "4\n",
      "5\n",
      "6\n",
      "7\n",
      "8\n",
      "9\n",
      "10\n"
     ]
    }
   ],
   "metadata": {}
  },
  {
   "cell_type": "code",
   "execution_count": 27,
   "source": [
    "# Indexed Looping\r\n",
    "li = [1,2,3,4,5,6,7,8,9,10]\r\n",
    "for i in range(len(li)):\r\n",
    "    print(li[i])"
   ],
   "outputs": [
    {
     "output_type": "stream",
     "name": "stdout",
     "text": [
      "1\n",
      "2\n",
      "3\n",
      "4\n",
      "5\n",
      "6\n",
      "7\n",
      "8\n",
      "9\n",
      "10\n"
     ]
    }
   ],
   "metadata": {}
  },
  {
   "cell_type": "markdown",
   "source": [
    "## Taking input in a list"
   ],
   "metadata": {}
  },
  {
   "cell_type": "markdown",
   "source": [
    "<pre>\r\n",
    "We can take two types of input in a list\r\n",
    "1. Line seperate input in a list\r\n",
    "    The input is given in the form:\r\n",
    "    4\r\n",
    "    1\r\n",
    "    2\r\n",
    "    3\r\n",
    "    4\r\n",
    "2. Space seperated in puts in a list\r\n",
    "   1 2 3 4\r\n",
    "<pre>"
   ],
   "metadata": {}
  },
  {
   "cell_type": "code",
   "execution_count": 30,
   "source": [
    "# 1. Line seperate input in a list\r\n",
    "n = int(input())\r\n",
    "c = []\r\n",
    "for i in range(n):\r\n",
    "    curr = int(input())\r\n",
    "    c.append(curr)\r\n",
    "\r\n",
    "print('The output for c is: ',c, 'and there are n elements in the list, n =',n)"
   ],
   "outputs": [
    {
     "output_type": "stream",
     "name": "stdout",
     "text": [
      "The output for c is:  [1, 2, 3, 4] and there are n elements in the list, n = 4\n"
     ]
    }
   ],
   "metadata": {}
  },
  {
   "cell_type": "code",
   "execution_count": 31,
   "source": [
    "# 2. Space seperated in puts in a list\r\n",
    "d = [int(x) for x in input().split(' ')]\r\n",
    "print(d)"
   ],
   "outputs": [
    {
     "output_type": "stream",
     "name": "stdout",
     "text": [
      "[1, 2, 3, 4]\n"
     ]
    }
   ],
   "metadata": {}
  },
  {
   "cell_type": "markdown",
   "source": [
    "## List Comprehension"
   ],
   "metadata": {}
  },
  {
   "cell_type": "markdown",
   "source": [
    "Makes the same code smaller"
   ],
   "metadata": {}
  },
  {
   "cell_type": "code",
   "execution_count": 32,
   "source": [
    "# Bigger code\r\n",
    "li = [1,2,3,4]\r\n",
    "li_new = []\r\n",
    "for ele in li:\r\n",
    "    li_new.append(ele**2)\r\n",
    "print(li_new)"
   ],
   "outputs": [
    {
     "output_type": "stream",
     "name": "stdout",
     "text": [
      "[1, 4, 9, 16]\n"
     ]
    }
   ],
   "metadata": {}
  },
  {
   "cell_type": "code",
   "execution_count": 33,
   "source": [
    "# Smaller Code\r\n",
    "li_new2 = [ele**2 for ele in li]\r\n",
    "li_new2"
   ],
   "outputs": [
    {
     "output_type": "execute_result",
     "data": {
      "text/plain": [
       "[1, 4, 9, 16]"
      ]
     },
     "metadata": {},
     "execution_count": 33
    }
   ],
   "metadata": {}
  },
  {
   "cell_type": "code",
   "execution_count": 34,
   "source": [
    "# 2D List Comprehension\r\n",
    "# we can generate 2d lists using comprehensions\r\n",
    "#each row will have a list of names and the list of names will be broken into characters inside the list\r\n",
    "li = ['Avishek','Bhuvan','Keshav']\r\n",
    "li_2D = [[s for s in ele] for ele in li]\r\n",
    "li_2D"
   ],
   "outputs": [
    {
     "output_type": "execute_result",
     "data": {
      "text/plain": [
       "[['A', 'v', 'i', 's', 'h', 'e', 'k'],\n",
       " ['B', 'h', 'u', 'v', 'a', 'n'],\n",
       " ['K', 'e', 's', 'h', 'a', 'v']]"
      ]
     },
     "metadata": {},
     "execution_count": 34
    }
   ],
   "metadata": {}
  },
  {
   "cell_type": "markdown",
   "source": [
    "## Input of a 2D list"
   ],
   "metadata": {}
  },
  {
   "cell_type": "markdown",
   "source": [
    "<pre>\r\n",
    "TYPE - 1\r\n",
    "the input is given as\r\n",
    "3 4\r\n",
    "1 2 3 4 \r\n",
    "5 6 7 8\r\n",
    "9 10 11 12\r\n",
    "</pre>"
   ],
   "metadata": {}
  },
  {
   "cell_type": "code",
   "execution_count": 2,
   "source": [
    "# Input of n,m\r\n",
    "str = input().split()\r\n",
    "n,m = int(str[0]), int(str[1])\r\n",
    "# Input of the 2D List\r\n",
    "li = [[int(j) for j in input().split()] for i in range(n)]\r\n",
    "li"
   ],
   "outputs": [
    {
     "output_type": "execute_result",
     "data": {
      "text/plain": [
       "[[1, 2, 3, 4], [5, 6, 7, 8], [9, 10, 11, 12]]"
      ]
     },
     "metadata": {},
     "execution_count": 2
    }
   ],
   "metadata": {}
  },
  {
   "cell_type": "markdown",
   "source": [
    "<pre>\r\n",
    "TYPE - 2\r\n",
    "JAGGERED LIST\r\n",
    "the input is given int the form:  \r\n",
    "4\r\n",
    "1 2 3 4\r\n",
    "5 6\r\n",
    "7\r\n",
    "8 9 10\r\n",
    "<pre>"
   ],
   "metadata": {}
  },
  {
   "cell_type": "code",
   "execution_count": 4,
   "source": [
    "n = int(input())\r\n",
    "li = [[int(j) for j in input().split()] for i in range(n)]\r\n",
    "li"
   ],
   "outputs": [
    {
     "output_type": "execute_result",
     "data": {
      "text/plain": [
       "[[1, 2, 3, 4], [5, 6], [7], [8, 9, 10]]"
      ]
     },
     "metadata": {},
     "execution_count": 4
    }
   ],
   "metadata": {}
  },
  {
   "cell_type": "markdown",
   "source": [
    "<pre>\r\n",
    "TYPE - 3\r\n",
    "The input will be of the kind that first line will specify n,m(rows and column) and the 2D list will have each row in a different line:  \r\n",
    "n - number of lists, m - number of elements in each list\r\n",
    "3 4  \r\n",
    "1 2 3 4 5 6 7 8 9 10 11 12\r\n",
    "\r\n",
    "With the formula m*i + j - row is given by m*i and column given by j\r\n",
    "</pre>"
   ],
   "metadata": {}
  },
  {
   "cell_type": "code",
   "execution_count": 1,
   "source": [
    "str = input().split()\r\n",
    "n,m = int(str[0]), int(str[1])\r\n",
    "b =  input().split()\r\n",
    "arr = [ [ int(b[m*i+j]) for j in range(m)] for i in range(n)]\r\n",
    "arr"
   ],
   "outputs": [
    {
     "output_type": "execute_result",
     "data": {
      "text/plain": [
       "[[1, 2, 3, 4], [5, 6, 7, 8], [9, 10, 11, 12]]"
      ]
     },
     "metadata": {},
     "execution_count": 1
    }
   ],
   "metadata": {}
  },
  {
   "cell_type": "markdown",
   "source": [
    "<pre>\r\n",
    "TYPE - 4\r\n",
    "Input of the form  \r\n",
    "3 4 1 2 3 4 5 6 7 8 9 10 11 12  \r\n",
    "Here 3 and 4 are n,m specified in the same line"
   ],
   "metadata": {}
  },
  {
   "cell_type": "code",
   "execution_count": 2,
   "source": [
    "str = input().split()\r\n",
    "n,m = int(str[0]), int(str[1])\r\n",
    "b =  str[2:]\r\n",
    "arr = [ [ int(b[m*i+j]) for j in range(m)] for i in range(n)]\r\n",
    "arr"
   ],
   "outputs": [
    {
     "output_type": "execute_result",
     "data": {
      "text/plain": [
       "[[1, 2, 3, 4], [5, 6, 7, 8], [9, 10, 11, 12]]"
      ]
     },
     "metadata": {},
     "execution_count": 2
    }
   ],
   "metadata": {}
  },
  {
   "cell_type": "markdown",
   "source": [
    "### Output of a 2D List"
   ],
   "metadata": {}
  },
  {
   "cell_type": "markdown",
   "source": [
    "<pre>\r\n",
    "TYPE 1\r\n",
    "each element in a differet line\r\n",
    "we have to know n,m\r\n",
    "n - number of rows inside a list, \r\n",
    "m - the no of element present inside the list which is inside the bigger list\r\n",
    "</pre>"
   ],
   "metadata": {}
  },
  {
   "cell_type": "code",
   "execution_count": 5,
   "source": [
    "li = [1,2,3,4],[5,6,7,8],[9,10,11,12]\r\n",
    "n = 3\r\n",
    "m = 4\r\n",
    "for i in range(n):\r\n",
    "    for j in range(m):\r\n",
    "        print(li[i][j])"
   ],
   "outputs": [
    {
     "output_type": "stream",
     "name": "stdout",
     "text": [
      "1\n",
      "2\n",
      "3\n",
      "4\n",
      "5\n",
      "6\n",
      "7\n",
      "8\n",
      "9\n",
      "10\n",
      "11\n",
      "12\n"
     ]
    }
   ],
   "metadata": {}
  },
  {
   "cell_type": "markdown",
   "source": [
    "TYPE 2  \r\n",
    "each row of a 2D List in a different line - bot normal and jaggered\r\n"
   ],
   "metadata": {}
  },
  {
   "cell_type": "code",
   "execution_count": 8,
   "source": [
    "li = [[1,2,3,4],[5,6],[9,10,11]]\r\n",
    "n = len(li)\r\n",
    "# as 2D Lists are itself a list, it is a list of list we can use the for in operator to iterate over each list inside the list\r\n",
    "for row in li:\r\n",
    "    for ele in row:\r\n",
    "        print(ele, end=' ')\r\n",
    "    print()\r\n",
    "# in this case it does not matter we know the range of m or not we can print it irrespective"
   ],
   "outputs": [
    {
     "output_type": "stream",
     "name": "stdout",
     "text": [
      "1 2 3 4 \n",
      "5 6 \n",
      "9 10 11 \n"
     ]
    }
   ],
   "metadata": {}
  },
  {
   "cell_type": "code",
   "execution_count": 9,
   "source": [
    "li = [1,2,3,4],[5,6,7,8],[9,10,11,12]\r\n",
    "n = len(li)\r\n",
    "for row in li:\r\n",
    "    for ele in row:\r\n",
    "        print(ele, end=' ')\r\n",
    "    print()"
   ],
   "outputs": [
    {
     "output_type": "stream",
     "name": "stdout",
     "text": [
      "1 2 3 4 \n",
      "5 6 7 8 \n",
      "9 10 11 12 \n"
     ]
    }
   ],
   "metadata": {}
  },
  {
   "cell_type": "markdown",
   "source": [
    "TYPE -3\r\n",
    "each row printed in one line"
   ],
   "metadata": {}
  },
  {
   "cell_type": "markdown",
<<<<<<< HEAD
   "source": [
    "## Sorting"
   ],
   "metadata": {}
  },
  {
   "cell_type": "markdown",
   "source": [
    "### Selection Sort"
   ],
   "metadata": {}
  },
  {
   "cell_type": "code",
   "execution_count": null,
   "source": [],
   "outputs": [],
   "metadata": {}
  },
  {
   "cell_type": "markdown",
   "source": [
    "### Bubble Sort"
   ],
   "metadata": {}
  },
  {
   "cell_type": "code",
   "execution_count": null,
   "source": [],
   "outputs": [],
   "metadata": {}
  },
  {
   "cell_type": "markdown",
   "source": [
    "### Insertion Sort"
   ],
   "metadata": {}
  },
  {
   "cell_type": "code",
   "execution_count": null,
   "source": [],
   "outputs": [],
   "metadata": {}
  },
  {
   "cell_type": "markdown",
   "source": [
    "### Merge Sort"
   ],
   "metadata": {}
  },
  {
   "cell_type": "code",
   "execution_count": null,
   "source": [],
   "outputs": [],
   "metadata": {}
  },
  {
   "cell_type": "markdown",
   "source": [
    "### Merge Sort"
   ],
   "metadata": {}
  },
  {
   "cell_type": "code",
   "execution_count": null,
   "source": [],
   "outputs": [],
   "metadata": {}
  },
  {
   "cell_type": "markdown",
   "source": [
    "### Ouick Sort"
   ],
=======
   "source": [],
>>>>>>> 2d6918a7539aa6242deba92e4cb52dccbedd6f8d
   "metadata": {}
  }
 ],
 "metadata": {
  "orig_nbformat": 4,
  "language_info": {
   "name": "python"
  }
 },
 "nbformat": 4,
 "nbformat_minor": 2
}